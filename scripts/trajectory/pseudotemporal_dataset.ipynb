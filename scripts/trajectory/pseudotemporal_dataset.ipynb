{
 "cells": [
  {
   "cell_type": "markdown",
   "metadata": {},
   "source": [
    "# Pseudotemporal dataset"
   ]
  },
  {
   "cell_type": "code",
   "execution_count": 1,
   "metadata": {},
   "outputs": [
    {
     "name": "stdout",
     "output_type": "stream",
     "text": [
      "\u001b[92m→\u001b[0m connected lamindb: theislab/sc-best-practices\n"
     ]
    }
   ],
   "source": [
    "import lamindb as ln\n",
    "import scanpy as sc"
   ]
  },
  {
   "cell_type": "code",
   "execution_count": 2,
   "metadata": {},
   "outputs": [],
   "source": [
    "assert ln.setup.settings.instance.slug == \"theislab/sc-best-practices\""
   ]
  },
  {
   "cell_type": "code",
   "execution_count": 3,
   "metadata": {},
   "outputs": [
    {
     "name": "stdout",
     "output_type": "stream",
     "text": [
      "\u001b[92m→\u001b[0m loaded Transform('6QcwslTJCWhW0001'), re-started Run('gunbofig...') at 2025-02-19 09:12:59 UTC\n",
      "\u001b[92m→\u001b[0m notebook imports: lamindb==1.1.0 scanpy==1.11.0\n"
     ]
    }
   ],
   "source": [
    "ln.track()"
   ]
  },
  {
   "cell_type": "code",
   "execution_count": 4,
   "metadata": {},
   "outputs": [
    {
     "data": {
      "text/plain": [
       "AnnData object with n_obs × n_vars = 5780 × 27876\n",
       "    obs: 'clusters', 'palantir_pseudotime', 'palantir_diff_potential'\n",
       "    var: 'palantir'\n",
       "    uns: 'clusters_colors', 'palantir_branch_probs_cell_types'\n",
       "    obsm: 'MAGIC_imputed_data', 'X_tsne', 'palantir_branch_probs'\n",
       "    layers: 'spliced', 'unspliced'"
      ]
     },
     "execution_count": 4,
     "metadata": {},
     "output_type": "execute_result"
    }
   ],
   "source": [
    "adata = sc.read(\n",
    "    filename=\"bonemarrow.h5ad\",\n",
    "    backup_url=\"https://figshare.com/ndownloader/files/35826944\",\n",
    ")\n",
    "adata"
   ]
  },
  {
   "cell_type": "code",
   "execution_count": 5,
   "metadata": {},
   "outputs": [
    {
     "name": "stdout",
     "output_type": "stream",
     "text": [
      "\u001b[92m→\u001b[0m found artifact with same hash: Artifact(uid='buvlHZTfCKo60akB0000', is_latest=True, key='trajectory/pseudotemporal.h5ad', description='pseudotemporal dataset', suffix='.h5ad', otype='AnnData', size=388391976, hash='FdzXtifrBdukftwBX2_m5M', space_id=1, storage_id=1, run_id=2, created_by_id=2, created_at=2025-02-19 08:38:20 UTC); to track this artifact as an input, use: ln.Artifact.get()\n"
     ]
    },
    {
     "data": {
      "text/plain": [
       "Artifact(uid='buvlHZTfCKo60akB0000', is_latest=True, key='trajectory/pseudotemporal.h5ad', description='pseudotemporal dataset', suffix='.h5ad', otype='AnnData', size=388391976, hash='FdzXtifrBdukftwBX2_m5M', space_id=1, storage_id=1, run_id=2, created_by_id=2, created_at=2025-02-19 08:38:20 UTC)"
      ]
     },
     "execution_count": 5,
     "metadata": {},
     "output_type": "execute_result"
    }
   ],
   "source": [
    "af = ln.Artifact(\n",
    "    \"bonemarrow.h5ad\",\n",
    "    key=\"trajectory/pseudotemporal.h5ad\",\n",
    "    description=\"pseudotemporal dataset\",\n",
    ").save()\n",
    "af"
   ]
  },
  {
   "cell_type": "code",
   "execution_count": null,
   "metadata": {},
   "outputs": [],
   "source": [
    "ln.finish()"
   ]
  }
 ],
 "metadata": {
  "kernelspec": {
   "display_name": "bp-pseudotime",
   "language": "python",
   "name": "python3"
  },
  "language_info": {
   "codemirror_mode": {
    "name": "ipython",
    "version": 3
   },
   "file_extension": ".py",
   "mimetype": "text/x-python",
   "name": "python",
   "nbconvert_exporter": "python",
   "pygments_lexer": "ipython3",
   "version": "3.12.9"
  }
 },
 "nbformat": 4,
 "nbformat_minor": 2
}

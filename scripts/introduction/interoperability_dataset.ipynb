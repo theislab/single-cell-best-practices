{
 "cells": [
  {
   "cell_type": "markdown",
   "metadata": {},
   "source": [
    "# Interoperability- Preparing the MuData dataset"
   ]
  },
  {
   "cell_type": "code",
   "execution_count": 3,
   "metadata": {},
   "outputs": [
    {
     "name": "stdout",
     "output_type": "stream",
     "text": [
      "\u001b[92m→\u001b[0m connected lamindb: theislab/sc-best-practices\n"
     ]
    }
   ],
   "source": [
    "import lamindb as ln"
   ]
  },
  {
   "cell_type": "code",
   "execution_count": 4,
   "metadata": {},
   "outputs": [],
   "source": [
    "assert ln.setup.settings.instance.slug == \"theislab/sc-best-practices\""
   ]
  },
  {
   "cell_type": "code",
   "execution_count": 5,
   "metadata": {},
   "outputs": [
    {
     "name": "stdout",
     "output_type": "stream",
     "text": [
      "\u001b[92m→\u001b[0m loaded Transform('sHhbAE1UThuC0000'), re-started Run('bn9MrSp1...') at 2025-03-20 17:16:57 UTC\n",
      "\u001b[92m→\u001b[0m notebook imports: anndata==0.11.3 lamindb==1.3.0 mudata==0.3.1 numpy==2.1.3\n"
     ]
    }
   ],
   "source": [
    "ln.track()"
   ]
  },
  {
   "cell_type": "code",
   "execution_count": 7,
   "metadata": {},
   "outputs": [],
   "source": [
    "import mudata as md\n",
    "import numpy as np\n",
    "from anndata import AnnData\n",
    "from mudata import MuData\n",
    "\n",
    "md.set_options(pull_on_update=False)\n",
    "\n",
    "# Use modern random number generation\n",
    "rng = np.random.default_rng(seed=1)\n",
    "\n",
    "# create random data\n",
    "n, d, k = 1000, 100, 10\n",
    "z = rng.normal(loc=np.arange(k), scale=np.arange(k) * 2, size=(n, k))\n",
    "w = rng.normal(size=(d, k))\n",
    "y = np.dot(z, w.T)\n",
    "\n",
    "# create AnnData from the matrix\n",
    "adata = AnnData(y)\n",
    "adata.obs_names = [f\"obs_{i + 1}\" for i in range(n)]\n",
    "adata.var_names = [f\"var_{j + 1}\" for j in range(d)]\n",
    "\n",
    "if adata.obs.shape[1] == 0:\n",
    "    adata.obs[\"dummy_obs\"] = \"placeholder\"\n",
    "\n",
    "if adata.var.shape[1] == 0:\n",
    "    adata.var[\"dummy_var\"] = \"placeholder\"\n",
    "\n",
    "# second AnnData object\n",
    "d2 = 50\n",
    "w2 = rng.normal(size=(d2, k))\n",
    "y2 = np.dot(z, w2.T)\n",
    "\n",
    "adata2 = AnnData(y2)\n",
    "adata2.obs_names = [f\"obs_{i + 1}\" for i in range(n)]\n",
    "adata2.var_names = [f\"var2_{j + 1}\" for j in range(d2)]\n",
    "\n",
    "if adata2.obs.shape[1] == 0:\n",
    "    adata2.obs[\"dummy_obs\"] = \"placeholder\"\n",
    "\n",
    "if adata2.var.shape[1] == 0:\n",
    "    adata2.var[\"dummy_var\"] = \"placeholder\"\n",
    "\n",
    "mdata = MuData({\"A\": adata, \"B\": adata2})\n",
    "mdata.write(\"interoperability_mdata.h5mu\")"
   ]
  },
  {
   "cell_type": "code",
   "execution_count": 8,
   "metadata": {},
   "outputs": [
    {
     "name": "stdout",
     "output_type": "stream",
     "text": [
      "\u001b[92m→\u001b[0m creating new artifact version for key='introduction/interoperability_mdata.h5mu' (storage: 's3://lamin-eu-central-1/VPwcjx3CDAa2')\n",
      "... uploading interoperability_mdata.h5mu: 100.0%\n",
      "\u001b[93m!\u001b[0m The cache path /Users/seohyon/Library/Caches/lamindb/lamin-eu-central-1/VPwcjx3CDAa2/introduction/interoperability_mdata.h5mu already exists, replacing it.\n"
     ]
    },
    {
     "data": {
      "text/plain": [
       "Artifact(uid='d0BIszdg2GPp3Nh80001', is_latest=True, key='introduction/interoperability_mdata.h5mu', description='MuData object for interoperability chapter', suffix='.h5mu', otype='MuData', size=1405984, hash='NX7ugtFo7KkZVUmwaASFiQ', space_id=1, storage_id=1, run_id=4, created_by_id=5, created_at=2025-03-20 17:29:41 UTC)"
      ]
     },
     "execution_count": 8,
     "metadata": {},
     "output_type": "execute_result"
    }
   ],
   "source": [
    "af = ln.Artifact(\n",
    "    \"interoperability_mdata.h5mu\",\n",
    "    key=\"introduction/interoperability_mdata.h5mu\",\n",
    "    description=\"MuData object for interoperability chapter\",\n",
    ").save()\n",
    "af"
   ]
  }
 ],
 "metadata": {
  "kernelspec": {
   "display_name": "interoperability",
   "language": "python",
   "name": "python3"
  },
  "language_info": {
   "codemirror_mode": {
    "name": "ipython",
    "version": 3
   },
   "file_extension": ".py",
   "mimetype": "text/x-python",
   "name": "python",
   "nbconvert_exporter": "python",
   "pygments_lexer": "ipython3",
   "version": "3.12.9"
  }
 },
 "nbformat": 4,
 "nbformat_minor": 2
}

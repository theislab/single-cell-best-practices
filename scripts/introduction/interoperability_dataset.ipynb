{
 "cells": [
  {
   "cell_type": "markdown",
   "metadata": {},
   "source": [
    "# Interoperability- Preparing the MuData dataset"
   ]
  },
  {
   "cell_type": "code",
   "execution_count": 9,
   "metadata": {},
   "outputs": [],
   "source": [
    "import lamindb as ln"
   ]
  },
  {
   "cell_type": "code",
   "execution_count": 10,
   "metadata": {},
   "outputs": [],
   "source": [
    "assert ln.setup.settings.instance.slug == \"theislab/sc-best-practices\""
   ]
  },
  {
   "cell_type": "code",
   "execution_count": 11,
   "metadata": {},
   "outputs": [
    {
     "name": "stdout",
     "output_type": "stream",
     "text": [
      "\u001b[92m→\u001b[0m loaded Transform('sHhbAE1UThuC0000'), re-started Run('bn9MrSp1...') at 2025-03-26 12:49:31 UTC\n",
      "\u001b[92m→\u001b[0m notebook imports: anndata==0.11.3 lamindb==1.3.0 mudata==0.3.1 numpy==2.1.3\n"
     ]
    }
   ],
   "source": [
    "ln.track()"
   ]
  },
  {
   "cell_type": "markdown",
   "metadata": {},
   "source": [
    "## generate AnnData"
   ]
  },
  {
   "cell_type": "code",
   "execution_count": 12,
   "metadata": {},
   "outputs": [],
   "source": [
    "import anndata\n",
    "import numpy\n",
    "import scanpy\n",
    "from scipy.sparse import csr_matrix"
   ]
  },
  {
   "cell_type": "code",
   "execution_count": null,
   "metadata": {},
   "outputs": [],
   "source": [
    "# Create a randomly generated AnnData object to use as an example\n",
    "counts = csr_matrix(\n",
    "    numpy.random.default_rng().poisson(1, size=(100, 2000)), dtype=numpy.float32\n",
    ")\n",
    "adata = anndata.AnnData(counts)\n",
    "adata.obs_names = [f\"Cell_{i:d}\" for i in range(adata.n_obs)]\n",
    "adata.var_names = [f\"Gene_{i:d}\" for i in range(adata.n_vars)]\n",
    "# Do some standard processing to populate the object\n",
    "scanpy.pp.calculate_qc_metrics(adata, inplace=True)\n",
    "adata.layers[\"counts\"] = adata.X.copy()\n",
    "scanpy.pp.normalize_total(adata, inplace=True)\n",
    "scanpy.pp.log1p(adata)\n",
    "scanpy.pp.highly_variable_genes(adata, inplace=True)\n",
    "scanpy.tl.pca(adata)\n",
    "scanpy.pp.neighbors(adata)\n",
    "scanpy.tl.umap(adata)\n",
    "adata.write(\"interoperability_adata.h5ad\")"
   ]
  },
  {
   "cell_type": "code",
   "execution_count": 15,
   "metadata": {},
   "outputs": [
    {
     "name": "stdout",
     "output_type": "stream",
     "text": [
      "... uploading interoperability_adata.h5ad: 100.0%\n"
     ]
    },
    {
     "data": {
      "text/plain": [
       "Artifact(uid='Y0xl4XzORVJMgFDl0000', is_latest=True, key='introduction/interoperability_adata.h5ad', description='anndata for interoperability', suffix='.h5ad', otype='AnnData', size=3180536, hash='kJuZZxiZdPF0IXZqZLOfGQ', space_id=1, storage_id=1, run_id=4, created_by_id=5, created_at=2025-03-26 12:56:10 UTC)"
      ]
     },
     "execution_count": 15,
     "metadata": {},
     "output_type": "execute_result"
    }
   ],
   "source": [
    "af = ln.Artifact(\n",
    "    \"interoperability_adata.h5ad\",\n",
    "    key=\"introduction/interoperability_adata.h5ad\",\n",
    "    description=\"anndata for interoperability\",\n",
    ").save()\n",
    "af"
   ]
  },
  {
   "cell_type": "markdown",
   "metadata": {},
   "source": [
    "## generate MuData"
   ]
  },
  {
   "cell_type": "code",
   "execution_count": 17,
   "metadata": {},
   "outputs": [],
   "source": [
    "import mudata as md\n",
    "import numpy as np\n",
    "\n",
    "md.set_options(pull_on_update=False)\n",
    "\n",
    "# Use modern random number generation\n",
    "rng = np.random.default_rng(seed=1)\n",
    "\n",
    "# create random data\n",
    "n, d, k = 1000, 100, 10\n",
    "z = rng.normal(loc=np.arange(k), scale=np.arange(k) * 2, size=(n, k))\n",
    "w = rng.normal(size=(d, k))\n",
    "y = np.dot(z, w.T)\n",
    "\n",
    "# create AnnData from the matrix\n",
    "adata = anndata.AnnData(y)\n",
    "adata.obs_names = [f\"obs_{i + 1}\" for i in range(n)]\n",
    "adata.var_names = [f\"var_{j + 1}\" for j in range(d)]\n",
    "\n",
    "if adata.obs.shape[1] == 0:\n",
    "    adata.obs[\"dummy_obs\"] = \"placeholder\"\n",
    "\n",
    "if adata.var.shape[1] == 0:\n",
    "    adata.var[\"dummy_var\"] = \"placeholder\"\n",
    "\n",
    "# second AnnData object\n",
    "d2 = 50\n",
    "w2 = rng.normal(size=(d2, k))\n",
    "y2 = np.dot(z, w2.T)\n",
    "\n",
    "adata2 = anndata.AnnData(y2)\n",
    "adata2.obs_names = [f\"obs_{i + 1}\" for i in range(n)]\n",
    "adata2.var_names = [f\"var2_{j + 1}\" for j in range(d2)]\n",
    "\n",
    "if adata2.obs.shape[1] == 0:\n",
    "    adata2.obs[\"dummy_obs\"] = \"placeholder\"\n",
    "\n",
    "if adata2.var.shape[1] == 0:\n",
    "    adata2.var[\"dummy_var\"] = \"placeholder\"\n",
    "\n",
    "mdata = md.MuData({\"A\": adata, \"B\": adata2})\n",
    "mdata.write(\"interoperability_mdata.h5mu\")"
   ]
  },
  {
   "cell_type": "code",
   "execution_count": 18,
   "metadata": {},
   "outputs": [
    {
     "name": "stdout",
     "output_type": "stream",
     "text": [
      "\u001b[92m→\u001b[0m returning existing artifact with same hash: Artifact(uid='d0BIszdg2GPp3Nh80001', is_latest=True, key='introduction/interoperability_mdata.h5mu', description='MuData object for interoperability chapter', suffix='.h5mu', otype='MuData', size=1405984, hash='NX7ugtFo7KkZVUmwaASFiQ', space_id=1, storage_id=1, run_id=4, created_by_id=5, created_at=2025-03-20 17:29:41 UTC); to track this artifact as an input, use: ln.Artifact.get()\n"
     ]
    },
    {
     "data": {
      "text/plain": [
       "Artifact(uid='d0BIszdg2GPp3Nh80001', is_latest=True, key='introduction/interoperability_mdata.h5mu', description='MuData object for interoperability chapter', suffix='.h5mu', otype='MuData', size=1405984, hash='NX7ugtFo7KkZVUmwaASFiQ', space_id=1, storage_id=1, run_id=4, created_by_id=5, created_at=2025-03-20 17:29:41 UTC)"
      ]
     },
     "execution_count": 18,
     "metadata": {},
     "output_type": "execute_result"
    }
   ],
   "source": [
    "af = ln.Artifact(\n",
    "    \"interoperability_mdata.h5mu\",\n",
    "    key=\"introduction/interoperability_mdata.h5mu\",\n",
    "    description=\"MuData object for interoperability chapter\",\n",
    ").save()\n",
    "af"
   ]
  }
 ],
 "metadata": {
  "kernelspec": {
   "display_name": "interoperability",
   "language": "python",
   "name": "python3"
  },
  "language_info": {
   "codemirror_mode": {
    "name": "ipython",
    "version": 3
   },
   "file_extension": ".py",
   "mimetype": "text/x-python",
   "name": "python",
   "nbconvert_exporter": "python",
   "pygments_lexer": "ipython3",
   "version": "3.12.9"
  }
 },
 "nbformat": 4,
 "nbformat_minor": 2
}

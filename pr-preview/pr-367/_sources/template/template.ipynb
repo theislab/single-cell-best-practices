{
  "cells": [
    {
      "cell_type": "markdown",
      "id": "26fe08ad",
      "metadata": {},
      "source": [
        "# Template Guide\n",
        "```{dropdown} <i class=\"fas fa-brain\"></i>&nbsp;&nbsp;&nbsp;Key takeaways\n\n:::{card}\n:link: template-template-key-takeaway-1\n:link-type: ref\nThis is the first key takeaway, which will link you to `## Keytakeaways` when you click on it.\n:::\n\n:::{card}\n:link: template-template-key-takeaway-2\n:link-type: ref\nThis is the first key takeaway, which will link you to `## Figures` when you click on it.\n:::\n\n```\n``````{dropdown} <i class=\"fa-solid fa-gear\"></i>\u00a0\u00a0\u00a0Environment setup\n`````{tab-set}\n\n````{tab-item} Steps\n```{include} ../_static/default_text_env_setup.md\n```\n````\n\n````{tab-item} yml\n```{literalinclude} template.yml\n:language: yaml\n```\n````\n\n`````\n``````\n````{dropdown} <i class=\"fa-solid fa-database\"></i>\u00a0\u00a0\u00a0Get data and notebooks\n```{include} ../_static/default_text_lamindb_setup.md\n```\n````\n",
        "<!-- END DROPDOWNS -->\n",
        "Welcome to the single cell best practices template! \n",
        "This template is designed to help you quickly and effectively create a chapter for our book.\n",
        "But first, take a look at our `CONTRIBUTING.md`!\n",
        "After that you can copy this template and use the ready-to-use markdown and code snippets.\n",
        "Just always replace the name `template` with the name of your chapter.\n",
        "We have only included the most important features of JupyterBook and referred to the external documentation for detailed information.\n",
        "\n",
        "Helpful links (descending order of importance):\n",
        "- https://jupyterbook.org/en/stable/intro.html\n",
        "- https://mystmd.org\n",
        "- https://www.sphinx-doc.org/en/master/"
      ]
    },
    {
      "cell_type": "markdown",
      "id": "2da33856",
      "metadata": {},
      "source": [
        "(template-template-key-takeaway-1)=\n",
        "## Keytakeaways\n",
        "Add your key takeaway to `template_keytakeaways.txt` in the format described in the `CONTRIBUTING.md`.\n",
        "Insert a label before the heading of the paragraph that corresponds to the key takeaway, e.g. `(template-template-key-takeaway-1)=`.\n",
        "This will refer to the text when you click on it in html."
      ]
    },
    {
      "cell_type": "markdown",
      "id": "09d547f9",
      "metadata": {},
      "source": [
        "## Environment setup \n",
        "Adding `template.yml` to the directory of `template.ipynb` will add a dropdown in html of how the reader can use this `.yml`."
      ]
    },
    {
      "cell_type": "markdown",
      "id": "75533728",
      "metadata": {},
      "source": [
        "## Ignore Warnings"
      ]
    },
    {
      "cell_type": "markdown",
      "id": "1d4938d8",
      "metadata": {},
      "source": [
        "We aim to write clean code that avoids generating warnings in the first place.\n",
        "But to reduce verbose or noisy output, we should filter out unimportant warnings at the start of the notebook.\n",
        "Add the tag `remove-input` to this cell."
      ]
    },
    {
      "cell_type": "code",
      "execution_count": 4,
      "id": "88d49574",
      "metadata": {
        "tags": [
          "remove-input"
        ]
      },
      "outputs": [],
      "source": [
        "import warnings\n",
        "\n",
        "warnings.filterwarnings(\"ignore\")"
      ]
    },
    {
      "cell_type": "markdown",
      "id": "08b64ef1",
      "metadata": {},
      "source": [
        "## Lamin setup \n",
        "We use lamindb to store, share, and load datasets and notebooks using the [theislab/sc-best-practices](https://lamin.ai/theislab/sc-best-practices) instance.\n",
        "Make sure to `lamin connect theislab/sc-best-practices` before you follow the steps for loading a dataset and tracking a notebook using our instance:"
      ]
    },
    {
      "cell_type": "code",
      "execution_count": 5,
      "id": "5dea6391",
      "metadata": {},
      "outputs": [
        {
          "name": "stdout",
          "output_type": "stream",
          "text": [
            "\u001b[92m\u2192\u001b[0m loaded Transform('BKLauFLQ59iM0000'), re-started Run('XWrs7CnE...') at 2025-05-27 21:08:02 UTC\n",
            "\u001b[92m\u2192\u001b[0m notebook imports: lamindb==1.5.3\n",
            "\u001b[94m\u2022\u001b[0m recommendation: to identify the notebook across renames, pass the uid: ln.track(\"BKLauFLQ59iM\")\n"
          ]
        }
      ],
      "source": [
        "import lamindb as ln\n",
        "\n",
        "assert ln.setup.settings.instance.slug == \"theislab/sc-best-practices\"\n",
        "\n",
        "ln.track()\n",
        "af = ln.Artifact.get(key=\"introduction/interoperability_mdata.h5mu\", is_latest=True)\n",
        "adata = af.load()"
      ]
    },
    {
      "cell_type": "markdown",
      "id": "4118334e",
      "metadata": {},
      "source": [
        "Now you can work with the data loaded from `lamindb`.\n",
        "Finally, use `finish` to make the script visible in the instance."
      ]
    },
    {
      "cell_type": "code",
      "execution_count": 6,
      "id": "cbe8f16e",
      "metadata": {},
      "outputs": [
        {
          "name": "stdout",
          "output_type": "stream",
          "text": [
            "\u001b[94m\u2022\u001b[0m please hit CMD + s to save the notebook in your editor ... \u001b[92m\u2713\u001b[0m\n",
            "\u001b[93m!\u001b[0m cells [(0, 4), (5, 5), (5, 4), (4, 6)] were not run consecutively\n",
            "\u001b[92m\u2192\u001b[0m finished Run('XWrs7CnE') after 15s at 2025-05-27 21:08:18 UTC\n",
            "\u001b[92m\u2192\u001b[0m go to: https://lamin.ai/theislab/sc-best-practices/transform/BKLauFLQ59iM0000\n",
            "\u001b[92m\u2192\u001b[0m to update your notebook from the CLI, run: lamin save /Users/luisheinzlmeier/Desktop/Helmholtz/single-cell-best-practices/jupyter-book/template/template.ipynb\n"
          ]
        }
      ],
      "source": [
        "ln.finish()"
      ]
    },
    {
      "cell_type": "markdown",
      "id": "4d122b39",
      "metadata": {},
      "source": [
        "## Terms\n",
        "We explain common used term of the book in the glossary.\n",
        "In your chapter, link the first occurrence of a term with {term}`GLOSSARY TERM`, or with {term}`YOUR TERM <GLOSSARY TERM>` if the spelling differs from that of the glossary.\n",
        "For example: \n",
        "{term}`DNA` stores genetic information, while various {term}`RNAs <RNA>` play key roles in translating DNA into functional proteins.\n",
        "\n",
        "Helpful Links: \n",
        "- https://jupyterbook.org/en/stable/content/content-blocks.html#glossaries"
      ]
    },
    {
      "cell_type": "markdown",
      "id": "5db14c10",
      "metadata": {},
      "source": [
        "## Admonitions\n",
        "Use dropdowns whenever possible so that the reader is not overwhelmed by the content.\n",
        "For example:\n",
        "\n",
        "`````{admonition} This admonition was styled...\n",
        ":class: tip, dropdown\n",
        "With a tip class!\n",
        "`````\n",
        "\n",
        "Helpful links:\n",
        "- https://jupyterbook.org/en/stable/content/content-blocks.html#notes-warnings-and-other-admonitions\n",
        "- https://mystmd.org/guide/admonitions"
      ]
    },
    {
      "cell_type": "markdown",
      "id": "e5a3ec95",
      "metadata": {},
      "source": [
        "(template-template-key-takeaway-2)=\n",
        "## Figures\n",
        "Save your figure in a corresponding folder of `jupyter-book/_static/images/`, cite {numref}`example-fig` in the text and use the following syntax:\n",
        "\n",
        "```{figure} ../_static/images/raw_data_processing/UMI.png\n",
        ":name: example-fig\n",
        ":alt: A exemplary figure\n",
        ":with: 100%\n",
        "Figure Caption.\n",
        "```\n",
        "\n",
        "Helpful Links: \n",
        "- https://jupyterbook.org/en/stable/content/figures.html\n",
        "- https://mystmd.org/guide/figures"
      ]
    },
    {
      "cell_type": "markdown",
      "id": "9daa4aa7",
      "metadata": {},
      "source": [
        "## Code\n",
        "Hide long, cluttered sections of code or console output with cell tag label like `hide-input` or `hide-output`."
      ]
    },
    {
      "cell_type": "code",
      "execution_count": 5,
      "id": "e7c6364f",
      "metadata": {
        "tags": [
          "hide-output"
        ]
      },
      "outputs": [
        {
          "name": "stdout",
          "output_type": "stream",
          "text": [
            "This console output is hidden in a drop-down window.\n"
          ]
        }
      ],
      "source": [
        "print(\"This console output is hidden in a drop-down window.\")"
      ]
    },
    {
      "cell_type": "code",
      "execution_count": 4,
      "id": "dc061509",
      "metadata": {
        "tags": [
          "hide-input"
        ]
      },
      "outputs": [
        {
          "name": "stdout",
          "output_type": "stream",
          "text": [
            "This code block is hidden in a drop-down window.\n"
          ]
        }
      ],
      "source": [
        "print(\"This code block is hidden in a drop-down window.\")"
      ]
    },
    {
      "cell_type": "markdown",
      "id": "e160664b",
      "metadata": {},
      "source": [
        "To reduce noise, we should aim to write clean code that avoids generating warnings, and also filter out any non-informative warnings at the start of the notebook.\n",
        "\n",
        "Helpful Links: \n",
        "- https://jupyterbook.org/en/stable/interactive/hiding.html#hide-code-cell-content\n",
        "- https://mystmd.org/guide/notebook-configuration#notebook-cell-tags"
      ]
    },
    {
      "cell_type": "markdown",
      "id": "b00613ad",
      "metadata": {},
      "source": [
        "Add a `seealso` dropdown after the last paragraph and before the quiz title to provide further reading and other links.\n",
        "\n",
        "```{seealso}\n",
        ":class: dropdown\n",
        "Add further reading and other links here!\n",
        "```"
      ]
    },
    {
      "cell_type": "markdown",
      "id": "41d7e2eb",
      "metadata": {},
      "source": [
        "## Quiz\n",
        "Use `jupyter-book/src/lib.py`to create self-assessment questions."
      ]
    },
    {
      "cell_type": "code",
      "execution_count": 6,
      "id": "8b4cc05f",
      "metadata": {
        "tags": [
          "remove-input"
        ]
      },
      "outputs": [
        {
          "data": {
            "text/html": [
              "\n",
              "    <style>\n",
              "        .output.text_html {\n",
              "            --pst-color-text-base: transparent !important;\n",
              "        }\n",
              "        .flip-card-q1 {\n",
              "            background-color: transparent;\n",
              "            width: 350px;\n",
              "            height: 200px;\n",
              "            perspective: 1000px;\n",
              "            display: inline-block;\n",
              "            margin: 10px;\n",
              "            text-align: center;\n",
              "            padding: 10px;\n",
              "        }\n",
              "        .flip-card-inner-q1 {\n",
              "            position: relative;\n",
              "            width: 100%;\n",
              "            height: 100%;\n",
              "            text-align: center;\n",
              "            transition: transform 0.6s;\n",
              "            transform-style: preserve-3d;\n",
              "            transform-origin: center;\n",
              "        }\n",
              "        .flip-card-q1:hover .flip-card-inner-q1 {\n",
              "            transform: rotateY(180deg);\n",
              "        }\n",
              "        .flip-card-front-q1, .flip-card-back-q1 {\n",
              "            position: absolute;\n",
              "            width: 100%;\n",
              "            height: 100%;\n",
              "            min-height: 200px;\n",
              "            backface-visibility: hidden;\n",
              "            display: flex;\n",
              "            align-items: center;\n",
              "            justify-content: center;\n",
              "            font-weight: bold;\n",
              "            color: white;\n",
              "            padding: 20px;\n",
              "            border-radius: 15px;\n",
              "            box-sizing: border-box;\n",
              "            overflow: hidden;\n",
              "            text-align: center;\n",
              "        }\n",
              "        .flip-card-front-q1 {\n",
              "            background-color: #3965a3;\n",
              "            font-size: 20px;\n",
              "        }\n",
              "        .flip-card-back-q1 {\n",
              "            background-color: #a8d480;\n",
              "            transform: rotateY(180deg);\n",
              "            font-size: 20px;\n",
              "        }_b\n",
              "    </style>\n",
              "\n",
              "    <div class=\"flip-card-q1\">\n",
              "        <div class=\"flip-card-inner-q1\">\n",
              "            <div class=\"flip-card-front-q1\">\n",
              "                What is 2 + 2?\n",
              "            </div>\n",
              "            <div class=\"flip-card-back-q1\">\n",
              "                4\n",
              "            </div>\n",
              "        </div>\n",
              "    </div>\n",
              "    <noscript>\n",
              "        <p><strong>Q:</strong> What is 2 + 2?</p>\n",
              "        <p><strong>Answer:</strong> 4</p>\n",
              "    </noscript>\n",
              "    "
            ],
            "text/plain": [
              "<IPython.core.display.HTML object>"
            ]
          },
          "metadata": {},
          "output_type": "display_data"
        },
        {
          "data": {
            "text/html": [
              "\n",
              "    <style>\n",
              "        .output.text_html {\n",
              "            --pst-color-text-base: transparent !important;\n",
              "        }\n",
              "        .mcq-box {\n",
              "            border: none !important;\n",
              "            box-shadow: none !important;\n",
              "            outline: none !important;\n",
              "            padding: 15px;\n",
              "            width: 400px;\n",
              "            text-align: left;\n",
              "            font-size: 18px;\n",
              "            margin-bottom: 10px;\n",
              "            background-color: #3965a3;\n",
              "            border-radius: 10px;\n",
              "            color: white;\n",
              "        }\n",
              "    </style>\n",
              "\n",
              "    <div class=\"mcq-box\">\n",
              "        <p><strong>What is the capital of France?</strong></p>\n",
              "        \n",
              "        <label style=\"color: white;\">\n",
              "            <input type=\"radio\" name=\"qq1\" value=\"Paris\"\n",
              "            onclick=\"checkAnswer(this, 'Paris', '', 'feedback-q1')\"> Paris\n",
              "        </label><br>\n",
              "        \n",
              "        <label style=\"color: white;\">\n",
              "            <input type=\"radio\" name=\"qq1\" value=\"London\"\n",
              "            onclick=\"checkAnswer(this, 'Paris', 'London is the capital of the UK', 'feedback-q1')\"> London\n",
              "        </label><br>\n",
              "        \n",
              "        <label style=\"color: white;\">\n",
              "            <input type=\"radio\" name=\"qq1\" value=\"Berlin\"\n",
              "            onclick=\"checkAnswer(this, 'Paris', 'Berlin is the capital of Germany', 'feedback-q1')\"> Berlin\n",
              "        </label><br>\n",
              "        \n",
              "        <label style=\"color: white;\">\n",
              "            <input type=\"radio\" name=\"qq1\" value=\"Madrid\"\n",
              "            onclick=\"checkAnswer(this, 'Paris', 'Madrid is the capital of Spain', 'feedback-q1')\"> Madrid\n",
              "        </label><br>\n",
              "        \n",
              "        <p id=\"feedback-q1\" style=\"font-weight: bold;\"></p>\n",
              "        <p class=\"mcq-answer-q1\" style=\"display: none; font-weight: bold; color: red;\">\n",
              "            \u2714 Correct Answer: Paris\n",
              "        </p>\n",
              "    </div>\n",
              "\n",
              "    <script>\n",
              "    function checkAnswer(element, correct, explanation, feedbackId) {\n",
              "        let feedback = document.getElementById(feedbackId);\n",
              "        if (element.value === correct) {\n",
              "            feedback.innerHTML = \"\u2705 Correct!\";\n",
              "            feedback.style.color = \"#a8d480\";\n",
              "        } else {\n",
              "            feedback.innerHTML = \"\u274c Incorrect! \" + explanation;\n",
              "            feedback.style.color = \"#EE4B2B\";\n",
              "        }\n",
              "    }\n",
              "    </script>\n",
              "    "
            ],
            "text/plain": [
              "<IPython.core.display.HTML object>"
            ]
          },
          "metadata": {},
          "output_type": "display_data"
        }
      ],
      "source": [
        "%run ../src/lib.py\n",
        "flip_card(\"q1\", \"What is 2 + 2?\", \"4\")\n",
        "multiple_choice_question(\n",
        "    \"q1\",\n",
        "    \"What is the capital of France?\",\n",
        "    [\"Paris\", \"London\", \"Berlin\", \"Madrid\"],\n",
        "    \"Paris\",\n",
        "    {\n",
        "        \"London\": \"London is the capital of the UK\",\n",
        "        \"Berlin\": \"Berlin is the capital of Germany\",\n",
        "        \"Madrid\": \"Madrid is the capital of Spain\",\n",
        "    },\n",
        ")"
      ]
    },
    {
      "cell_type": "markdown",
      "id": "ec9a9a1d",
      "metadata": {},
      "source": [
        "## References\n",
        "Cite papers with {cite}`Heumos2023` in the text, while `Heumos2023` corresponds to the id in `template.bib`.\n",
        "Add the `.bib` file to `bibtex_bibfiles:` in `_config.yml`.\n",
        "Add a bibliography at the end of the chapter using the following syntax:\n",
        "\n",
        "```{bibliography}\n",
        ":filter: docname in docnames\n",
        "```\n",
        "\n",
        "Helpful Links: \n",
        "- https://jupyterbook.org/en/stable/content/citations.html#basic-citations"
      ]
    },
    {
      "cell_type": "markdown",
      "id": "d6bc6faf",
      "metadata": {},
      "source": [
        "## Contributors\n",
        "\n",
        "We gratefully acknowledge the contributions of:\n",
        "\n",
        "### Authors\n",
        "\n",
        "* autor name 1\n",
        "* autor name 2\n",
        "* ...\n",
        "\n",
        "### Reviewers\n",
        "\n",
        "* reviewer name 1\n",
        "* ..."
      ]
    }
  ],
  "metadata": {
    "kernelspec": {
      "display_name": "data_structures_and_frameworks_advanced",
      "language": "python",
      "name": "python3"
    },
    "language_info": {
      "codemirror_mode": {
        "name": "ipython",
        "version": 3
      },
      "file_extension": ".py",
      "mimetype": "text/x-python",
      "name": "python",
      "nbconvert_exporter": "python",
      "pygments_lexer": "ipython3",
      "version": "3.12.9"
    }
  },
  "nbformat": 4,
  "nbformat_minor": 5
}
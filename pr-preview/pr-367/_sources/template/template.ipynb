{
  "cells": [
    {
      "cell_type": "markdown",
      "id": "26fe08ad",
      "metadata": {},
      "source": [
        "# Template Guide\n",
        "```{dropdown} <i class=\"fas fa-brain\"></i>&nbsp;&nbsp;&nbsp;Key takeaways\n\n:::{card}\n:link: template-template-key-takeaway-1\n:link-type: ref\nThis is the first key takeaway, which will link you to `## Keytakeaways` when you click on it.\n:::\n\n:::{card}\n:link: template-template-key-takeaway-2\n:link-type: ref\nThis is the first key takeaway, which will link you to `## Figures` when you click on it.\n:::\n\n```\n``````{dropdown} <i class=\"fa-solid fa-gear\"></i>\u00a0\u00a0\u00a0Environment setup\n`````{tab-set}\n\n````{tab-item} Steps\n```{include} ../_static/default_text_env_setup.md\n```\n````\n\n````{tab-item} yml\n```{literalinclude} template.yml\n:language: yaml\n```\n````\n\n`````\n``````\n````{dropdown} <i class=\"fa-solid fa-database\"></i>\u00a0\u00a0\u00a0Get data and notebooks\n```{include} ../_static/default_text_lamindb_setup.md\n```\n````\n",
        "<!-- END DROPDOWNS -->\n",
        "Welcome to the single cell best practices template! \n",
        "This template is designed to help you quickly and effectively create a chapter for our book.\n",
        "But first, take a look at our `CONTRIBUTING.md`!\n",
        "After that you can copy this template and use the ready-to-use markdown and code snippets.\n",
        "Just always replace the name `template` with the name of your chapter.\n",
        "We have only included the most important features of JupyterBook and referred to the external documentation for detailed information.\n",
        "\n",
        "Helpful links (descending order of importance):\n",
        "- https://jupyterbook.org/en/stable/intro.html\n",
        "- https://mystmd.org\n",
        "- https://www.sphinx-doc.org/en/master/"
      ]
    },
    {
      "cell_type": "markdown",
      "id": "2da33856",
      "metadata": {},
      "source": [
        "(template-template-key-takeaway-1)=\n",
        "## Keytakeaways\n",
        "Add your key takeaway to `template_keytakeaways.txt` in the format described in the `CONTRIBUTING.md`.\n",
        "Insert a label before the heading of the paragraph that corresponds to the key takeaway, e.g. `(template-template-key-takeaway-1)=`.\n",
        "This will refer to the text when you click on it in html."
      ]
    },
    {
      "cell_type": "markdown",
      "id": "661697ee",
      "metadata": {},
      "source": [
        "## Environment setup \n",
        "Adding `template.yml` to the directory of `template.ipynb` will add a dropdown in html of how the reader can use this `.yml`."
      ]
    },
    {
      "cell_type": "markdown",
      "id": "08b64ef1",
      "metadata": {},
      "source": [
        "## Lamin setup \n",
        "We use lamindb to store, share, and load datasets and notebooks using the [theislab/sc-best-practices](https://lamin.ai/theislab/sc-best-practices) instance.\n",
        "This shows the basics steps for loading a data set and tracking a notebook using our instance."
      ]
    },
    {
      "cell_type": "code",
      "execution_count": 3,
      "id": "d8653a93",
      "metadata": {
        "vscode": {
          "languageId": "shellscript"
        }
      },
      "outputs": [
        {
          "ename": "SyntaxError",
          "evalue": "invalid syntax (2281307003.py, line 1)",
          "output_type": "error",
          "traceback": [
            "  \u001b[36mCell\u001b[39m\u001b[36m \u001b[39m\u001b[32mIn[3]\u001b[39m\u001b[32m, line 1\u001b[39m\n\u001b[31m    \u001b[39m\u001b[31mlamin connect theislab/sc-best-practices\u001b[39m\n          ^\n\u001b[31mSyntaxError\u001b[39m\u001b[31m:\u001b[39m invalid syntax\n"
          ]
        }
      ],
      "source": [
        "lamin connect theislab/sc-best-practices"
      ]
    },
    {
      "cell_type": "code",
      "execution_count": 1,
      "id": "5dea6391",
      "metadata": {},
      "outputs": [
        {
          "name": "stdout",
          "output_type": "stream",
          "text": [
            "\u001b[92m\u2192\u001b[0m connected lamindb: theislab/sc-best-practices\n"
          ]
        },
        {
          "ename": "OperationalError",
          "evalue": "connection to server at \"aws-0-eu-central-1.pooler.supabase.com\" (52.59.152.35), port 6543 failed: Operation timed out\n\tIs the server running on that host and accepting TCP/IP connections?\nconnection to server at \"aws-0-eu-central-1.pooler.supabase.com\" (18.198.30.239), port 6543 failed: Operation timed out\n\tIs the server running on that host and accepting TCP/IP connections?\nconnection to server at \"aws-0-eu-central-1.pooler.supabase.com\" (18.198.145.223), port 6543 failed: Operation timed out\n\tIs the server running on that host and accepting TCP/IP connections?\n",
          "output_type": "error",
          "traceback": [
            "\u001b[31m---------------------------------------------------------------------------\u001b[39m",
            "\u001b[31mOperationalError\u001b[39m                          Traceback (most recent call last)",
            "\u001b[36mFile \u001b[39m\u001b[32m~/miniconda3/envs/data_structures_and_frameworks_advanced/lib/python3.12/site-packages/django/db/backends/base/base.py:278\u001b[39m, in \u001b[36mBaseDatabaseWrapper.ensure_connection\u001b[39m\u001b[34m(self)\u001b[39m\n\u001b[32m    277\u001b[39m \u001b[38;5;28;01mwith\u001b[39;00m \u001b[38;5;28mself\u001b[39m.wrap_database_errors:\n\u001b[32m--> \u001b[39m\u001b[32m278\u001b[39m     \u001b[38;5;28;43mself\u001b[39;49m\u001b[43m.\u001b[49m\u001b[43mconnect\u001b[49m\u001b[43m(\u001b[49m\u001b[43m)\u001b[49m\n",
            "\u001b[36mFile \u001b[39m\u001b[32m~/miniconda3/envs/data_structures_and_frameworks_advanced/lib/python3.12/site-packages/django/utils/asyncio.py:26\u001b[39m, in \u001b[36masync_unsafe.<locals>.decorator.<locals>.inner\u001b[39m\u001b[34m(*args, **kwargs)\u001b[39m\n\u001b[32m     25\u001b[39m \u001b[38;5;66;03m# Pass onward.\u001b[39;00m\n\u001b[32m---> \u001b[39m\u001b[32m26\u001b[39m \u001b[38;5;28;01mreturn\u001b[39;00m \u001b[43mfunc\u001b[49m\u001b[43m(\u001b[49m\u001b[43m*\u001b[49m\u001b[43margs\u001b[49m\u001b[43m,\u001b[49m\u001b[43m \u001b[49m\u001b[43m*\u001b[49m\u001b[43m*\u001b[49m\u001b[43mkwargs\u001b[49m\u001b[43m)\u001b[49m\n",
            "\u001b[36mFile \u001b[39m\u001b[32m~/miniconda3/envs/data_structures_and_frameworks_advanced/lib/python3.12/site-packages/django/db/backends/base/base.py:255\u001b[39m, in \u001b[36mBaseDatabaseWrapper.connect\u001b[39m\u001b[34m(self)\u001b[39m\n\u001b[32m    254\u001b[39m conn_params = \u001b[38;5;28mself\u001b[39m.get_connection_params()\n\u001b[32m--> \u001b[39m\u001b[32m255\u001b[39m \u001b[38;5;28mself\u001b[39m.connection = \u001b[38;5;28;43mself\u001b[39;49m\u001b[43m.\u001b[49m\u001b[43mget_new_connection\u001b[49m\u001b[43m(\u001b[49m\u001b[43mconn_params\u001b[49m\u001b[43m)\u001b[49m\n\u001b[32m    256\u001b[39m \u001b[38;5;28mself\u001b[39m.set_autocommit(\u001b[38;5;28mself\u001b[39m.settings_dict[\u001b[33m\"\u001b[39m\u001b[33mAUTOCOMMIT\u001b[39m\u001b[33m\"\u001b[39m])\n",
            "\u001b[36mFile \u001b[39m\u001b[32m~/miniconda3/envs/data_structures_and_frameworks_advanced/lib/python3.12/site-packages/django/utils/asyncio.py:26\u001b[39m, in \u001b[36masync_unsafe.<locals>.decorator.<locals>.inner\u001b[39m\u001b[34m(*args, **kwargs)\u001b[39m\n\u001b[32m     25\u001b[39m \u001b[38;5;66;03m# Pass onward.\u001b[39;00m\n\u001b[32m---> \u001b[39m\u001b[32m26\u001b[39m \u001b[38;5;28;01mreturn\u001b[39;00m \u001b[43mfunc\u001b[49m\u001b[43m(\u001b[49m\u001b[43m*\u001b[49m\u001b[43margs\u001b[49m\u001b[43m,\u001b[49m\u001b[43m \u001b[49m\u001b[43m*\u001b[49m\u001b[43m*\u001b[49m\u001b[43mkwargs\u001b[49m\u001b[43m)\u001b[49m\n",
            "\u001b[36mFile \u001b[39m\u001b[32m~/miniconda3/envs/data_structures_and_frameworks_advanced/lib/python3.12/site-packages/django/db/backends/postgresql/base.py:332\u001b[39m, in \u001b[36mDatabaseWrapper.get_new_connection\u001b[39m\u001b[34m(self, conn_params)\u001b[39m\n\u001b[32m    331\u001b[39m \u001b[38;5;28;01melse\u001b[39;00m:\n\u001b[32m--> \u001b[39m\u001b[32m332\u001b[39m     connection = \u001b[38;5;28;43mself\u001b[39;49m\u001b[43m.\u001b[49m\u001b[43mDatabase\u001b[49m\u001b[43m.\u001b[49m\u001b[43mconnect\u001b[49m\u001b[43m(\u001b[49m\u001b[43m*\u001b[49m\u001b[43m*\u001b[49m\u001b[43mconn_params\u001b[49m\u001b[43m)\u001b[49m\n\u001b[32m    333\u001b[39m \u001b[38;5;28;01mif\u001b[39;00m set_isolation_level:\n",
            "\u001b[36mFile \u001b[39m\u001b[32m~/miniconda3/envs/data_structures_and_frameworks_advanced/lib/python3.12/site-packages/psycopg2/__init__.py:122\u001b[39m, in \u001b[36mconnect\u001b[39m\u001b[34m(dsn, connection_factory, cursor_factory, **kwargs)\u001b[39m\n\u001b[32m    121\u001b[39m dsn = _ext.make_dsn(dsn, **kwargs)\n\u001b[32m--> \u001b[39m\u001b[32m122\u001b[39m conn = \u001b[43m_connect\u001b[49m\u001b[43m(\u001b[49m\u001b[43mdsn\u001b[49m\u001b[43m,\u001b[49m\u001b[43m \u001b[49m\u001b[43mconnection_factory\u001b[49m\u001b[43m=\u001b[49m\u001b[43mconnection_factory\u001b[49m\u001b[43m,\u001b[49m\u001b[43m \u001b[49m\u001b[43m*\u001b[49m\u001b[43m*\u001b[49m\u001b[43mkwasync\u001b[49m\u001b[43m)\u001b[49m\n\u001b[32m    123\u001b[39m \u001b[38;5;28;01mif\u001b[39;00m cursor_factory \u001b[38;5;129;01mis\u001b[39;00m \u001b[38;5;129;01mnot\u001b[39;00m \u001b[38;5;28;01mNone\u001b[39;00m:\n",
            "\u001b[31mOperationalError\u001b[39m: connection to server at \"aws-0-eu-central-1.pooler.supabase.com\" (52.59.152.35), port 6543 failed: Operation timed out\n\tIs the server running on that host and accepting TCP/IP connections?\nconnection to server at \"aws-0-eu-central-1.pooler.supabase.com\" (18.198.30.239), port 6543 failed: Operation timed out\n\tIs the server running on that host and accepting TCP/IP connections?\nconnection to server at \"aws-0-eu-central-1.pooler.supabase.com\" (18.198.145.223), port 6543 failed: Operation timed out\n\tIs the server running on that host and accepting TCP/IP connections?\n",
            "\nThe above exception was the direct cause of the following exception:\n",
            "\u001b[31mOperationalError\u001b[39m                          Traceback (most recent call last)",
            "\u001b[36mCell\u001b[39m\u001b[36m \u001b[39m\u001b[32mIn[1]\u001b[39m\u001b[32m, line 5\u001b[39m\n\u001b[32m      1\u001b[39m \u001b[38;5;28;01mimport\u001b[39;00m\u001b[38;5;250m \u001b[39m\u001b[34;01mlamindb\u001b[39;00m\u001b[38;5;250m \u001b[39m\u001b[38;5;28;01mas\u001b[39;00m\u001b[38;5;250m \u001b[39m\u001b[34;01mln\u001b[39;00m\n\u001b[32m      3\u001b[39m \u001b[38;5;28;01massert\u001b[39;00m ln.setup.settings.instance.slug == \u001b[33m\"\u001b[39m\u001b[33mtheislab/sc-best-practices\u001b[39m\u001b[33m\"\u001b[39m\n\u001b[32m----> \u001b[39m\u001b[32m5\u001b[39m \u001b[43mln\u001b[49m\u001b[43m.\u001b[49m\u001b[43mtrack\u001b[49m\u001b[43m(\u001b[49m\u001b[43m)\u001b[49m\n\u001b[32m      6\u001b[39m af = ln.Artifact.get(key=\u001b[33m\"\u001b[39m\u001b[33mtrajectory/pseudotemporal.h5ad\u001b[39m\u001b[33m\"\u001b[39m, is_latest=\u001b[38;5;28;01mTrue\u001b[39;00m)\n\u001b[32m      7\u001b[39m adata = af.load()\n",
            "\u001b[36mFile \u001b[39m\u001b[32m~/miniconda3/envs/data_structures_and_frameworks_advanced/lib/python3.12/site-packages/lamindb/core/_context.py:369\u001b[39m, in \u001b[36mContext._track\u001b[39m\u001b[34m(self, transform, project, space, params, new_run, path)\u001b[39m\n\u001b[32m    367\u001b[39m     \u001b[38;5;28;01mif\u001b[39;00m description \u001b[38;5;129;01mis\u001b[39;00m \u001b[38;5;28;01mNone\u001b[39;00m:\n\u001b[32m    368\u001b[39m         description = \u001b[38;5;28mself\u001b[39m._path.name\n\u001b[32m--> \u001b[39m\u001b[32m369\u001b[39m     \u001b[38;5;28;43mself\u001b[39;49m\u001b[43m.\u001b[49m\u001b[43m_create_or_load_transform\u001b[49m\u001b[43m(\u001b[49m\n\u001b[32m    370\u001b[39m \u001b[43m        \u001b[49m\u001b[43mdescription\u001b[49m\u001b[43m=\u001b[49m\u001b[43mdescription\u001b[49m\u001b[43m,\u001b[49m\n\u001b[32m    371\u001b[39m \u001b[43m        \u001b[49m\u001b[43mtransform_ref\u001b[49m\u001b[43m=\u001b[49m\u001b[43mtransform_ref\u001b[49m\u001b[43m,\u001b[49m\n\u001b[32m    372\u001b[39m \u001b[43m        \u001b[49m\u001b[43mtransform_ref_type\u001b[49m\u001b[43m=\u001b[49m\u001b[43mtransform_ref_type\u001b[49m\u001b[43m,\u001b[49m\n\u001b[32m    373\u001b[39m \u001b[43m        \u001b[49m\u001b[43mtransform_type\u001b[49m\u001b[43m=\u001b[49m\u001b[43mtransform_type\u001b[49m\u001b[43m,\u001b[49m\u001b[43m  \u001b[49m\u001b[38;5;66;43;03m# type: ignore\u001b[39;49;00m\n\u001b[32m    374\u001b[39m \u001b[43m    \u001b[49m\u001b[43m)\u001b[49m\n\u001b[32m    375\u001b[39m \u001b[38;5;28;01melse\u001b[39;00m:\n\u001b[32m    376\u001b[39m     \u001b[38;5;28;01mif\u001b[39;00m transform.type \u001b[38;5;129;01min\u001b[39;00m {\u001b[33m\"\u001b[39m\u001b[33mnotebook\u001b[39m\u001b[33m\"\u001b[39m, \u001b[33m\"\u001b[39m\u001b[33mscript\u001b[39m\u001b[33m\"\u001b[39m}:\n",
            "\u001b[36mFile \u001b[39m\u001b[32m~/miniconda3/envs/data_structures_and_frameworks_advanced/lib/python3.12/site-packages/lamindb/core/_context.py:604\u001b[39m, in \u001b[36mContext._create_or_load_transform\u001b[39m\u001b[34m(self, description, transform_ref, transform_ref_type, transform_type)\u001b[39m\n\u001b[32m    602\u001b[39m     transform_hash, _ = hash_file(source_code_path)\n\u001b[32m    603\u001b[39m \u001b[38;5;66;03m# see whether we find a transform with the exact same hash\u001b[39;00m\n\u001b[32m--> \u001b[39m\u001b[32m604\u001b[39m aux_transform = \u001b[43mTransform\u001b[49m\u001b[43m.\u001b[49m\u001b[43mfilter\u001b[49m\u001b[43m(\u001b[49m\u001b[38;5;28;43mhash\u001b[39;49m\u001b[43m=\u001b[49m\u001b[43mtransform_hash\u001b[49m\u001b[43m)\u001b[49m\u001b[43m.\u001b[49m\u001b[43mone_or_none\u001b[49m\u001b[43m(\u001b[49m\u001b[43m)\u001b[49m\n\u001b[32m    605\u001b[39m \u001b[38;5;66;03m# if the user did not pass a uid and there is no matching aux_transform\u001b[39;00m\n\u001b[32m    606\u001b[39m \u001b[38;5;66;03m# need to search for the transform based on the filename\u001b[39;00m\n\u001b[32m    607\u001b[39m \u001b[38;5;28;01mif\u001b[39;00m \u001b[38;5;28mself\u001b[39m.uid \u001b[38;5;129;01mis\u001b[39;00m \u001b[38;5;28;01mNone\u001b[39;00m \u001b[38;5;129;01mand\u001b[39;00m aux_transform \u001b[38;5;129;01mis\u001b[39;00m \u001b[38;5;28;01mNone\u001b[39;00m:\n",
            "\u001b[36mFile \u001b[39m\u001b[32m~/miniconda3/envs/data_structures_and_frameworks_advanced/lib/python3.12/site-packages/lamindb/models/query_set.py:703\u001b[39m, in \u001b[36mBasicQuerySet.one_or_none\u001b[39m\u001b[34m(self)\u001b[39m\n\u001b[32m    696\u001b[39m \u001b[38;5;28;01mdef\u001b[39;00m\u001b[38;5;250m \u001b[39m\u001b[34mone_or_none\u001b[39m(\u001b[38;5;28mself\u001b[39m) -> Record | \u001b[38;5;28;01mNone\u001b[39;00m:\n\u001b[32m    697\u001b[39m \u001b[38;5;250m    \u001b[39m\u001b[33;03m\"\"\"At most one result. Returns it if there is one, otherwise returns ``None``.\u001b[39;00m\n\u001b[32m    698\u001b[39m \n\u001b[32m    699\u001b[39m \u001b[33;03m    Examples:\u001b[39;00m\n\u001b[32m    700\u001b[39m \u001b[33;03m        >>> ULabel.filter(name=\"benchmark\").one_or_none()\u001b[39;00m\n\u001b[32m    701\u001b[39m \u001b[33;03m        >>> ULabel.filter(name=\"non existing label\").one_or_none()\u001b[39;00m\n\u001b[32m    702\u001b[39m \u001b[33;03m    \"\"\"\u001b[39;00m\n\u001b[32m--> \u001b[39m\u001b[32m703\u001b[39m     \u001b[38;5;28;01mif\u001b[39;00m \u001b[38;5;28;43mlen\u001b[39;49m\u001b[43m(\u001b[49m\u001b[38;5;28;43mself\u001b[39;49m\u001b[43m)\u001b[49m == \u001b[32m0\u001b[39m:\n\u001b[32m    704\u001b[39m         \u001b[38;5;28;01mreturn\u001b[39;00m \u001b[38;5;28;01mNone\u001b[39;00m\n\u001b[32m    705\u001b[39m     \u001b[38;5;28;01melif\u001b[39;00m \u001b[38;5;28mlen\u001b[39m(\u001b[38;5;28mself\u001b[39m) == \u001b[32m1\u001b[39m:\n",
            "\u001b[36mFile \u001b[39m\u001b[32m~/miniconda3/envs/data_structures_and_frameworks_advanced/lib/python3.12/site-packages/django/db/models/query.py:382\u001b[39m, in \u001b[36mQuerySet.__len__\u001b[39m\u001b[34m(self)\u001b[39m\n\u001b[32m    381\u001b[39m \u001b[38;5;28;01mdef\u001b[39;00m\u001b[38;5;250m \u001b[39m\u001b[34m__len__\u001b[39m(\u001b[38;5;28mself\u001b[39m):\n\u001b[32m--> \u001b[39m\u001b[32m382\u001b[39m     \u001b[38;5;28;43mself\u001b[39;49m\u001b[43m.\u001b[49m\u001b[43m_fetch_all\u001b[49m\u001b[43m(\u001b[49m\u001b[43m)\u001b[49m\n\u001b[32m    383\u001b[39m     \u001b[38;5;28;01mreturn\u001b[39;00m \u001b[38;5;28mlen\u001b[39m(\u001b[38;5;28mself\u001b[39m._result_cache)\n",
            "\u001b[36mFile \u001b[39m\u001b[32m~/miniconda3/envs/data_structures_and_frameworks_advanced/lib/python3.12/site-packages/django/db/models/query.py:1928\u001b[39m, in \u001b[36mQuerySet._fetch_all\u001b[39m\u001b[34m(self)\u001b[39m\n\u001b[32m   1926\u001b[39m \u001b[38;5;28;01mdef\u001b[39;00m\u001b[38;5;250m \u001b[39m\u001b[34m_fetch_all\u001b[39m(\u001b[38;5;28mself\u001b[39m):\n\u001b[32m   1927\u001b[39m     \u001b[38;5;28;01mif\u001b[39;00m \u001b[38;5;28mself\u001b[39m._result_cache \u001b[38;5;129;01mis\u001b[39;00m \u001b[38;5;28;01mNone\u001b[39;00m:\n\u001b[32m-> \u001b[39m\u001b[32m1928\u001b[39m         \u001b[38;5;28mself\u001b[39m._result_cache = \u001b[38;5;28;43mlist\u001b[39;49m\u001b[43m(\u001b[49m\u001b[38;5;28;43mself\u001b[39;49m\u001b[43m.\u001b[49m\u001b[43m_iterable_class\u001b[49m\u001b[43m(\u001b[49m\u001b[38;5;28;43mself\u001b[39;49m\u001b[43m)\u001b[49m\u001b[43m)\u001b[49m\n\u001b[32m   1929\u001b[39m     \u001b[38;5;28;01mif\u001b[39;00m \u001b[38;5;28mself\u001b[39m._prefetch_related_lookups \u001b[38;5;129;01mand\u001b[39;00m \u001b[38;5;129;01mnot\u001b[39;00m \u001b[38;5;28mself\u001b[39m._prefetch_done:\n\u001b[32m   1930\u001b[39m         \u001b[38;5;28mself\u001b[39m._prefetch_related_objects()\n",
            "\u001b[36mFile \u001b[39m\u001b[32m~/miniconda3/envs/data_structures_and_frameworks_advanced/lib/python3.12/site-packages/django/db/models/query.py:91\u001b[39m, in \u001b[36mModelIterable.__iter__\u001b[39m\u001b[34m(self)\u001b[39m\n\u001b[32m     88\u001b[39m compiler = queryset.query.get_compiler(using=db)\n\u001b[32m     89\u001b[39m \u001b[38;5;66;03m# Execute the query. This will also fill compiler.select, klass_info,\u001b[39;00m\n\u001b[32m     90\u001b[39m \u001b[38;5;66;03m# and annotations.\u001b[39;00m\n\u001b[32m---> \u001b[39m\u001b[32m91\u001b[39m results = \u001b[43mcompiler\u001b[49m\u001b[43m.\u001b[49m\u001b[43mexecute_sql\u001b[49m\u001b[43m(\u001b[49m\n\u001b[32m     92\u001b[39m \u001b[43m    \u001b[49m\u001b[43mchunked_fetch\u001b[49m\u001b[43m=\u001b[49m\u001b[38;5;28;43mself\u001b[39;49m\u001b[43m.\u001b[49m\u001b[43mchunked_fetch\u001b[49m\u001b[43m,\u001b[49m\u001b[43m \u001b[49m\u001b[43mchunk_size\u001b[49m\u001b[43m=\u001b[49m\u001b[38;5;28;43mself\u001b[39;49m\u001b[43m.\u001b[49m\u001b[43mchunk_size\u001b[49m\n\u001b[32m     93\u001b[39m \u001b[43m\u001b[49m\u001b[43m)\u001b[49m\n\u001b[32m     94\u001b[39m select, klass_info, annotation_col_map = (\n\u001b[32m     95\u001b[39m     compiler.select,\n\u001b[32m     96\u001b[39m     compiler.klass_info,\n\u001b[32m     97\u001b[39m     compiler.annotation_col_map,\n\u001b[32m     98\u001b[39m )\n\u001b[32m     99\u001b[39m model_cls = klass_info[\u001b[33m\"\u001b[39m\u001b[33mmodel\u001b[39m\u001b[33m\"\u001b[39m]\n",
            "\u001b[36mFile \u001b[39m\u001b[32m~/miniconda3/envs/data_structures_and_frameworks_advanced/lib/python3.12/site-packages/django/db/models/sql/compiler.py:1572\u001b[39m, in \u001b[36mSQLCompiler.execute_sql\u001b[39m\u001b[34m(self, result_type, chunked_fetch, chunk_size)\u001b[39m\n\u001b[32m   1570\u001b[39m     cursor = \u001b[38;5;28mself\u001b[39m.connection.chunked_cursor()\n\u001b[32m   1571\u001b[39m \u001b[38;5;28;01melse\u001b[39;00m:\n\u001b[32m-> \u001b[39m\u001b[32m1572\u001b[39m     cursor = \u001b[38;5;28;43mself\u001b[39;49m\u001b[43m.\u001b[49m\u001b[43mconnection\u001b[49m\u001b[43m.\u001b[49m\u001b[43mcursor\u001b[49m\u001b[43m(\u001b[49m\u001b[43m)\u001b[49m\n\u001b[32m   1573\u001b[39m \u001b[38;5;28;01mtry\u001b[39;00m:\n\u001b[32m   1574\u001b[39m     cursor.execute(sql, params)\n",
            "\u001b[36mFile \u001b[39m\u001b[32m~/miniconda3/envs/data_structures_and_frameworks_advanced/lib/python3.12/site-packages/django/utils/asyncio.py:26\u001b[39m, in \u001b[36masync_unsafe.<locals>.decorator.<locals>.inner\u001b[39m\u001b[34m(*args, **kwargs)\u001b[39m\n\u001b[32m     24\u001b[39m         \u001b[38;5;28;01mraise\u001b[39;00m SynchronousOnlyOperation(message)\n\u001b[32m     25\u001b[39m \u001b[38;5;66;03m# Pass onward.\u001b[39;00m\n\u001b[32m---> \u001b[39m\u001b[32m26\u001b[39m \u001b[38;5;28;01mreturn\u001b[39;00m \u001b[43mfunc\u001b[49m\u001b[43m(\u001b[49m\u001b[43m*\u001b[49m\u001b[43margs\u001b[49m\u001b[43m,\u001b[49m\u001b[43m \u001b[49m\u001b[43m*\u001b[49m\u001b[43m*\u001b[49m\u001b[43mkwargs\u001b[49m\u001b[43m)\u001b[49m\n",
            "\u001b[36mFile \u001b[39m\u001b[32m~/miniconda3/envs/data_structures_and_frameworks_advanced/lib/python3.12/site-packages/django/db/backends/base/base.py:319\u001b[39m, in \u001b[36mBaseDatabaseWrapper.cursor\u001b[39m\u001b[34m(self)\u001b[39m\n\u001b[32m    316\u001b[39m \u001b[38;5;129m@async_unsafe\u001b[39m\n\u001b[32m    317\u001b[39m \u001b[38;5;28;01mdef\u001b[39;00m\u001b[38;5;250m \u001b[39m\u001b[34mcursor\u001b[39m(\u001b[38;5;28mself\u001b[39m):\n\u001b[32m    318\u001b[39m \u001b[38;5;250m    \u001b[39m\u001b[33;03m\"\"\"Create a cursor, opening a connection if necessary.\"\"\"\u001b[39;00m\n\u001b[32m--> \u001b[39m\u001b[32m319\u001b[39m     \u001b[38;5;28;01mreturn\u001b[39;00m \u001b[38;5;28;43mself\u001b[39;49m\u001b[43m.\u001b[49m\u001b[43m_cursor\u001b[49m\u001b[43m(\u001b[49m\u001b[43m)\u001b[49m\n",
            "\u001b[36mFile \u001b[39m\u001b[32m~/miniconda3/envs/data_structures_and_frameworks_advanced/lib/python3.12/site-packages/django/db/backends/base/base.py:295\u001b[39m, in \u001b[36mBaseDatabaseWrapper._cursor\u001b[39m\u001b[34m(self, name)\u001b[39m\n\u001b[32m    293\u001b[39m \u001b[38;5;28;01mdef\u001b[39;00m\u001b[38;5;250m \u001b[39m\u001b[34m_cursor\u001b[39m(\u001b[38;5;28mself\u001b[39m, name=\u001b[38;5;28;01mNone\u001b[39;00m):\n\u001b[32m    294\u001b[39m     \u001b[38;5;28mself\u001b[39m.close_if_health_check_failed()\n\u001b[32m--> \u001b[39m\u001b[32m295\u001b[39m     \u001b[38;5;28;43mself\u001b[39;49m\u001b[43m.\u001b[49m\u001b[43mensure_connection\u001b[49m\u001b[43m(\u001b[49m\u001b[43m)\u001b[49m\n\u001b[32m    296\u001b[39m     \u001b[38;5;28;01mwith\u001b[39;00m \u001b[38;5;28mself\u001b[39m.wrap_database_errors:\n\u001b[32m    297\u001b[39m         \u001b[38;5;28;01mreturn\u001b[39;00m \u001b[38;5;28mself\u001b[39m._prepare_cursor(\u001b[38;5;28mself\u001b[39m.create_cursor(name))\n",
            "\u001b[36mFile \u001b[39m\u001b[32m~/miniconda3/envs/data_structures_and_frameworks_advanced/lib/python3.12/site-packages/django/utils/asyncio.py:26\u001b[39m, in \u001b[36masync_unsafe.<locals>.decorator.<locals>.inner\u001b[39m\u001b[34m(*args, **kwargs)\u001b[39m\n\u001b[32m     24\u001b[39m         \u001b[38;5;28;01mraise\u001b[39;00m SynchronousOnlyOperation(message)\n\u001b[32m     25\u001b[39m \u001b[38;5;66;03m# Pass onward.\u001b[39;00m\n\u001b[32m---> \u001b[39m\u001b[32m26\u001b[39m \u001b[38;5;28;01mreturn\u001b[39;00m \u001b[43mfunc\u001b[49m\u001b[43m(\u001b[49m\u001b[43m*\u001b[49m\u001b[43margs\u001b[49m\u001b[43m,\u001b[49m\u001b[43m \u001b[49m\u001b[43m*\u001b[49m\u001b[43m*\u001b[49m\u001b[43mkwargs\u001b[49m\u001b[43m)\u001b[49m\n",
            "\u001b[36mFile \u001b[39m\u001b[32m~/miniconda3/envs/data_structures_and_frameworks_advanced/lib/python3.12/site-packages/django/db/backends/base/base.py:277\u001b[39m, in \u001b[36mBaseDatabaseWrapper.ensure_connection\u001b[39m\u001b[34m(self)\u001b[39m\n\u001b[32m    273\u001b[39m \u001b[38;5;28;01mif\u001b[39;00m \u001b[38;5;28mself\u001b[39m.in_atomic_block \u001b[38;5;129;01mand\u001b[39;00m \u001b[38;5;28mself\u001b[39m.closed_in_transaction:\n\u001b[32m    274\u001b[39m     \u001b[38;5;28;01mraise\u001b[39;00m ProgrammingError(\n\u001b[32m    275\u001b[39m         \u001b[33m\"\u001b[39m\u001b[33mCannot open a new connection in an atomic block.\u001b[39m\u001b[33m\"\u001b[39m\n\u001b[32m    276\u001b[39m     )\n\u001b[32m--> \u001b[39m\u001b[32m277\u001b[39m \u001b[38;5;28;01mwith\u001b[39;00m \u001b[38;5;28mself\u001b[39m.wrap_database_errors:\n\u001b[32m    278\u001b[39m     \u001b[38;5;28mself\u001b[39m.connect()\n",
            "\u001b[36mFile \u001b[39m\u001b[32m~/miniconda3/envs/data_structures_and_frameworks_advanced/lib/python3.12/site-packages/django/db/utils.py:91\u001b[39m, in \u001b[36mDatabaseErrorWrapper.__exit__\u001b[39m\u001b[34m(self, exc_type, exc_value, traceback)\u001b[39m\n\u001b[32m     89\u001b[39m \u001b[38;5;28;01mif\u001b[39;00m dj_exc_type \u001b[38;5;129;01mnot\u001b[39;00m \u001b[38;5;129;01min\u001b[39;00m (DataError, IntegrityError):\n\u001b[32m     90\u001b[39m     \u001b[38;5;28mself\u001b[39m.wrapper.errors_occurred = \u001b[38;5;28;01mTrue\u001b[39;00m\n\u001b[32m---> \u001b[39m\u001b[32m91\u001b[39m \u001b[38;5;28;01mraise\u001b[39;00m dj_exc_value.with_traceback(traceback) \u001b[38;5;28;01mfrom\u001b[39;00m\u001b[38;5;250m \u001b[39m\u001b[34;01mexc_value\u001b[39;00m\n",
            "\u001b[36mFile \u001b[39m\u001b[32m~/miniconda3/envs/data_structures_and_frameworks_advanced/lib/python3.12/site-packages/django/db/backends/base/base.py:278\u001b[39m, in \u001b[36mBaseDatabaseWrapper.ensure_connection\u001b[39m\u001b[34m(self)\u001b[39m\n\u001b[32m    274\u001b[39m     \u001b[38;5;28;01mraise\u001b[39;00m ProgrammingError(\n\u001b[32m    275\u001b[39m         \u001b[33m\"\u001b[39m\u001b[33mCannot open a new connection in an atomic block.\u001b[39m\u001b[33m\"\u001b[39m\n\u001b[32m    276\u001b[39m     )\n\u001b[32m    277\u001b[39m \u001b[38;5;28;01mwith\u001b[39;00m \u001b[38;5;28mself\u001b[39m.wrap_database_errors:\n\u001b[32m--> \u001b[39m\u001b[32m278\u001b[39m     \u001b[38;5;28;43mself\u001b[39;49m\u001b[43m.\u001b[49m\u001b[43mconnect\u001b[49m\u001b[43m(\u001b[49m\u001b[43m)\u001b[49m\n",
            "\u001b[36mFile \u001b[39m\u001b[32m~/miniconda3/envs/data_structures_and_frameworks_advanced/lib/python3.12/site-packages/django/utils/asyncio.py:26\u001b[39m, in \u001b[36masync_unsafe.<locals>.decorator.<locals>.inner\u001b[39m\u001b[34m(*args, **kwargs)\u001b[39m\n\u001b[32m     24\u001b[39m         \u001b[38;5;28;01mraise\u001b[39;00m SynchronousOnlyOperation(message)\n\u001b[32m     25\u001b[39m \u001b[38;5;66;03m# Pass onward.\u001b[39;00m\n\u001b[32m---> \u001b[39m\u001b[32m26\u001b[39m \u001b[38;5;28;01mreturn\u001b[39;00m \u001b[43mfunc\u001b[49m\u001b[43m(\u001b[49m\u001b[43m*\u001b[49m\u001b[43margs\u001b[49m\u001b[43m,\u001b[49m\u001b[43m \u001b[49m\u001b[43m*\u001b[49m\u001b[43m*\u001b[49m\u001b[43mkwargs\u001b[49m\u001b[43m)\u001b[49m\n",
            "\u001b[36mFile \u001b[39m\u001b[32m~/miniconda3/envs/data_structures_and_frameworks_advanced/lib/python3.12/site-packages/django/db/backends/base/base.py:255\u001b[39m, in \u001b[36mBaseDatabaseWrapper.connect\u001b[39m\u001b[34m(self)\u001b[39m\n\u001b[32m    253\u001b[39m \u001b[38;5;66;03m# Establish the connection\u001b[39;00m\n\u001b[32m    254\u001b[39m conn_params = \u001b[38;5;28mself\u001b[39m.get_connection_params()\n\u001b[32m--> \u001b[39m\u001b[32m255\u001b[39m \u001b[38;5;28mself\u001b[39m.connection = \u001b[38;5;28;43mself\u001b[39;49m\u001b[43m.\u001b[49m\u001b[43mget_new_connection\u001b[49m\u001b[43m(\u001b[49m\u001b[43mconn_params\u001b[49m\u001b[43m)\u001b[49m\n\u001b[32m    256\u001b[39m \u001b[38;5;28mself\u001b[39m.set_autocommit(\u001b[38;5;28mself\u001b[39m.settings_dict[\u001b[33m\"\u001b[39m\u001b[33mAUTOCOMMIT\u001b[39m\u001b[33m\"\u001b[39m])\n\u001b[32m    257\u001b[39m \u001b[38;5;28mself\u001b[39m.init_connection_state()\n",
            "\u001b[36mFile \u001b[39m\u001b[32m~/miniconda3/envs/data_structures_and_frameworks_advanced/lib/python3.12/site-packages/django/utils/asyncio.py:26\u001b[39m, in \u001b[36masync_unsafe.<locals>.decorator.<locals>.inner\u001b[39m\u001b[34m(*args, **kwargs)\u001b[39m\n\u001b[32m     24\u001b[39m         \u001b[38;5;28;01mraise\u001b[39;00m SynchronousOnlyOperation(message)\n\u001b[32m     25\u001b[39m \u001b[38;5;66;03m# Pass onward.\u001b[39;00m\n\u001b[32m---> \u001b[39m\u001b[32m26\u001b[39m \u001b[38;5;28;01mreturn\u001b[39;00m \u001b[43mfunc\u001b[49m\u001b[43m(\u001b[49m\u001b[43m*\u001b[49m\u001b[43margs\u001b[49m\u001b[43m,\u001b[49m\u001b[43m \u001b[49m\u001b[43m*\u001b[49m\u001b[43m*\u001b[49m\u001b[43mkwargs\u001b[49m\u001b[43m)\u001b[49m\n",
            "\u001b[36mFile \u001b[39m\u001b[32m~/miniconda3/envs/data_structures_and_frameworks_advanced/lib/python3.12/site-packages/django/db/backends/postgresql/base.py:332\u001b[39m, in \u001b[36mDatabaseWrapper.get_new_connection\u001b[39m\u001b[34m(self, conn_params)\u001b[39m\n\u001b[32m    330\u001b[39m     connection = \u001b[38;5;28mself\u001b[39m.pool.getconn()\n\u001b[32m    331\u001b[39m \u001b[38;5;28;01melse\u001b[39;00m:\n\u001b[32m--> \u001b[39m\u001b[32m332\u001b[39m     connection = \u001b[38;5;28;43mself\u001b[39;49m\u001b[43m.\u001b[49m\u001b[43mDatabase\u001b[49m\u001b[43m.\u001b[49m\u001b[43mconnect\u001b[49m\u001b[43m(\u001b[49m\u001b[43m*\u001b[49m\u001b[43m*\u001b[49m\u001b[43mconn_params\u001b[49m\u001b[43m)\u001b[49m\n\u001b[32m    333\u001b[39m \u001b[38;5;28;01mif\u001b[39;00m set_isolation_level:\n\u001b[32m    334\u001b[39m     connection.isolation_level = \u001b[38;5;28mself\u001b[39m.isolation_level\n",
            "\u001b[36mFile \u001b[39m\u001b[32m~/miniconda3/envs/data_structures_and_frameworks_advanced/lib/python3.12/site-packages/psycopg2/__init__.py:122\u001b[39m, in \u001b[36mconnect\u001b[39m\u001b[34m(dsn, connection_factory, cursor_factory, **kwargs)\u001b[39m\n\u001b[32m    119\u001b[39m     kwasync[\u001b[33m'\u001b[39m\u001b[33masync_\u001b[39m\u001b[33m'\u001b[39m] = kwargs.pop(\u001b[33m'\u001b[39m\u001b[33masync_\u001b[39m\u001b[33m'\u001b[39m)\n\u001b[32m    121\u001b[39m dsn = _ext.make_dsn(dsn, **kwargs)\n\u001b[32m--> \u001b[39m\u001b[32m122\u001b[39m conn = \u001b[43m_connect\u001b[49m\u001b[43m(\u001b[49m\u001b[43mdsn\u001b[49m\u001b[43m,\u001b[49m\u001b[43m \u001b[49m\u001b[43mconnection_factory\u001b[49m\u001b[43m=\u001b[49m\u001b[43mconnection_factory\u001b[49m\u001b[43m,\u001b[49m\u001b[43m \u001b[49m\u001b[43m*\u001b[49m\u001b[43m*\u001b[49m\u001b[43mkwasync\u001b[49m\u001b[43m)\u001b[49m\n\u001b[32m    123\u001b[39m \u001b[38;5;28;01mif\u001b[39;00m cursor_factory \u001b[38;5;129;01mis\u001b[39;00m \u001b[38;5;129;01mnot\u001b[39;00m \u001b[38;5;28;01mNone\u001b[39;00m:\n\u001b[32m    124\u001b[39m     conn.cursor_factory = cursor_factory\n",
            "\u001b[31mOperationalError\u001b[39m: connection to server at \"aws-0-eu-central-1.pooler.supabase.com\" (52.59.152.35), port 6543 failed: Operation timed out\n\tIs the server running on that host and accepting TCP/IP connections?\nconnection to server at \"aws-0-eu-central-1.pooler.supabase.com\" (18.198.30.239), port 6543 failed: Operation timed out\n\tIs the server running on that host and accepting TCP/IP connections?\nconnection to server at \"aws-0-eu-central-1.pooler.supabase.com\" (18.198.145.223), port 6543 failed: Operation timed out\n\tIs the server running on that host and accepting TCP/IP connections?\n"
          ]
        }
      ],
      "source": [
        "import lamindb as ln\n",
        "\n",
        "assert ln.setup.settings.instance.slug == \"theislab/sc-best-practices\"\n",
        "\n",
        "ln.track()\n",
        "af = ln.Artifact.get(key=\"trajectory/pseudotemporal.h5ad\", is_latest=True)\n",
        "adata = af.load()"
      ]
    },
    {
      "cell_type": "markdown",
      "id": "4118334e",
      "metadata": {},
      "source": [
        "Now you can work with the data loaded from `lamindb`.\n",
        "Finally, use `finish` to make the script visible in the instance."
      ]
    },
    {
      "cell_type": "code",
      "execution_count": null,
      "id": "cbe8f16e",
      "metadata": {},
      "outputs": [],
      "source": [
        "ln.finish()"
      ]
    },
    {
      "cell_type": "markdown",
      "id": "4d122b39",
      "metadata": {},
      "source": [
        "## Terms\n",
        "We explain common used term of the book in the glossary.\n",
        "In your chapter, link the first occurrence of a term with {term}`GLOSSARY TERM`, or with {term}`YOUR TERM <GLOSSARY TERM>` if the spelling differs from that of the glossary.\n",
        "For example: \n",
        "{term}`DNA` stores genetic information, while various {term}`RNAs <RNA>` play key roles in translating DNA into functional proteins.\n",
        "\n",
        "Helpful Links: \n",
        "- https://jupyterbook.org/en/stable/content/content-blocks.html#glossaries"
      ]
    },
    {
      "cell_type": "markdown",
      "id": "5db14c10",
      "metadata": {},
      "source": [
        "## Admonitions\n",
        "Use dropdowns whenever possible so that the reader is not overwhelmed by the content.\n",
        "For example:\n",
        "\n",
        "`````{admonition} This admonition was styled...\n",
        ":class: tip, dropdown\n",
        "With a tip class!\n",
        "`````\n",
        "\n",
        "Helpful links:\n",
        "- https://jupyterbook.org/en/stable/content/content-blocks.html#notes-warnings-and-other-admonitions\n",
        "- https://mystmd.org/guide/admonitions"
      ]
    },
    {
      "cell_type": "markdown",
      "id": "e5a3ec95",
      "metadata": {},
      "source": [
        "(template-template-key-takeaway-2)=\n",
        "## Figures\n",
        "Save your figure in a corresponding folder of `jupyter-book/_static/images/`, cite {numref}`example-fig` in the text and use the following syntax:\n",
        "\n",
        "```{figure} ../_static/images/raw_data_processing/UMI.png\n",
        ":name: example-fig\n",
        ":alt: A exemplary figure\n",
        ":with: 100%\n",
        "Figure Caption.\n",
        "```\n",
        "\n",
        "Helpful Links: \n",
        "- https://jupyterbook.org/en/stable/content/figures.html\n",
        "- https://mystmd.org/guide/figures"
      ]
    },
    {
      "cell_type": "markdown",
      "id": "9daa4aa7",
      "metadata": {},
      "source": [
        "## Code\n",
        "Hide long, cluttered sections of code or console output with cell tag label like `hide-input` or `hide-output`."
      ]
    },
    {
      "cell_type": "code",
      "execution_count": 5,
      "id": "e7c6364f",
      "metadata": {
        "tags": [
          "hide-output"
        ]
      },
      "outputs": [
        {
          "name": "stdout",
          "output_type": "stream",
          "text": [
            "This console output is hidden in a drop-down window.\n"
          ]
        }
      ],
      "source": [
        "print(\"This console output is hidden in a drop-down window.\")"
      ]
    },
    {
      "cell_type": "code",
      "execution_count": 4,
      "id": "dc061509",
      "metadata": {
        "tags": [
          "hide-input"
        ]
      },
      "outputs": [
        {
          "name": "stdout",
          "output_type": "stream",
          "text": [
            "This code block is hidden in a drop-down window.\n"
          ]
        }
      ],
      "source": [
        "print(\"This code block is hidden in a drop-down window.\")"
      ]
    },
    {
      "cell_type": "markdown",
      "id": "e160664b",
      "metadata": {},
      "source": [
        "To reduce noise, we should aim to write clean code that avoids generating warnings, and also filter out any non-informative warnings at the start of the notebook.\n",
        "\n",
        "Helpful Links: \n",
        "- https://jupyterbook.org/en/stable/interactive/hiding.html#hide-code-cell-content\n",
        "- https://mystmd.org/guide/notebook-configuration#notebook-cell-tags"
      ]
    },
    {
      "cell_type": "markdown",
      "id": "b00613ad",
      "metadata": {},
      "source": [
        "Add a `seealso` dropdown after the last paragraph and before the quiz title to provide further reading and other links.\n",
        "\n",
        "```{seealso}\n",
        ":class: dropdown\n",
        "Add further reading and other links here!\n",
        "```"
      ]
    },
    {
      "cell_type": "markdown",
      "id": "41d7e2eb",
      "metadata": {},
      "source": [
        "## Quiz\n",
        "Use `jupyter-book/src/lib.py`to create self-assessment questions."
      ]
    },
    {
      "cell_type": "code",
      "execution_count": 6,
      "id": "8b4cc05f",
      "metadata": {
        "tags": [
          "remove-input"
        ]
      },
      "outputs": [
        {
          "data": {
            "text/html": [
              "\n",
              "    <style>\n",
              "        .output.text_html {\n",
              "            --pst-color-text-base: transparent !important;\n",
              "        }\n",
              "        .flip-card-q1 {\n",
              "            background-color: transparent;\n",
              "            width: 350px;\n",
              "            height: 200px;\n",
              "            perspective: 1000px;\n",
              "            display: inline-block;\n",
              "            margin: 10px;\n",
              "            text-align: center;\n",
              "            padding: 10px;\n",
              "        }\n",
              "        .flip-card-inner-q1 {\n",
              "            position: relative;\n",
              "            width: 100%;\n",
              "            height: 100%;\n",
              "            text-align: center;\n",
              "            transition: transform 0.6s;\n",
              "            transform-style: preserve-3d;\n",
              "            transform-origin: center;\n",
              "        }\n",
              "        .flip-card-q1:hover .flip-card-inner-q1 {\n",
              "            transform: rotateY(180deg);\n",
              "        }\n",
              "        .flip-card-front-q1, .flip-card-back-q1 {\n",
              "            position: absolute;\n",
              "            width: 100%;\n",
              "            height: 100%;\n",
              "            min-height: 200px;\n",
              "            backface-visibility: hidden;\n",
              "            display: flex;\n",
              "            align-items: center;\n",
              "            justify-content: center;\n",
              "            font-weight: bold;\n",
              "            color: white;\n",
              "            padding: 20px;\n",
              "            border-radius: 15px;\n",
              "            box-sizing: border-box;\n",
              "            overflow: hidden;\n",
              "            text-align: center;\n",
              "        }\n",
              "        .flip-card-front-q1 {\n",
              "            background-color: #3965a3;\n",
              "            font-size: 20px;\n",
              "        }\n",
              "        .flip-card-back-q1 {\n",
              "            background-color: #a8d480;\n",
              "            transform: rotateY(180deg);\n",
              "            font-size: 20px;\n",
              "        }_b\n",
              "    </style>\n",
              "\n",
              "    <div class=\"flip-card-q1\">\n",
              "        <div class=\"flip-card-inner-q1\">\n",
              "            <div class=\"flip-card-front-q1\">\n",
              "                What is 2 + 2?\n",
              "            </div>\n",
              "            <div class=\"flip-card-back-q1\">\n",
              "                4\n",
              "            </div>\n",
              "        </div>\n",
              "    </div>\n",
              "    <noscript>\n",
              "        <p><strong>Q:</strong> What is 2 + 2?</p>\n",
              "        <p><strong>Answer:</strong> 4</p>\n",
              "    </noscript>\n",
              "    "
            ],
            "text/plain": [
              "<IPython.core.display.HTML object>"
            ]
          },
          "metadata": {},
          "output_type": "display_data"
        },
        {
          "data": {
            "text/html": [
              "\n",
              "    <style>\n",
              "        .output.text_html {\n",
              "            --pst-color-text-base: transparent !important;\n",
              "        }\n",
              "        .mcq-box {\n",
              "            border: none !important;\n",
              "            box-shadow: none !important;\n",
              "            outline: none !important;\n",
              "            padding: 15px;\n",
              "            width: 400px;\n",
              "            text-align: left;\n",
              "            font-size: 18px;\n",
              "            margin-bottom: 10px;\n",
              "            background-color: #3965a3;\n",
              "            border-radius: 10px;\n",
              "            color: white;\n",
              "        }\n",
              "    </style>\n",
              "\n",
              "    <div class=\"mcq-box\">\n",
              "        <p><strong>What is the capital of France?</strong></p>\n",
              "        \n",
              "        <label style=\"color: white;\">\n",
              "            <input type=\"radio\" name=\"qq1\" value=\"Paris\"\n",
              "            onclick=\"checkAnswer(this, 'Paris', '', 'feedback-q1')\"> Paris\n",
              "        </label><br>\n",
              "        \n",
              "        <label style=\"color: white;\">\n",
              "            <input type=\"radio\" name=\"qq1\" value=\"London\"\n",
              "            onclick=\"checkAnswer(this, 'Paris', 'London is the capital of the UK', 'feedback-q1')\"> London\n",
              "        </label><br>\n",
              "        \n",
              "        <label style=\"color: white;\">\n",
              "            <input type=\"radio\" name=\"qq1\" value=\"Berlin\"\n",
              "            onclick=\"checkAnswer(this, 'Paris', 'Berlin is the capital of Germany', 'feedback-q1')\"> Berlin\n",
              "        </label><br>\n",
              "        \n",
              "        <label style=\"color: white;\">\n",
              "            <input type=\"radio\" name=\"qq1\" value=\"Madrid\"\n",
              "            onclick=\"checkAnswer(this, 'Paris', 'Madrid is the capital of Spain', 'feedback-q1')\"> Madrid\n",
              "        </label><br>\n",
              "        \n",
              "        <p id=\"feedback-q1\" style=\"font-weight: bold;\"></p>\n",
              "        <p class=\"mcq-answer-q1\" style=\"display: none; font-weight: bold; color: red;\">\n",
              "            \u2714 Correct Answer: Paris\n",
              "        </p>\n",
              "    </div>\n",
              "\n",
              "    <script>\n",
              "    function checkAnswer(element, correct, explanation, feedbackId) {\n",
              "        let feedback = document.getElementById(feedbackId);\n",
              "        if (element.value === correct) {\n",
              "            feedback.innerHTML = \"\u2705 Correct!\";\n",
              "            feedback.style.color = \"#a8d480\";\n",
              "        } else {\n",
              "            feedback.innerHTML = \"\u274c Incorrect! \" + explanation;\n",
              "            feedback.style.color = \"#EE4B2B\";\n",
              "        }\n",
              "    }\n",
              "    </script>\n",
              "    "
            ],
            "text/plain": [
              "<IPython.core.display.HTML object>"
            ]
          },
          "metadata": {},
          "output_type": "display_data"
        }
      ],
      "source": [
        "%run ../src/lib.py\n",
        "flip_card(\"q1\", \"What is 2 + 2?\", \"4\")\n",
        "multiple_choice_question(\n",
        "    \"q1\",\n",
        "    \"What is the capital of France?\",\n",
        "    [\"Paris\", \"London\", \"Berlin\", \"Madrid\"],\n",
        "    \"Paris\",\n",
        "    {\n",
        "        \"London\": \"London is the capital of the UK\",\n",
        "        \"Berlin\": \"Berlin is the capital of Germany\",\n",
        "        \"Madrid\": \"Madrid is the capital of Spain\",\n",
        "    },\n",
        ")"
      ]
    },
    {
      "cell_type": "markdown",
      "id": "ec9a9a1d",
      "metadata": {},
      "source": [
        "## References\n",
        "Cite papers with {cite}`Heumos2023` in the text, while `Heumos2023` corresponds to the id in `template.bib`.\n",
        "Add the `.bib` file to `bibtex_bibfiles:` in `_config.yml`.\n",
        "Add a bibliography at the end of the chapter using the following syntax:\n",
        "\n",
        "```{bibliography}\n",
        ":filter: docname in docnames\n",
        "```\n",
        "\n",
        "Helpful Links: \n",
        "- https://jupyterbook.org/en/stable/content/citations.html#basic-citations"
      ]
    },
    {
      "cell_type": "markdown",
      "id": "d6bc6faf",
      "metadata": {},
      "source": [
        "## Contributors\n",
        "\n",
        "We gratefully acknowledge the contributions of:\n",
        "\n",
        "### Authors\n",
        "\n",
        "* autor name 1\n",
        "* autor name 2\n",
        "* ...\n",
        "\n",
        "### Reviewers\n",
        "\n",
        "* reviewer name 1\n",
        "* ..."
      ]
    }
  ],
  "metadata": {
    "kernelspec": {
      "display_name": "data_structures_and_frameworks_advanced",
      "language": "python",
      "name": "python3"
    },
    "language_info": {
      "codemirror_mode": {
        "name": "ipython",
        "version": 3
      },
      "file_extension": ".py",
      "mimetype": "text/x-python",
      "name": "python",
      "nbconvert_exporter": "python",
      "pygments_lexer": "ipython3",
      "version": "3.12.9"
    }
  },
  "nbformat": 4,
  "nbformat_minor": 5
}
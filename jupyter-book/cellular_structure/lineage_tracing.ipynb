{
 "cells": [
  {
   "cell_type": "markdown",
   "metadata": {},
   "source": [
    "# Lineage tracing data analysis (Matt)\n",
    "\n",
    "This chapter serves as an introduction to the basic technologies, tools, and analysis pipelines for lineage tracing.\n",
    "\n",
    "In the introduction, we will provide the background and motivation into lineage tracing apporaches."
   ]
  },
  {
   "cell_type": "markdown",
   "metadata": {},
   "source": [
    "# Lineage tracing technologies (Matt)\n",
    "Here we will discuss the existing approaches for performing lineage tracing, as well provide an overview of the major considerations for each approach. We will emphasize \"evolving\" lineage tracers, such as those with CRISPR/Cas9 technologies.\n",
    "\n",
    "Emphasize the inputs / outputs of the lineage tracing."
   ]
  },
  {
   "cell_type": "markdown",
   "metadata": {},
   "source": [
    "# Overview of analysis pipelines (Matt)\n",
    "\n",
    "Before jumping into the code, we'll give readers an overview of what to expect in the analysis pipeline."
   ]
  },
  {
   "cell_type": "markdown",
   "metadata": {},
   "source": [
    "## Environment setup.\n",
    "We'll focus on using Cassiopeia as the main analysis engine and third parties around tree analysis (Moscot)"
   ]
  },
  {
   "cell_type": "markdown",
   "metadata": {},
   "source": [
    "# Case Study: Tracing tumor development in a mouse model of lung cancer (Matt)\n",
    "We'll provide a brief background into the dataset. We'll use the study presented in [Yang et al, Cell (2022)](https://www.cell.com/cell/pdf/S0092-8674(22)00462-7.pdf)"
   ]
  },
  {
   "cell_type": "markdown",
   "metadata": {},
   "source": [
    "## Preprocessing raw data\n",
    "We'll discuss the major preprocessing steps needed to go from raw data to character matrices, that will be used for tree reconstruction."
   ]
  },
  {
   "cell_type": "markdown",
   "metadata": {},
   "source": [
    "## Reconstructing lineages\n",
    "We'll discuss the algorithms available for tree reconstruction and discuss the pros/cons of each algorithm. We'll also detail best practcies for tree reconstruction."
   ]
  },
  {
   "cell_type": "markdown",
   "metadata": {},
   "source": [
    "## Interpreting tree structure\n",
    "We'll demonstrate useful approaches for quantifying interesting properties on trees (e.g., expansion, fitness)"
   ]
  },
  {
   "cell_type": "markdown",
   "metadata": {},
   "source": [
    "## Learning from the tree\n",
    "We'll discuss how one can integrate transcriptomic data to derive insights into evolutionary patterns. Topics to discuss are:\n",
    "\n",
    "### Plasticity\n",
    "\n"
   ]
  },
  {
   "cell_type": "markdown",
   "metadata": {},
   "source": [
    "### Coupling analysis"
   ]
  },
  {
   "cell_type": "markdown",
   "metadata": {},
   "source": [
    "# Additional tools for integrating with transcriptomic data (Zoe)"
   ]
  },
  {
   "cell_type": "markdown",
   "metadata": {},
   "source": [
    "# Conclusions, more resources, future directions (Matt / Zoe)"
   ]
  },
  {
   "cell_type": "markdown",
   "metadata": {},
   "source": [
    "## Benchmarking / Simulations"
   ]
  },
  {
   "cell_type": "markdown",
   "metadata": {},
   "source": [
    "## Recap on Dos & Don'ts"
   ]
  },
  {
   "cell_type": "code",
   "execution_count": null,
   "metadata": {},
   "outputs": [],
   "source": []
  }
 ],
 "metadata": {
  "kernelspec": {
   "display_name": "Python 3",
   "language": "python",
   "name": "python3"
  },
  "language_info": {
   "codemirror_mode": {
    "name": "ipython",
    "version": 3
   },
   "file_extension": ".py",
   "mimetype": "text/x-python",
   "name": "python",
   "nbconvert_exporter": "python",
   "pygments_lexer": "ipython3",
   "version": "3.7.3"
  }
 },
 "nbformat": 4,
 "nbformat_minor": 5
}

{
 "cells": [
  {
   "cell_type": "markdown",
   "id": "7a7851ad",
   "metadata": {
    "pycharm": {
     "name": "#%% md\n"
    }
   },
   "source": [
    "# Lineage tracing data analysis\n",
    "\n",
    "Cellular lineages are ubiquitious in biology. Perhaps the most famous example is that of embyrogenesis: the process by which an organism like a human being is generated from from a single cell, the fertilized egg. During this process, subsequent cell divisions give rise to daughter cells and over time entire \"lineages\" that can take on specialized roles within the developing embryo. The amazing complexity of this process has captured the imagination of scientists for centuries, and over the past century and a half our understanding of this process has been bolstered by the development of high-throughput sequencing assays and new \"lineage tracing\" technologies for visualizing and characterizing this process {cite}`Woodworth2017`. Amongst the most exciting of these methods allow investigators to link measurements of cell state with models of their history, thus providing a window into how differentiation trajectories might have unfolded.\n",
    "\n",
    "The marriage of single-cell assays and lineage tracing approaches has yielded an exponential growth in the complexity of datasets, requiring the development of new computational methodology for their analysis. As such, there has been a strong need in developing new computational methodology for processing these datasets {cite}`DreamChallenge`. Sourcing heavily from population genetics literature, the past half decade has witnessed an exciting confluence of traditional concepts in evolutionary biology with cutting-edge genome engineering techniques.     \n",
    "\n",
    "In this chapter, we provide a brief overview of these new technologies and focus on the available computational pipelines for the analysis of their output and extraction of biological insight. To note, the pay special focus with our example to the CRISPR/Cas9-based \"evolving\" lineage tracing setting. However, there exist several other greatly useful experimental alternatives; for a more complete view, we refer the interested reader to the excellent reviews by Wagner & Klein {cite}`wagner2020`, Mckenna & Gagnon {cite}`mckenna`, and VanHorn & Morris {cite}`VanHorn2021`."
   ]
  },
  {
   "cell_type": "markdown",
   "id": "31bafb23",
   "metadata": {
    "pycharm": {
     "name": "#%% md\n"
    }
   },
   "source": [
    "## Lineage tracing technologies\n",
    "\n",
    "The goal of lineage tracing techniques is to infer lineage, or ancestry relationships between observed cells. In this, there are two major variables to consider: scale and resolution. Classical approaches relied heavily on visual observation: for example, in the 1970s Sulston and colleagues derived the first developmental lineage of the nematode _C. elegans_ by meticulously watching cell divisions under a microscope {cite}`Sulston1973`. While playing an imperative role in the progression of the field, such approaches cannot scale to complex organisms with more stochastic developmental lineages.\n",
    "\n",
    "Over the past two decades, the development of revolutionary sequencing assays and microfluidic devices has contributed to the development of new and diverse lineage tracing methodology. To digest the plethora of techniques, it is helpful to classify approaches as \"_prospective_\" or \"_retrospective_\". Generally speaking, prospective lineage tracing approaches use a heritable marker to trace a clonal population (i.e., all the descendants of a single cell). On the other hand, retrospective lineage tracing approaches use variability amongst observed cells - such as naturally occuring genetic mutations - to infer a model of their lineage, or \"_phylogeny_\", summarizing the cell division history of a clonal population.\n",
    "\n",
    "Several approaches have been developed for prospectively tracing a clonal population: for example, recombinases under a tissue-specific promoter can be used to activate fluorscent markers that act as heritable marks for a specific tissue lineage {cite}`brainbow`. Alternatively, lentiviral transduction can be used to integrate random DNA barcodes into cellular genomes to provide a heritable mark that can be used to deconvovle clonal identities with a sequencing readout. Though these approaches are highly scalable and often do not require heavy genome engineering, they can only report properties at the clonal-level such as clone size and composition.\n",
    "Retrospective lineage tracers overcome these limitations and provide an additional advantage over prospective tracers in that they can only report properties at the clonal-level such as clone size and composition, and are restricted to systems that are accessible to genome engineering. Traditionally, this has been done by leveraging natural genetic variation between cells to reconstruct a cell division history. While this approach is still widely and successfully used to study human tumors or tissue developmental histories, experimentalists have little or no control over how often or where mutations occur. In experimental models, there are opportunities to recapitulate the advantages of retrospective tracers while improving on the caveats by engineering evolvable lineage tracers. Such evolving tracers typically consist of engineering cells with a \"scratchpad\" (or, synonymously, \"target site\") that can acquire mutations. For example, a popular approach that this chapter focuses on uses Cas9 to introduce insertions and deletions (i.e., \"indels\") at the target site. In this way, cellular lineages acquire heritable mutations over time that can be subsequently read out with high-throughput sequencing platforms and used to infer phylogenies representing a model of the cell lineage.\n",
    "\n",
    "To note, both classes of lineage-tracing approaches can take advantage of adjacent advances in single-cell multiomic profiling. For example, investigators have routinely used single-cell RNA-seq (scRNA-seq) to read out simultaneously the functional state of single cells and their lineage relationships. This multimodal readout has created opportunity for new computational methodologies, which we detail below. \n",
    "\n",
    "As stated above, in this chapter we provide a detailed walkthrough on the analysis of data from evolving CRISPR/Cas9-based lineage tracers.\n",
    "\n",
    "\\ZP{should we (i) add more citations\\useful references here along text? \n",
    "(ii) at the end refer to CoSpar \\ LARRY for examples in different setting?} -- \\MJ{Definitely! I need to go through and add more references. We can add LARRY here"
   ]
  },
  {
   "cell_type": "markdown",
   "id": "93176170",
   "metadata": {
    "pycharm": {
     "name": "#%% md\n"
    }
   },
   "source": [
    "## Overview of evolving lineage tracing data analysis pipelines\n",
    "\n",
    "Before delving into the analysis of our example dataset, we will provide an overview of the computational pipeline for the analysis of data generated by evolving tracers. In general, with these systems, analysis will begin with raw sequencing data of an _amplicon_ library of target sites (often derived from a conventional scRNA-seq platform like 10X Chromium). Depending on the technology at hand, each sequenced amplicon will be between 150-300bp long; in the case of CRISPR/Cas9-based evolving tracers, each read will contain one more Cas9 cut sites. Within the preprocessing of this data, anlaysts are tasked with aligning the reads to a reference sequence and identifying any mutations (e.g., indels). \n",
    "\n",
    "While the preprocessing of these datasets is a critical step, in the interest of space, we focus on analysis pipelines  that receive preprocessed sequencing data as input and refer the reader to an external preprocessing tutorial which can be found here: https://cassiopeia-lineage.readthedocs.io/en/latest/notebooks/preprocess.html.  \n",
    "\n",
    "In most analysis frameworks, the preprocessing of the raw sequencing reads produces a data structure called the **character matrix** (denoted by $\\chi$) that summarizes the observed mutations in each cell across the target sites. In this data structure, each row is a cell (or \"sample\"), each column is a target site (or \"character\"), and the (row, column) values are categorical variables representing the identity of the indel observed in that cell at that particular cut site (or \"character-state\"). Depending on the technology at hand, these character matrices can report on anywhere between 100 and 10,000 samples across up to 100 characters.\n",
    "\n",
    "At this point, this data structure abstracts away the technicalities of the evolving lineage tracing assay and opens up the opportunity to computationally infer a **phylogenetic tree** ($\\mathcal{T}$) over the cells. Specifically, the goal is to learn a hierarchical tree structure over each of the cells in $\\chi$ (our character matrix). In this tree, each node represents a sample and each edge represents a lineage relationship. Importantly, we often have only observed the _leaves_ (denoted by $\\mathcal{L}$) of the tree and we refer to any of the unobserved set of internal nodes as _ancestral_ nodes.\n",
    "\n",
    "There are many algorithmic choices for inferring the phylogenetic tree ($\\mathcal{T}$) from the character matrix $\\chi$, which can be generally broken up into \"character-based\" and \"distance-based\" approaches:\n",
    "- Character-based: perform a combinatorial search through all possible tree topologies while seeking to optimize a function over the characters (e.g., the likelihood of the evolutionary history given the mutations observed in the characters). \n",
    "- distance-based (e.g Neighbor-Joining): use a notion of cell-cell distances (denoted by $\\delta$) to infer a phylogenetic tree and typically run in polynomial time. While distance-based approaches can perform much faster, they require one to iteratively find the best cell-cell dissimilarity function which can be equally time consuming.\n",
    "\n",
    "Following phylogenetic tree reconstruction, there are several options for downstream analysis. For example, one can learn about the rates of cell state changes across the developmental history or the relative propensities of cells to divide in a population. Below, we will demonstrate via code examples across two major case studies how these different components fit together to gain fundamental insights into the dynamic processes underlying cellular lineages.\n",
    "\n",
    "\\ZP{consider the necessity of defining $\\mathcal{T}$, $\\chi$, $\\delta$}"
   ]
  },
  {
   "cell_type": "markdown",
   "id": "21ce90bf",
   "metadata": {
    "pycharm": {
     "name": "#%% md\n"
    }
   },
   "source": [
    "## Environment setup.\n",
    "\n",
    "In this tutorial, we will primarily make use of the `Cassiopeia` package {cite}`Jones2020` for lineage tracing analysis.\n",
    "\n",
    "Before we enter this notebook's analysis, let's set up our environmnet."
   ]
  },
  {
   "cell_type": "code",
   "execution_count": 22,
   "id": "32ab4489",
   "metadata": {
    "pycharm": {
     "name": "#%%\n"
    }
   },
   "outputs": [],
   "source": [
    "import cassiopeia as cas\n",
    "import matplotlib.pyplot as plt\n",
    "import numpy as np\n",
    "import pandas as pd"
   ]
  },
  {
   "cell_type": "markdown",
   "id": "4f555039",
   "metadata": {
    "pycharm": {
     "name": "#%% md\n"
    }
   },
   "source": [
    "<div class=\"alert alert-block alert-warning\" style=\"color:black;\">\n",
    "<b>Heads up!</b> \n",
    "<br/br>\n",
    "    You should be sure to have python3.7 or above installed to follow this tutorial. Also, if you haven't yet, you can install Cassiopeia by following the instructions on <a href=\"https://github.com/Yoseflab/Cassiopeia\">the Cassiopeia github page</a>.\n",
    "</div>\n"
   ]
  },
  {
   "cell_type": "markdown",
   "id": "017efb19",
   "metadata": {
    "pycharm": {
     "name": "#%% md\n"
    },
    "tags": []
   },
   "source": [
    "# Case Study: Tracing tumor development in a mouse model of lung cancer\n",
    "In this case study, we will make use of the recent study presented in {cite}`Yang2022`. Briefly, in this study the authors integrated a evolving CRISPR/Cas9-based lineage tracer into the KP mouse model of non-small-cell lung cancer {cite}`DuPage`. Specifically, this mouse model carries oncogenic _Kras_ and _Tp53_ mutations that under native conditions are not expressed. However, upon the introduction of Cre recombinase via lentiviral inhalation, these oncogenic mutations are activated in single cells of the lung airway epithelium inducing tumors. In this study, the CRISPR/Cas9-based lineage tracer is under similar control and thus becomes active simultaneously upon tumor induction.\n",
    "\n",
    "With this system, the authors followed tumors from their single-cell origins over the course of approximately 4.5-6 months at which point they harvested aggressive, metastatic tumors. After dissociation of the tumors, the authors profiled both the lineage tracing target sites and the RNA content of single cells. This resulted in a large dataset of more than 70,000 cells across more than 100 tumors with both lineage and scRNA-seq information.\n",
    "\n",
    "In this tutorial, we will demonstrate how a user can take processed target site data to learn interesting dynamic properties of lineages. Throughout this case study, each lineage will correspond to a single primary tumor sampled from a mouse lung. "
   ]
  },
  {
   "cell_type": "markdown",
   "id": "e83aad80",
   "metadata": {
    "pycharm": {
     "name": "#%% md\n"
    }
   },
   "source": [
    "## Downloading the data\n",
    "This data is publicly hosted on [Zenodo](https://zenodo.org/record/5847462#.YrFDKuzMI6A) and we can download the data as follows:"
   ]
  },
  {
   "cell_type": "code",
   "execution_count": 9,
   "id": "39a04606-125f-48d8-a04f-4bd5b70ac2b3",
   "metadata": {
    "collapsed": true,
    "jupyter": {
     "outputs_hidden": true
    },
    "tags": []
   },
   "outputs": [
    {
     "name": "stdout",
     "output_type": "stream",
     "text": [
      "--2022-06-20 21:18:55--  https://zenodo.org/record/5847462/files/KPTracer-Data.tar.gz?download=1\n",
      "Resolving zenodo.org (zenodo.org)... 137.138.76.77\n",
      "Connecting to zenodo.org (zenodo.org)|137.138.76.77|:443... connected.\n",
      "HTTP request sent, awaiting response... 200 OK\n",
      "Length: 1304975216 (1.2G) [application/octet-stream]\n",
      "Saving to: ‘KPTracer-Data.tar.gz?download=1’\n",
      "\n",
      "KPTracer-Data.tar.g 100%[===================>]   1.21G  8.21MB/s    in 3m 54s  \n",
      "\n",
      "2022-06-20 21:22:51 (5.32 MB/s) - ‘KPTracer-Data.tar.gz?download=1’ saved [1304975216/1304975216]\n",
      "\n"
     ]
    }
   ],
   "source": [
    "!wget https://zenodo.org/record/5847462/files/KPTracer-Data.tar.gz?download=1"
   ]
  },
  {
   "cell_type": "code",
   "execution_count": 12,
   "id": "89914898-3465-47e9-8687-ff9ec1e0c0af",
   "metadata": {
    "collapsed": true,
    "jupyter": {
     "outputs_hidden": true
    },
    "tags": []
   },
   "outputs": [
    {
     "name": "stdout",
     "output_type": "stream",
     "text": [
      "KPTracer-Data/\n",
      "KPTracer-Data/plasticity_scores.tsv\n",
      "KPTracer-Data/._.DS_Store\n",
      "KPTracer-Data/.DS_Store\n",
      "KPTracer-Data/trees/\n",
      "KPTracer-Data/._trcr_master.txt\n",
      "KPTracer-Data/trcr_master.txt\n",
      "KPTracer-Data/._README\n",
      "KPTracer-Data/README\n",
      "KPTracer-Data/fitnesses/\n",
      "KPTracer-Data/KPTracer.alleleTable.unfiltered.txt\n",
      "KPTracer-Data/KPTracer.alleleTable.FINAL.txt\n",
      "KPTracer-Data/expression/\n",
      "KPTracer-Data/expansions/\n",
      "KPTracer-Data/tumor_statistics.tsv\n",
      "KPTracer-Data/KPTracer_meta.csv\n",
      "KPTracer-Data/expansions/clonal_expansions.3777_Apc_T4.txt\n",
      "KPTracer-Data/expansions/clonal_expansions.3513_NT_T3.nj.txt\n",
      "KPTracer-Data/expansions/clonal_expansions.3703_NT_T2.nj.txt\n",
      "KPTracer-Data/expansions/clonal_expansions.3457_Apc_T5.txt\n",
      "KPTracer-Data/expansions/clonal_expansions.3457_Apc_T4.txt\n",
      "KPTracer-Data/expansions/clonal_expansions.3724_NT_T1.txt\n",
      "KPTracer-Data/expansions/clonal_expansions.3435_NT_T4.nj.txt\n",
      "KPTracer-Data/expansions/clonal_expansions.3777_Apc_T5.txt\n",
      "KPTracer-Data/expansions/clonal_expansions.3730_NT_T1.txt\n",
      "KPTracer-Data/expansions/clonal_expansions.3465_Lkb1_T1.txt\n",
      "KPTracer-Data/expansions/clonal_expansions.3777_Apc_T6.txt\n",
      "KPTracer-Data/expansions/clonal_expansions.3730_NT_T2.txt\n",
      "KPTracer-Data/expansions/clonal_expansions.3732_Lkb1_T2.txt\n",
      "KPTracer-Data/expansions/clonal_expansions.3460_Lkb1_T1.txt\n",
      "KPTracer-Data/expansions/clonal_expansions.3777_Apc_T2.txt\n",
      "KPTracer-Data/expansions/clonal_expansions.3507_Apc_T1.txt\n",
      "KPTracer-Data/expansions/clonal_expansions.3457_Apc_T2.txt\n",
      "KPTracer-Data/expansions/clonal_expansions.3732_Lkb1_T1.txt\n",
      "KPTracer-Data/expansions/clonal_expansions.3777_Apc_T1.txt\n",
      "KPTracer-Data/expansions/clonal_expansions.3507_Apc_T2.txt\n",
      "KPTracer-Data/expansions/clonal_expansions.3457_Apc_T1.txt\n",
      "KPTracer-Data/expansions/clonal_expansions.3435_NT_T6.nj.txt\n",
      "KPTracer-Data/expansions/clonal_expansions.3703_NT_T2.txt\n",
      "KPTracer-Data/expansions/clonal_expansions.3726_NT_T2.nj.txt\n",
      "KPTracer-Data/expansions/clonal_expansions.3432_NT_T2.nj.txt\n",
      "KPTracer-Data/expansions/clonal_expansions.3513_NT_T3.txt\n",
      "KPTracer-Data/expansions/clonal_expansions.3730_NT_T1.nj.txt\n",
      "KPTracer-Data/expansions/clonal_expansions.3513_NT_T2.txt\n",
      "KPTracer-Data/expansions/clonal_expansions.3513_NT_T5.nj.txt\n",
      "KPTracer-Data/expansions/clonal_expansions.3454_Lkb1_T1.txt\n",
      "KPTracer-Data/expansions/clonal_expansions.3430_NT_T2.txt\n",
      "KPTracer-Data/expansions/clonal_expansions.3458_Apc_T1.txt\n",
      "KPTracer-Data/expansions/clonal_expansions.3508_Apc_T2.txt\n",
      "KPTracer-Data/expansions/clonal_expansions.3466_Lkb1_T1.txt\n",
      "KPTracer-Data/expansions/clonal_expansions.3520_NT_T1.txt\n",
      "KPTracer-Data/expansions/clonal_expansions.3454_Lkb1_T2.txt\n",
      "KPTracer-Data/expansions/clonal_expansions.3513_NT_T5.txt\n",
      "KPTracer-Data/expansions/clonal_expansions.3724_NT_T1.nj.txt\n",
      "KPTracer-Data/expansions/clonal_expansions.3458_Apc_T2.txt\n",
      "KPTracer-Data/expansions/clonal_expansions.3433_NT_T2.nj.txt\n",
      "KPTracer-Data/expansions/clonal_expansions.3508_Apc_T1.txt\n",
      "KPTracer-Data/expansions/clonal_expansions.3466_Lkb1_T2.txt\n",
      "KPTracer-Data/expansions/clonal_expansions.3434_NT_T2.nj.txt\n",
      "KPTracer-Data/expansions/clonal_expansions.3513_NT_T4.txt\n",
      "KPTracer-Data/expansions/clonal_expansions.3454_Lkb1_T3.txt\n",
      "KPTracer-Data/expansions/clonal_expansions.3726_NT_T1.txt\n",
      "KPTracer-Data/expansions/clonal_expansions.3435_NT_T3.txt\n",
      "KPTracer-Data/expansions/clonal_expansions.3726_NT_T2.txt\n",
      "KPTracer-Data/expansions/clonal_expansions.3726_NT_T1.nj.txt\n",
      "KPTracer-Data/expansions/clonal_expansions.3435_NT_T1.txt\n",
      "KPTracer-Data/expansions/clonal_expansions.3513_NT_T2.nj.txt\n",
      "KPTracer-Data/expansions/clonal_expansions.3435_NT_T4.txt\n",
      "KPTracer-Data/expansions/clonal_expansions.3464_Lkb1_T1.txt\n",
      "KPTracer-Data/expansions/clonal_expansions.3433_NT_T2.txt\n",
      "KPTracer-Data/expansions/clonal_expansions.3430_NT_T2.nj.txt\n",
      "KPTracer-Data/expansions/clonal_expansions.3435_NT_T6.txt\n",
      "KPTracer-Data/expansions/clonal_expansions.3505_Lkb1_T2.txt\n",
      "KPTracer-Data/expansions/clonal_expansions.3434_NT_T2.txt\n",
      "KPTracer-Data/expansions/clonal_expansions.3765_Apc_T1.txt\n",
      "KPTracer-Data/expansions/clonal_expansions.3513_NT_T4.nj.txt\n",
      "KPTracer-Data/expansions/clonal_expansions.3522_Apc_T2.txt\n",
      "KPTracer-Data/expansions/clonal_expansions.3435_NT_T3.nj.txt\n",
      "KPTracer-Data/expansions/clonal_expansions.3520_NT_T1.nj.txt\n",
      "KPTracer-Data/expansions/clonal_expansions.3434_NT_T3.txt\n",
      "KPTracer-Data/expansions/clonal_expansions.3519_Lkb1_T2.txt\n",
      "KPTracer-Data/expansions/clonal_expansions.3505_Lkb1_T3.txt\n",
      "KPTracer-Data/expansions/clonal_expansions.3522_Apc_T1.txt\n",
      "KPTracer-Data/expansions/clonal_expansions.3519_Lkb1_T1.txt\n",
      "KPTracer-Data/expansions/clonal_expansions.3434_NT_T3.nj.txt\n",
      "KPTracer-Data/expansions/clonal_expansions.3510_Apc_T1.txt\n",
      "KPTracer-Data/expansions/clonal_expansions.3515_Lkb1_T3.txt\n",
      "KPTracer-Data/expansions/clonal_expansions.3515_Lkb1_T2.txt\n",
      "KPTracer-Data/expansions/clonal_expansions.3432_NT_T2.txt\n",
      "KPTracer-Data/expansions/clonal_expansions.3510_Apc_T2.txt\n",
      "KPTracer-Data/expansions/clonal_expansions.3730_NT_T2.nj.txt\n",
      "KPTracer-Data/expansions/clonal_expansions.3515_Lkb1_T1.txt\n",
      "KPTracer-Data/expansions/clonal_expansions.3432_NT_T1.txt\n",
      "KPTracer-Data/expansions/clonal_expansions.3435_NT_T1.nj.txt\n",
      "KPTracer-Data/expansions/clonal_expansions.3510_Apc_T3.txt\n",
      "KPTracer-Data/expansions/clonal_expansions.3432_NT_T1.nj.txt\n",
      "KPTracer-Data/expression/._.DS_Store\n",
      "KPTracer-Data/expression/.DS_Store\n",
      "KPTracer-Data/expression/majority_vote.down_genes.sgNT.txt\n",
      "KPTracer-Data/expression/adata_processed.nt.h5ad\n",
      "KPTracer-Data/expression/majority_vote.up_genes.sgNT.txt\n",
      "KPTracer-Data/expression/adata_processed.combined.h5ad\n",
      "KPTracer-Data/fitnesses/mean_fitness.3703_NT_T2.txt\n",
      "KPTracer-Data/fitnesses/mean_fitness.3458_Apc_T2.txt\n",
      "KPTracer-Data/fitnesses/mean_fitness.3454_Lkb1_T2.txt\n",
      "KPTracer-Data/fitnesses/mean_fitness.3466_Lkb1_T2.txt\n",
      "KPTracer-Data/fitnesses/mean_fitness.3730_NT_T2.txt\n",
      "KPTracer-Data/fitnesses/mean_fitness.3454_Lkb1_T3.txt\n",
      "KPTracer-Data/fitnesses/mean_fitness.3508_Apc_T1.txt\n",
      "KPTracer-Data/fitnesses/mean_fitness.3458_Apc_T1.txt\n",
      "KPTracer-Data/fitnesses/mean_fitness.3454_Lkb1_T1.txt\n",
      "KPTracer-Data/fitnesses/mean_fitness.3466_Lkb1_T1.txt\n",
      "KPTracer-Data/fitnesses/mean_fitness.3730_NT_T1.txt\n",
      "KPTracer-Data/fitnesses/mean_fitness.3724_NT_T1.txt\n",
      "KPTracer-Data/fitnesses/mean_fitness.3508_Apc_T2.txt\n",
      "KPTracer-Data/fitnesses/mean_fitness.3465_Lkb1_T1.txt\n",
      "KPTracer-Data/fitnesses/mean_fitness.3513_NT_T5.txt\n",
      "KPTracer-Data/fitnesses/mean_fitness.3513_NT_T4.txt\n",
      "KPTracer-Data/fitnesses/mean_fitness.3777_Apc_T6.txt\n",
      "KPTracer-Data/fitnesses/mean_fitness.3457_Apc_T5.txt\n",
      "KPTracer-Data/fitnesses/mean_fitness.3777_Apc_T4.txt\n",
      "KPTracer-Data/fitnesses/mean_fitness.3430_NT_T2.txt\n",
      "KPTracer-Data/fitnesses/mean_fitness.3520_NT_T1.txt\n",
      "KPTracer-Data/fitnesses/mean_fitness.3777_Apc_T5.txt\n",
      "KPTracer-Data/fitnesses/mean_fitness.3457_Apc_T4.txt\n",
      "KPTracer-Data/fitnesses/mean_fitness.3732_Lkb1_T1.txt\n",
      "KPTracer-Data/fitnesses/mean_fitness.3507_Apc_T2.txt\n",
      "KPTracer-Data/fitnesses/mean_fitness.3777_Apc_T1.txt\n",
      "KPTracer-Data/fitnesses/mean_fitness.3513_NT_T3.txt\n",
      "KPTracer-Data/fitnesses/mean_fitness.3513_NT_T2.txt\n",
      "KPTracer-Data/fitnesses/mean_fitness.3457_Apc_T1.txt\n",
      "KPTracer-Data/fitnesses/mean_fitness.3460_Lkb1_T1.txt\n",
      "KPTracer-Data/fitnesses/mean_fitness.3732_Lkb1_T2.txt\n",
      "KPTracer-Data/fitnesses/mean_fitness.3507_Apc_T1.txt\n",
      "KPTracer-Data/fitnesses/mean_fitness.3777_Apc_T2.txt\n",
      "KPTracer-Data/fitnesses/mean_fitness.3457_Apc_T2.txt\n",
      "KPTracer-Data/fitnesses/mean_fitness.3522_Apc_T1.txt\n",
      "KPTracer-Data/fitnesses/mean_fitness.3467_Lkb1_T1.txt\n",
      "KPTracer-Data/fitnesses/mean_fitness.3519_Lkb1_T1.txt\n",
      "KPTracer-Data/fitnesses/mean_fitness.3435_NT_T6.txt\n",
      "KPTracer-Data/fitnesses/mean_fitness.3522_Apc_T2.txt\n",
      "KPTracer-Data/fitnesses/mean_fitness.3435_NT_T4.txt\n",
      "KPTracer-Data/fitnesses/mean_fitness.3505_Lkb1_T2.txt\n",
      "KPTracer-Data/fitnesses/mean_fitness.3467_Lkb1_T2.txt\n",
      "KPTracer-Data/fitnesses/mean_fitness.3765_Apc_T1.txt\n",
      "KPTracer-Data/fitnesses/mean_fitness.3433_NT_T2.txt\n",
      "KPTracer-Data/fitnesses/mean_fitness.3519_Lkb1_T2.txt\n",
      "KPTracer-Data/fitnesses/mean_fitness.3505_Lkb1_T3.txt\n",
      "KPTracer-Data/fitnesses/mean_fitness.3435_NT_T1.txt\n",
      "KPTracer-Data/fitnesses/mean_fitness.3726_NT_T2.txt\n",
      "KPTracer-Data/fitnesses/mean_fitness.3510_Apc_T2.txt\n",
      "KPTracer-Data/fitnesses/mean_fitness.3515_Lkb1_T1.txt\n",
      "KPTracer-Data/fitnesses/mean_fitness.3510_Apc_T3.txt\n",
      "KPTracer-Data/fitnesses/mean_fitness.3726_NT_T1.txt\n",
      "KPTracer-Data/fitnesses/mean_fitness.3510_Apc_T1.txt\n",
      "KPTracer-Data/fitnesses/mean_fitness.3515_Lkb1_T3.txt\n",
      "KPTracer-Data/fitnesses/mean_fitness.3515_Lkb1_T2.txt\n",
      "KPTracer-Data/fitnesses/mean_fitness.3435_NT_T3.txt\n",
      "KPTracer-Data/fitnesses/mean_fitness.3432_NT_T1.txt\n",
      "KPTracer-Data/fitnesses/mean_fitness.3432_NT_T2.txt\n",
      "KPTracer-Data/fitnesses/mean_fitness.3434_NT_T2.txt\n",
      "KPTracer-Data/fitnesses/mean_fitness.3434_NT_T3.txt\n",
      "KPTracer-Data/fitnesses/mean_fitness.3464_Lkb1_T1.txt\n",
      "KPTracer-Data/trees/3732_Lkb1_T2_tree.nwk\n",
      "KPTracer-Data/trees/3510_Apc_T3_character_matrix.txt\n",
      "KPTracer-Data/trees/3513_NT_T3_character_matrix.txt\n",
      "KPTracer-Data/trees/3454_Lkb1_All_character_matrix.txt\n",
      "KPTracer-Data/trees/3458_Apc_T1_tree.nwk\n",
      "KPTracer-Data/trees/3460_Lkb1_T1_tree.nwk\n",
      "KPTracer-Data/trees/3513_NT_T3_priors.pkl\n",
      "KPTracer-Data/trees/3513_NT_T5_tree.nwk\n",
      "KPTracer-Data/trees/3513_NT_T4_tree.nwk\n",
      "KPTracer-Data/trees/3454_Lkb1_T1_character_matrix.txt\n",
      "KPTracer-Data/trees/3467_Lkb1_T2_priors.pkl\n",
      "KPTracer-Data/trees/3433_NT_T2_priors.pkl\n",
      "KPTracer-Data/trees/3457_Apc_T2_character_matrix.txt\n",
      "KPTracer-Data/trees/3777_Apc_T6_priors.pkl\n",
      "KPTracer-Data/trees/3435_NT_T3_priors.pkl\n",
      "KPTracer-Data/trees/3434_NT_T1_priors.pkl\n",
      "KPTracer-Data/trees/3510_Apc_T3_priors.pkl\n",
      "KPTracer-Data/trees/3466_Lkb1_T1_priors.pkl\n",
      "KPTracer-Data/trees/3730_NT_T1_priors.pkl\n",
      "KPTracer-Data/trees/3507_Apc_T2_character_matrix.txt\n",
      "KPTracer-Data/trees/3465_Lkb1_T1_character_matrix.txt\n",
      "KPTracer-Data/trees/3507_Apc_T2_priors.pkl\n",
      "KPTracer-Data/trees/3505_Lkb1_T3_priors.pkl\n",
      "KPTracer-Data/trees/3466_Lkb1_T2_tree.nwk\n",
      "KPTracer-Data/trees/3457_Apc_T4_Fam_tree.nwk\n",
      "KPTracer-Data/trees/3519_Lkb1_T3_character_matrix.txt\n",
      "KPTracer-Data/trees/3724_NT_T1_priors.pkl\n",
      "KPTracer-Data/trees/3435_NT_T3_character_matrix.txt\n",
      "KPTracer-Data/trees/3457_Apc_T1_tree.nwk\n",
      "KPTracer-Data/trees/3515_Lkb1_T3_priors.pkl\n",
      "KPTracer-Data/trees/3435_NT_T6_tree.nwk\n",
      "KPTracer-Data/trees/3433_NT_T2_character_matrix.txt\n",
      "KPTracer-Data/trees/3435_NT_T6_character_matrix.txt\n",
      "KPTracer-Data/trees/3515_Lkb1_All_character_matrix.txt\n",
      "KPTracer-Data/trees/3430_NT_T1_tree.nwk\n",
      "KPTracer-Data/trees/3703_NT_T1_character_matrix.txt\n",
      "KPTracer-Data/trees/3434_NT_T2_character_matrix.txt\n",
      "KPTracer-Data/trees/3522_Apc_T1_tree.nwk\n",
      "KPTracer-Data/trees/3508_Apc_All_tree.nwk\n",
      "KPTracer-Data/trees/3513_NT_T1_Fam_priors.pkl\n",
      "KPTracer-Data/trees/3457_Apc_T5_priors.pkl\n",
      "KPTracer-Data/trees/3460_Lkb1_T1_Fam_tree.nwk\n",
      "KPTracer-Data/trees/3451_Lkb1_T1_tree.nwk\n",
      "KPTracer-Data/trees/3703_NT_T1_tree.nwk\n",
      "KPTracer-Data/trees/3467_Lkb1_T2_character_matrix.txt\n",
      "KPTracer-Data/trees/3508_Apc_All_character_matrix.txt\n",
      "KPTracer-Data/trees/3454_Lkb1_T2_priors.pkl\n",
      "KPTracer-Data/trees/3726_NT_T2_tree.nwk\n",
      "KPTracer-Data/trees/3457_Apc_T4_Fam_character_matrix.txt\n",
      "KPTracer-Data/trees/3458_Apc_T2_character_matrix.txt\n",
      "KPTracer-Data/trees/3508_Apc_T2_character_matrix.txt\n",
      "KPTracer-Data/trees/3520_NT_T1_tree.nwk\n",
      "KPTracer-Data/trees/3777_Apc_T2_character_matrix.txt\n",
      "KPTracer-Data/trees/3430_NT_T1_priors.pkl\n",
      "KPTracer-Data/trees/3732_Lkb1_T2_character_matrix.txt\n",
      "KPTracer-Data/trees/3777_Apc_T4_tree.nwk\n",
      "KPTracer-Data/trees/3465_Lkb1_T1_priors.pkl\n",
      "KPTracer-Data/trees/3519_Lkb1_T1_tree.nwk\n",
      "KPTracer-Data/trees/3777_Apc_T5_tree.nwk\n",
      "KPTracer-Data/trees/3466_Lkb1_T1_character_matrix.txt\n",
      "KPTracer-Data/trees/3724_NT_All_priors.pkl\n",
      "KPTracer-Data/trees/3522_Apc_T1_character_matrix.txt\n",
      "KPTracer-Data/trees/3458_Apc_T1_priors.pkl\n",
      "KPTracer-Data/trees/3510_Apc_T1_tree.nwk\n",
      "KPTracer-Data/trees/3505_Lkb1_T1_character_matrix.txt\n",
      "KPTracer-Data/trees/3522_Apc_T1_priors.pkl\n",
      "KPTracer-Data/trees/3464_Lkb1_T1_tree.nwk\n",
      "KPTracer-Data/trees/3435_NT_T6_priors.pkl\n",
      "KPTracer-Data/trees/3434_NT_T1_tree.nwk\n",
      "KPTracer-Data/trees/3777_Apc_T4_priors.pkl\n",
      "KPTracer-Data/trees/3435_NT_T1_priors.pkl\n",
      "KPTracer-Data/trees/3519_Lkb1_T2_character_matrix.txt\n",
      "KPTracer-Data/trees/3513_NT_All_priors.pkl\n",
      "KPTracer-Data/trees/3510_Apc_T1_priors.pkl\n",
      "KPTracer-Data/trees/3434_NT_T3_priors.pkl\n",
      "KPTracer-Data/trees/3432_NT_T2_priors.pkl\n",
      "KPTracer-Data/trees/3454_Lkb1_All_priors.pkl\n",
      "KPTracer-Data/trees/3513_NT_T1_priors.pkl\n",
      "KPTracer-Data/trees/3430_NT_T1_character_matrix.txt\n",
      "KPTracer-Data/trees/3507_Apc_T1_tree.nwk\n",
      "KPTracer-Data/trees/3515_Lkb1_T1_priors.pkl\n",
      "KPTracer-Data/trees/3703_NT_T2_priors.pkl\n",
      "KPTracer-Data/trees/3515_Lkb1_All_tree.nwk\n",
      "KPTracer-Data/trees/3460_Lkb1_T1_character_matrix.txt\n",
      "KPTracer-Data/trees/3777_Apc_T2_tree.nwk\n",
      "KPTracer-Data/trees/3457_Apc_T2_priors.pkl\n",
      "KPTracer-Data/trees/3508_Apc_T1_tree.nwk\n",
      "KPTracer-Data/trees/3457_Apc_T1_Fam_character_matrix.txt\n",
      "KPTracer-Data/trees/3519_Lkb1_T1_Fam_tree.nwk\n",
      "KPTracer-Data/trees/3513_NT_T2_character_matrix.txt\n",
      "KPTracer-Data/trees/3519_Lkb1_T2_priors.pkl\n",
      "KPTracer-Data/trees/3510_Apc_T2_character_matrix.txt\n",
      "KPTracer-Data/trees/3505_Lkb1_T2_tree.nwk\n",
      "KPTracer-Data/trees/3505_Lkb1_T3_tree.nwk\n",
      "KPTracer-Data/trees/3505_Lkb1_T1_priors.pkl\n",
      "KPTracer-Data/trees/3451_Lkb1_T1_character_matrix.txt\n",
      "KPTracer-Data/trees/3724_NT_All_tree.nwk\n",
      "KPTracer-Data/trees/3467_Lkb1_T2_tree.nwk\n",
      "KPTracer-Data/trees/3454_Lkb1_T1_tree.nwk\n",
      "KPTracer-Data/trees/3457_Apc_T3_character_matrix.txt\n",
      "KPTracer-Data/trees/3451_Lkb1_T2_priors.pkl\n",
      "KPTracer-Data/trees/3515_Lkb1_T1_character_matrix.txt\n",
      "KPTracer-Data/trees/3765_Apc_T1_tree.nwk\n",
      "KPTracer-Data/trees/3513_NT_T2_tree.nwk\n",
      "KPTracer-Data/trees/3513_NT_T3_tree.nwk\n",
      "KPTracer-Data/trees/3726_NT_T2_priors.pkl\n",
      "KPTracer-Data/trees/tumor_list.txt\n",
      "KPTracer-Data/trees/3432_NT_T1_tree.nwk\n",
      "KPTracer-Data/trees/3777_Apc_T6_character_matrix.txt\n",
      "KPTracer-Data/trees/3465_Lkb1_T1_tree.nwk\n",
      "KPTracer-Data/trees/3434_NT_T3_character_matrix.txt\n",
      "KPTracer-Data/trees/3726_NT_T1_character_matrix.txt\n",
      "KPTracer-Data/trees/3732_Lkb1_T1_priors.pkl\n",
      "KPTracer-Data/trees/3777_Apc_T1_priors.pkl\n",
      "KPTracer-Data/trees/3435_NT_T4_priors.pkl\n",
      "KPTracer-Data/trees/3508_Apc_T1_priors.pkl\n",
      "KPTracer-Data/trees/3460_Lkb1_T1_priors.pkl\n",
      "KPTracer-Data/trees/3513_NT_T4_priors.pkl\n",
      "KPTracer-Data/trees/3515_Lkb1_T3_tree.nwk\n",
      "KPTracer-Data/trees/3515_Lkb1_T2_tree.nwk\n",
      "KPTracer-Data/trees/3435_NT_T1_tree.nwk\n",
      "KPTracer-Data/trees/3730_NT_T1_character_matrix.txt\n",
      "KPTracer-Data/trees/3730_NT_T2_tree.nwk\n",
      "KPTracer-Data/trees/3432_NT_T2_character_matrix.txt\n",
      "KPTracer-Data/trees/3765_Apc_T1_character_matrix.txt\n",
      "KPTracer-Data/trees/3726_NT_T1_tree.nwk\n",
      "KPTracer-Data/trees/3508_Apc_T2_Fam_character_matrix.txt\n",
      "KPTracer-Data/trees/3730_NT_T2_character_matrix.txt\n",
      "KPTracer-Data/trees/3460_Lkb1_T1_Fam_character_matrix.txt\n",
      "KPTracer-Data/trees/3432_NT_T1_character_matrix.txt\n",
      "KPTracer-Data/trees/3519_Lkb1_T3_tree.nwk\n",
      "KPTracer-Data/trees/3519_Lkb1_T2_tree.nwk\n",
      "KPTracer-Data/trees/3777_Apc_T6_tree.nwk\n",
      "KPTracer-Data/trees/3515_Lkb1_All_priors.pkl\n",
      "KPTracer-Data/trees/3726_NT_T2_character_matrix.txt\n",
      "KPTracer-Data/trees/3703_NT_T3_character_matrix.txt\n",
      "KPTracer-Data/trees/3454_Lkb1_T3_priors.pkl\n",
      "KPTracer-Data/trees/3726_NT_T1_priors.pkl\n",
      "KPTracer-Data/trees/3451_Lkb1_T1_priors.pkl\n",
      "KPTracer-Data/trees/3510_Apc_T3_tree.nwk\n",
      "KPTracer-Data/trees/3510_Apc_T2_tree.nwk\n",
      "KPTracer-Data/trees/3457_Apc_T4_priors.pkl\n",
      "KPTracer-Data/trees/3777_Apc_T5_character_matrix.txt\n",
      "KPTracer-Data/trees/3505_Lkb1_T3_character_matrix.txt\n",
      "KPTracer-Data/trees/3460_Lkb1_T2_priors.pkl\n",
      "KPTracer-Data/trees/3508_Apc_T2_priors.pkl\n",
      "KPTracer-Data/trees/3522_Apc_T2_tree.nwk\n",
      "KPTracer-Data/trees/3732_Lkb1_T2_priors.pkl\n",
      "KPTracer-Data/trees/3777_Apc_T2_priors.pkl\n",
      "KPTracer-Data/trees/3515_Lkb1_T2_character_matrix.txt\n",
      "KPTracer-Data/trees/3451_Lkb1_T3_tree.nwk\n",
      "KPTracer-Data/trees/3451_Lkb1_T2_tree.nwk\n",
      "KPTracer-Data/trees/3703_NT_T2_tree.nwk\n",
      "KPTracer-Data/trees/3703_NT_T3_tree.nwk\n",
      "KPTracer-Data/trees/3513_NT_T2_priors.pkl\n",
      "KPTracer-Data/trees/3466_Lkb1_T1_tree.nwk\n",
      "KPTracer-Data/trees/3513_NT_T4_character_matrix.txt\n",
      "KPTracer-Data/trees/3451_Lkb1_T2_character_matrix.txt\n",
      "KPTracer-Data/trees/3515_Lkb1_T1_Fam_priors.pkl\n",
      "KPTracer-Data/trees/3513_NT_T1_Fam_character_matrix.txt\n",
      "KPTracer-Data/trees/3510_Apc_T2_priors.pkl\n",
      "KPTracer-Data/trees/3454_Lkb1_T3_character_matrix.txt\n",
      "KPTracer-Data/trees/3457_Apc_T3_tree.nwk\n",
      "KPTracer-Data/trees/3457_Apc_T2_tree.nwk\n",
      "KPTracer-Data/trees/3435_NT_T4_tree.nwk\n",
      "KPTracer-Data/trees/3432_NT_T1_priors.pkl\n",
      "KPTracer-Data/trees/3460_Lkb1_T2_character_matrix.txt\n",
      "KPTracer-Data/trees/3457_Apc_T5_character_matrix.txt\n",
      "KPTracer-Data/trees/3510_Apc_T1_character_matrix.txt\n",
      "KPTracer-Data/trees/3430_NT_T2_tree.nwk\n",
      "KPTracer-Data/trees/3513_NT_T1_character_matrix.txt\n",
      "KPTracer-Data/trees/3457_Apc_T1_Fam_priors.pkl\n",
      "KPTracer-Data/trees/3732_Lkb1_T1_tree.nwk\n",
      "KPTracer-Data/trees/3458_Apc_T2_tree.nwk\n",
      "KPTracer-Data/trees/3435_NT_T4_character_matrix.txt\n",
      "KPTracer-Data/trees/3515_Lkb1_T1_Fam_tree.nwk\n",
      "KPTracer-Data/trees/3519_Lkb1_All_tree.nwk\n",
      "KPTracer-Data/trees/3430_NT_T2_character_matrix.txt\n",
      "KPTracer-Data/trees/3460_Lkb1_T2_tree.nwk\n",
      "KPTracer-Data/trees/3505_Lkb1_T2_priors.pkl\n",
      "KPTracer-Data/trees/3435_NT_T1_character_matrix.txt\n",
      "KPTracer-Data/trees/3519_Lkb1_T1_character_matrix.txt\n",
      "KPTracer-Data/trees/3457_Apc_T1_priors.pkl\n",
      "KPTracer-Data/trees/3724_NT_T1_character_matrix.txt\n",
      "KPTracer-Data/trees/3519_Lkb1_T1_priors.pkl\n",
      "KPTracer-Data/trees/3515_Lkb1_T2_priors.pkl\n",
      "KPTracer-Data/trees/3703_NT_T1_priors.pkl\n",
      "KPTracer-Data/trees/3466_Lkb1_T2_character_matrix.txt\n",
      "KPTracer-Data/trees/3513_NT_Mets_priors.pkl\n",
      "KPTracer-Data/trees/3522_Apc_T2_character_matrix.txt\n",
      "KPTracer-Data/trees/3454_Lkb1_T1_priors.pkl\n",
      "KPTracer-Data/trees/3451_Lkb1_T3_priors.pkl\n",
      "KPTracer-Data/trees/neighbor_joining/\n",
      "KPTracer-Data/trees/3505_Lkb1_T2_character_matrix.txt\n",
      "KPTracer-Data/trees/3777_Apc_T4_character_matrix.txt\n",
      "KPTracer-Data/trees/3458_Apc_T1_character_matrix.txt\n",
      "KPTracer-Data/trees/3457_Apc_T4_tree.nwk\n",
      "KPTracer-Data/trees/3460_Lkb1_T1_Fam_priors.pkl\n",
      "KPTracer-Data/trees/3515_Lkb1_T1_tree.nwk\n",
      "KPTracer-Data/trees/3457_Apc_T5_tree.nwk\n",
      "KPTracer-Data/trees/3435_NT_T3_tree.nwk\n",
      "KPTracer-Data/trees/3730_NT_T1_tree.nwk\n",
      "KPTracer-Data/trees/3508_Apc_T1_character_matrix.txt\n",
      "KPTracer-Data/trees/3519_Lkb1_T1_Fam_priors.pkl\n",
      "KPTracer-Data/trees/3777_Apc_T1_character_matrix.txt\n",
      "KPTracer-Data/trees/3732_Lkb1_T1_character_matrix.txt\n",
      "KPTracer-Data/trees/3508_Apc_T2_Fam_tree.nwk\n",
      "KPTracer-Data/trees/3515_Lkb1_T3_character_matrix.txt\n",
      "KPTracer-Data/trees/3458_Apc_T2_priors.pkl\n",
      "KPTracer-Data/trees/3522_Apc_T2_priors.pkl\n",
      "KPTracer-Data/trees/3467_Lkb1_T1_character_matrix.txt\n",
      "KPTracer-Data/trees/3457_Apc_T4_Fam_priors.pkl\n",
      "KPTracer-Data/trees/3513_NT_T1_tree.nwk\n",
      "KPTracer-Data/trees/3515_Lkb1_T1_Fam_character_matrix.txt\n",
      "KPTracer-Data/trees/3432_NT_T2_tree.nwk\n",
      "KPTracer-Data/trees/3430_NT_T2_priors.pkl\n",
      "KPTracer-Data/trees/3703_NT_T2_character_matrix.txt\n",
      "KPTracer-Data/trees/3765_Apc_T1_priors.pkl\n",
      "KPTracer-Data/trees/3434_NT_T1_character_matrix.txt\n",
      "KPTracer-Data/trees/3513_NT_T5_priors.pkl\n",
      "KPTracer-Data/trees/3464_Lkb1_T1_priors.pkl\n",
      "KPTracer-Data/trees/3454_Lkb1_All_tree.nwk\n",
      "KPTracer-Data/trees/3724_NT_All_character_matrix.txt\n",
      "KPTracer-Data/trees/3513_NT_T1_Fam_tree.nwk\n",
      "KPTracer-Data/trees/3508_Apc_T2_Fam_priors.pkl\n",
      "KPTracer-Data/trees/3434_NT_T2_priors.pkl\n",
      "KPTracer-Data/trees/3730_NT_T2_priors.pkl\n",
      "KPTracer-Data/trees/3466_Lkb1_T2_priors.pkl\n",
      "KPTracer-Data/trees/3464_Lkb1_T1_character_matrix.txt\n",
      "KPTracer-Data/trees/3433_NT_T2_tree.nwk\n",
      "KPTracer-Data/trees/3508_Apc_All_priors.pkl\n",
      "KPTracer-Data/trees/3777_Apc_T1_tree.nwk\n",
      "KPTracer-Data/trees/3467_Lkb1_T1_priors.pkl\n",
      "KPTracer-Data/trees/3777_Apc_T5_priors.pkl\n",
      "KPTracer-Data/trees/3508_Apc_T2_tree.nwk\n",
      "KPTracer-Data/trees/3505_Lkb1_T1_tree.nwk\n",
      "KPTracer-Data/trees/3467_Lkb1_T1_tree.nwk\n",
      "KPTracer-Data/trees/3519_Lkb1_All_character_matrix.txt\n",
      "KPTracer-Data/trees/3454_Lkb1_T2_tree.nwk\n",
      "KPTracer-Data/trees/3454_Lkb1_T3_tree.nwk\n",
      "KPTracer-Data/trees/3434_NT_T2_tree.nwk\n",
      "KPTracer-Data/trees/3434_NT_T3_tree.nwk\n",
      "KPTracer-Data/trees/3520_NT_T1_character_matrix.txt\n",
      "KPTracer-Data/trees/3457_Apc_T1_character_matrix.txt\n",
      "KPTracer-Data/trees/3457_Apc_T3_priors.pkl\n",
      "KPTracer-Data/trees/3519_Lkb1_T3_priors.pkl\n",
      "KPTracer-Data/trees/3451_Lkb1_T3_character_matrix.txt\n",
      "KPTracer-Data/trees/3513_NT_T5_character_matrix.txt\n",
      "KPTracer-Data/trees/3507_Apc_T1_character_matrix.txt\n",
      "KPTracer-Data/trees/3724_NT_T1_tree.nwk\n",
      "KPTracer-Data/trees/3457_Apc_T1_Fam_tree.nwk\n",
      "KPTracer-Data/trees/3703_NT_T3_priors.pkl\n",
      "KPTracer-Data/trees/3457_Apc_T4_character_matrix.txt\n",
      "KPTracer-Data/trees/3507_Apc_T2_tree.nwk\n",
      "KPTracer-Data/trees/3520_NT_T1_priors.pkl\n",
      "KPTracer-Data/trees/3519_Lkb1_All_priors.pkl\n",
      "KPTracer-Data/trees/3507_Apc_T1_priors.pkl\n",
      "KPTracer-Data/trees/3519_Lkb1_T1_Fam_character_matrix.txt\n",
      "KPTracer-Data/trees/3454_Lkb1_T2_character_matrix.txt\n",
      "KPTracer-Data/trees/neighbor_joining/3510_Apc_T2_tree_nj.processed.tree\n",
      "KPTracer-Data/trees/neighbor_joining/3464_Lkb1_T1_tree_nj.processed.tree\n",
      "KPTracer-Data/trees/neighbor_joining/3730_NT_T1_tree_nj.processed.tree\n",
      "KPTracer-Data/trees/neighbor_joining/3726_NT_T2_tree_nj.processed.tree\n",
      "KPTracer-Data/trees/neighbor_joining/3432_NT_T1_tree_nj.processed.tree\n",
      "KPTracer-Data/trees/neighbor_joining/3457_Apc_T4_tree_nj.processed.tree\n",
      "KPTracer-Data/trees/neighbor_joining/3519_Lkb1_T3_tree_nj.processed.tree\n",
      "KPTracer-Data/trees/neighbor_joining/3513_NT_T1_tree_nj.processed.tree\n",
      "KPTracer-Data/trees/neighbor_joining/3515_Lkb1_T3_tree_nj.processed.tree\n",
      "KPTracer-Data/trees/neighbor_joining/3457_Apc_T3_tree_nj.processed.tree\n",
      "KPTracer-Data/trees/neighbor_joining/3513_NT_All_tree_nj.processed.tree\n",
      "KPTracer-Data/trees/neighbor_joining/3434_NT_T3_tree_nj.processed.tree\n",
      "KPTracer-Data/trees/neighbor_joining/3454_Lkb1_T3_tree_nj.processed.tree\n",
      "KPTracer-Data/trees/neighbor_joining/3513_NT_T2_tree_nj.processed.tree\n",
      "KPTracer-Data/trees/neighbor_joining/3454_Lkb1_All_tree_nj.processed.tree\n",
      "KPTracer-Data/trees/neighbor_joining/3726_NT_T1_tree_nj.processed.tree\n",
      "KPTracer-Data/trees/neighbor_joining/3432_NT_T2_tree_nj.processed.tree\n",
      "KPTracer-Data/trees/neighbor_joining/3730_NT_T2_tree_nj.processed.tree\n",
      "KPTracer-Data/trees/neighbor_joining/3510_Apc_T1_tree_nj.processed.tree\n",
      "KPTracer-Data/trees/neighbor_joining/3513_NT_T5_tree_nj.processed.tree\n",
      "KPTracer-Data/trees/neighbor_joining/3513_NT_T4_tree_nj.processed.tree\n",
      "KPTracer-Data/trees/neighbor_joining/3458_Apc_T1_tree_nj.processed.tree\n",
      "KPTracer-Data/trees/neighbor_joining/3519_Lkb1_All_tree_nj.processed.tree\n",
      "KPTracer-Data/trees/neighbor_joining/3519_Lkb1_T1_tree_nj.processed.tree\n",
      "KPTracer-Data/trees/neighbor_joining/3465_Lkb1_T1_tree_nj.processed.tree\n",
      "KPTracer-Data/trees/neighbor_joining/3508_Apc_T1_tree_nj.processed.tree\n",
      "KPTracer-Data/trees/neighbor_joining/3732_Lkb1_T2_tree_nj.processed.tree\n",
      "KPTracer-Data/trees/neighbor_joining/3457_Apc_T1_tree_nj.processed.tree\n",
      "KPTracer-Data/trees/neighbor_joining/3513_NT_T3_tree_nj.processed.tree\n",
      "KPTracer-Data/trees/neighbor_joining/3515_Lkb1_T1_tree_nj.processed.tree\n",
      "KPTracer-Data/trees/neighbor_joining/3522_Apc_T1_tree_nj.processed.tree\n",
      "KPTracer-Data/trees/neighbor_joining/3454_Lkb1_T2_tree_nj.processed.tree\n",
      "KPTracer-Data/trees/neighbor_joining/3765_Apc_T1_tree_nj.processed.tree\n",
      "KPTracer-Data/trees/neighbor_joining/3724_NT_All_tree_nj.processed.tree\n",
      "KPTracer-Data/trees/neighbor_joining/3507_Apc_T1_tree_nj.processed.tree\n",
      "KPTracer-Data/trees/neighbor_joining/3434_NT_T2_tree_nj.processed.tree\n",
      "KPTracer-Data/trees/neighbor_joining/3454_Lkb1_T1_tree_nj.processed.tree\n",
      "KPTracer-Data/trees/neighbor_joining/3522_Apc_T2_tree_nj.processed.tree\n",
      "KPTracer-Data/trees/neighbor_joining/3515_Lkb1_T2_tree_nj.processed.tree\n",
      "KPTracer-Data/trees/neighbor_joining/3457_Apc_T2_tree_nj.processed.tree\n",
      "KPTracer-Data/trees/neighbor_joining/3434_NT_T1_tree_nj.processed.tree\n",
      "KPTracer-Data/trees/neighbor_joining/3507_Apc_T2_tree_nj.processed.tree\n",
      "KPTracer-Data/trees/neighbor_joining/3519_Lkb1_T2_tree_nj.processed.tree\n",
      "KPTracer-Data/trees/neighbor_joining/3458_Apc_T2_tree_nj.processed.tree\n",
      "KPTracer-Data/trees/neighbor_joining/3508_Apc_T2_tree_nj.processed.tree\n",
      "KPTracer-Data/trees/neighbor_joining/3732_Lkb1_T1_tree_nj.processed.tree\n",
      "KPTracer-Data/trees/neighbor_joining/3510_Apc_T3_tree_nj.processed.tree\n",
      "KPTracer-Data/trees/neighbor_joining/3460_Lkb1_T1_Fam_tree_nj.processed.tree\n",
      "KPTracer-Data/trees/neighbor_joining/3451_Lkb1_T2_tree_nj.processed.tree\n",
      "KPTracer-Data/trees/neighbor_joining/3777_Apc_T5_tree_nj.processed.tree\n",
      "KPTracer-Data/trees/neighbor_joining/3435_NT_T1_tree_nj.processed.tree\n",
      "KPTracer-Data/trees/neighbor_joining/3505_Lkb1_T1_tree_nj.processed.tree\n",
      "KPTracer-Data/trees/neighbor_joining/3777_Apc_T2_tree_nj.processed.tree\n",
      "KPTracer-Data/trees/neighbor_joining/3435_NT_T6_tree_nj.processed.tree\n",
      "KPTracer-Data/trees/neighbor_joining/3466_Lkb1_T1_tree_nj.processed.tree\n",
      "KPTracer-Data/trees/neighbor_joining/3703_NT_T3_tree_nj.processed.tree\n",
      "KPTracer-Data/trees/neighbor_joining/3515_Lkb1_T1_Fam_tree_nj.processed.tree\n",
      "KPTracer-Data/trees/neighbor_joining/3513_NT_Mets_tree_nj.processed.tree\n",
      "KPTracer-Data/trees/neighbor_joining/3460_Lkb1_T1_tree_nj.processed.tree\n",
      "KPTracer-Data/trees/neighbor_joining/3466_Lkb1_T2_tree_nj.processed.tree\n",
      "KPTracer-Data/trees/neighbor_joining/3508_Apc_T2_Fam_tree_nj.processed.tree\n",
      "KPTracer-Data/trees/neighbor_joining/3777_Apc_T1_tree_nj.processed.tree\n",
      "KPTracer-Data/trees/neighbor_joining/3460_Lkb1_T2_tree_nj.processed.tree\n",
      "KPTracer-Data/trees/neighbor_joining/3515_Lkb1_All_tree_nj.processed.tree\n",
      "KPTracer-Data/trees/neighbor_joining/3451_Lkb1_T1_tree_nj.processed.tree\n",
      "KPTracer-Data/trees/neighbor_joining/3777_Apc_T6_tree_nj.processed.tree\n",
      "KPTracer-Data/trees/neighbor_joining/3505_Lkb1_T2_tree_nj.processed.tree\n",
      "KPTracer-Data/trees/neighbor_joining/3505_Lkb1_T3_tree_nj.processed.tree\n",
      "KPTracer-Data/trees/neighbor_joining/3520_NT_T1_tree_nj.processed.tree\n",
      "KPTracer-Data/trees/neighbor_joining/3435_NT_T3_tree_nj.processed.tree\n",
      "KPTracer-Data/trees/neighbor_joining/3703_NT_T1_tree_nj.processed.tree\n",
      "KPTracer-Data/trees/neighbor_joining/3467_Lkb1_T1_tree_nj.processed.tree\n",
      "KPTracer-Data/trees/neighbor_joining/3513_NT_T1_Fam_tree_nj.processed.tree\n",
      "KPTracer-Data/trees/neighbor_joining/3433_NT_T2_tree_nj.processed.tree\n",
      "KPTracer-Data/trees/neighbor_joining/3430_NT_T1_tree_nj.processed.tree\n",
      "KPTracer-Data/trees/neighbor_joining/3435_NT_T4_tree_nj.processed.tree\n",
      "KPTracer-Data/trees/neighbor_joining/3519_Lkb1_T1_Fam_tree_nj.processed.tree\n",
      "KPTracer-Data/trees/neighbor_joining/3703_NT_T2_tree_nj.processed.tree\n",
      "KPTracer-Data/trees/neighbor_joining/3430_NT_T2_tree_nj.processed.tree\n",
      "KPTracer-Data/trees/neighbor_joining/3724_NT_T1_tree_nj.processed.tree\n",
      "KPTracer-Data/trees/neighbor_joining/3467_Lkb1_T2_tree_nj.processed.tree\n",
      "KPTracer-Data/trees/neighbor_joining/3508_Apc_All_tree_nj.processed.tree\n",
      "KPTracer-Data/trees/neighbor_joining/3777_Apc_T4_tree_nj.processed.tree\n",
      "KPTracer-Data/trees/neighbor_joining/3451_Lkb1_T3_tree_nj.processed.tree\n"
     ]
    }
   ],
   "source": [
    "!tar -xvzf KPTracer-Data.tar.gz?download=1"
   ]
  },
  {
   "cell_type": "markdown",
   "id": "0d503772-51a0-4e17-ab91-27b271cc9af1",
   "metadata": {},
   "source": [
    "## Examine the data\n",
    "\n",
    "The processed lineage tracing data is stored in an `allele_table` which summarizes the edits across each target site Cas9 cut site on each intBC of a cell.\n",
    "\n",
    "Columns labeled `r*` indicate cut sites and store the indel CIGAR string for each intBC in each cellBC. The table can also store meta data corresponding to the tumor assignment for each cell.\n",
    "\n",
    "We'll focus on the data from KP tumors without any additional perturbations."
   ]
  },
  {
   "cell_type": "code",
   "execution_count": 14,
   "id": "9ee6b35c-43ab-4c4d-b024-27d4aedf78a7",
   "metadata": {},
   "outputs": [
    {
     "name": "stderr",
     "output_type": "stream",
     "text": [
      "/data/yosef2/users/mattjones/opt/miniconda3/envs/cas3.7/lib/python3.7/site-packages/IPython/core/interactiveshell.py:3186: DtypeWarning: Columns (12) have mixed types.Specify dtype option on import or set low_memory=False.\n",
      "  interactivity=interactivity, compiler=compiler, result=result)\n"
     ]
    },
    {
     "data": {
      "text/html": [
       "<div>\n",
       "<style scoped>\n",
       "    .dataframe tbody tr th:only-of-type {\n",
       "        vertical-align: middle;\n",
       "    }\n",
       "\n",
       "    .dataframe tbody tr th {\n",
       "        vertical-align: top;\n",
       "    }\n",
       "\n",
       "    .dataframe thead th {\n",
       "        text-align: right;\n",
       "    }\n",
       "</style>\n",
       "<table border=\"1\" class=\"dataframe\">\n",
       "  <thead>\n",
       "    <tr style=\"text-align: right;\">\n",
       "      <th></th>\n",
       "      <th>cellBC</th>\n",
       "      <th>intBC</th>\n",
       "      <th>r1</th>\n",
       "      <th>r2</th>\n",
       "      <th>r3</th>\n",
       "      <th>allele</th>\n",
       "      <th>sampleID</th>\n",
       "      <th>UMI</th>\n",
       "      <th>readCount</th>\n",
       "      <th>Tumor</th>\n",
       "      <th>MetFamily</th>\n",
       "      <th>ES_clone</th>\n",
       "    </tr>\n",
       "  </thead>\n",
       "  <tbody>\n",
       "    <tr>\n",
       "      <th>0</th>\n",
       "      <td>L9.TTTGTCATCTGTCAAG-1</td>\n",
       "      <td>TTCCCTATTTGCTA</td>\n",
       "      <td>CGCCG[111:2D]AAATG</td>\n",
       "      <td>GATAT[None]CTCTG</td>\n",
       "      <td>AATTC[220:1I]GGCGGA</td>\n",
       "      <td>CGCCG[111:2D]AAATGGATAT[None]CTCTGAATTC[220:1I...</td>\n",
       "      <td>L9</td>\n",
       "      <td>54</td>\n",
       "      <td>796</td>\n",
       "      <td>3724_NT_T1</td>\n",
       "      <td>3724_NT_T1</td>\n",
       "      <td>2E1</td>\n",
       "    </tr>\n",
       "    <tr>\n",
       "      <th>1</th>\n",
       "      <td>L9.TTTGTCATCTGTCAAG-1</td>\n",
       "      <td>TGTTTTTGTCTGCA</td>\n",
       "      <td>CGCCG[111:1I]AAAAAA</td>\n",
       "      <td>CATGT[151:19D]TGGTT</td>\n",
       "      <td>TTAAT[218:2D]GCGGA</td>\n",
       "      <td>CGCCG[111:1I]AAAAAACATGT[151:19D]TGGTTTTAAT[21...</td>\n",
       "      <td>L9</td>\n",
       "      <td>13</td>\n",
       "      <td>209</td>\n",
       "      <td>3724_NT_T1</td>\n",
       "      <td>3724_NT_T1</td>\n",
       "      <td>2E1</td>\n",
       "    </tr>\n",
       "    <tr>\n",
       "      <th>2</th>\n",
       "      <td>L9.TTTGTCATCTGTCAAG-1</td>\n",
       "      <td>TGTGAAGGTCAATA</td>\n",
       "      <td>CCGAA[113:49D]GATAT</td>\n",
       "      <td>CCGAA[113:49D]GATAT</td>\n",
       "      <td>AATTC[220:5D]GGACA</td>\n",
       "      <td>CCGAA[113:49D]GATATCCGAA[113:49D]GATATAATTC[22...</td>\n",
       "      <td>L9</td>\n",
       "      <td>68</td>\n",
       "      <td>1193</td>\n",
       "      <td>3724_NT_T1</td>\n",
       "      <td>3724_NT_T1</td>\n",
       "      <td>2E1</td>\n",
       "    </tr>\n",
       "    <tr>\n",
       "      <th>3</th>\n",
       "      <td>L9.TTTGTCATCTGTCAAG-1</td>\n",
       "      <td>TCAGGCGATGCGAA</td>\n",
       "      <td>CGCCG[111:1I]AAAAAA</td>\n",
       "      <td>CGATA[166:1I]TTCTCT</td>\n",
       "      <td>TAATT[219:2D]CGGAG</td>\n",
       "      <td>CGCCG[111:1I]AAAAAACGATA[166:1I]TTCTCTTAATT[21...</td>\n",
       "      <td>L9</td>\n",
       "      <td>43</td>\n",
       "      <td>745</td>\n",
       "      <td>3724_NT_T1</td>\n",
       "      <td>3724_NT_T1</td>\n",
       "      <td>2E1</td>\n",
       "    </tr>\n",
       "    <tr>\n",
       "      <th>4</th>\n",
       "      <td>L9.TTTGTCATCTGTCAAG-1</td>\n",
       "      <td>TATGATTAGTCGCG</td>\n",
       "      <td>CGCCG[111:1D]AAAAT</td>\n",
       "      <td>GATAT[167:54D]CGGAG</td>\n",
       "      <td>GATAT[167:54D]CGGAG</td>\n",
       "      <td>CGCCG[111:1D]AAAATGATAT[167:54D]CGGAGGATAT[167...</td>\n",
       "      <td>L9</td>\n",
       "      <td>27</td>\n",
       "      <td>530</td>\n",
       "      <td>3724_NT_T1</td>\n",
       "      <td>3724_NT_T1</td>\n",
       "      <td>2E1</td>\n",
       "    </tr>\n",
       "  </tbody>\n",
       "</table>\n",
       "</div>"
      ],
      "text/plain": [
       "                  cellBC           intBC                   r1  \\\n",
       "0  L9.TTTGTCATCTGTCAAG-1  TTCCCTATTTGCTA   CGCCG[111:2D]AAATG   \n",
       "1  L9.TTTGTCATCTGTCAAG-1  TGTTTTTGTCTGCA  CGCCG[111:1I]AAAAAA   \n",
       "2  L9.TTTGTCATCTGTCAAG-1  TGTGAAGGTCAATA  CCGAA[113:49D]GATAT   \n",
       "3  L9.TTTGTCATCTGTCAAG-1  TCAGGCGATGCGAA  CGCCG[111:1I]AAAAAA   \n",
       "4  L9.TTTGTCATCTGTCAAG-1  TATGATTAGTCGCG   CGCCG[111:1D]AAAAT   \n",
       "\n",
       "                    r2                   r3  \\\n",
       "0     GATAT[None]CTCTG  AATTC[220:1I]GGCGGA   \n",
       "1  CATGT[151:19D]TGGTT   TTAAT[218:2D]GCGGA   \n",
       "2  CCGAA[113:49D]GATAT   AATTC[220:5D]GGACA   \n",
       "3  CGATA[166:1I]TTCTCT   TAATT[219:2D]CGGAG   \n",
       "4  GATAT[167:54D]CGGAG  GATAT[167:54D]CGGAG   \n",
       "\n",
       "                                              allele sampleID  UMI  readCount  \\\n",
       "0  CGCCG[111:2D]AAATGGATAT[None]CTCTGAATTC[220:1I...       L9   54        796   \n",
       "1  CGCCG[111:1I]AAAAAACATGT[151:19D]TGGTTTTAAT[21...       L9   13        209   \n",
       "2  CCGAA[113:49D]GATATCCGAA[113:49D]GATATAATTC[22...       L9   68       1193   \n",
       "3  CGCCG[111:1I]AAAAAACGATA[166:1I]TTCTCTTAATT[21...       L9   43        745   \n",
       "4  CGCCG[111:1D]AAAATGATAT[167:54D]CGGAGGATAT[167...       L9   27        530   \n",
       "\n",
       "        Tumor   MetFamily ES_clone  \n",
       "0  3724_NT_T1  3724_NT_T1      2E1  \n",
       "1  3724_NT_T1  3724_NT_T1      2E1  \n",
       "2  3724_NT_T1  3724_NT_T1      2E1  \n",
       "3  3724_NT_T1  3724_NT_T1      2E1  \n",
       "4  3724_NT_T1  3724_NT_T1      2E1  "
      ]
     },
     "execution_count": 14,
     "metadata": {},
     "output_type": "execute_result"
    }
   ],
   "source": [
    "allele_table = pd.read_csv(\"KPTracer-Data/KPTracer.alleleTable.FINAL.txt\", sep='\\t', index_col = 0)\n",
    "\n",
    "allele_table.head(5)"
   ]
  },
  {
   "cell_type": "code",
   "execution_count": 19,
   "id": "ff09d424-091d-4cda-9ce6-380671971193",
   "metadata": {},
   "outputs": [],
   "source": [
    "all_tumors = allele_table['Tumor'].unique()\n",
    "primary_nt_tumors = [tumor for tumor in all_tumors if 'NT' in tumor and tumor.split(\"_\")[2].startswith(\"T\")]\n",
    "\n",
    "primary_nt_allele_table = allele_table[allele_table['Tumor'].isin(primary_nt_tumors)]"
   ]
  },
  {
   "cell_type": "code",
   "execution_count": 23,
   "id": "0b250c21-2f76-4698-9950-3df6d2c692a5",
   "metadata": {},
   "outputs": [
    {
     "data": {
      "image/png": "[encoded data removed]",
      "text/plain": [
       "<Figure size 432x288 with 1 Axes>"
      ]
     },
     "metadata": {
      "needs_background": "light"
     },
     "output_type": "display_data"
    }
   ],
   "source": [
    "primary_nt_allele_table.groupby(['Tumor']).agg({\"intBC\": 'nunique'}).plot(kind='bar')\n",
    "plt.ylabel(\"Number of unique intBCs\")\n",
    "plt.title(\"Number of intBCs per Tumor\")\n",
    "plt.show()"
   ]
  },
  {
   "cell_type": "code",
   "execution_count": 27,
   "id": "d7e99ace-7786-41da-8954-878c69ebd5c6",
   "metadata": {},
   "outputs": [
    {
     "data": {
      "image/png": "[encoded data removed]",
      "text/plain": [
       "<Figure size 432x288 with 1 Axes>"
      ]
     },
     "metadata": {
      "needs_background": "light"
     },
     "output_type": "display_data"
    }
   ],
   "source": [
    "primary_nt_allele_table.groupby(['Tumor']).agg({\"cellBC\": 'nunique'}).sort_values(by = 'cellBC', ascending=False).plot(kind='bar')\n",
    "plt.yscale('log')\n",
    "plt.ylabel(\"Number of cells (log)\")\n",
    "plt.title(\"Size of each tumor\")\n",
    "plt.show()"
   ]
  },
  {
   "cell_type": "markdown",
   "id": "44de1cc9",
   "metadata": {
    "pycharm": {
     "name": "#%% md\n"
    }
   },
   "source": [
    "## Preparing the data for lineage reconstruction\n",
    "\n",
    "Before reconstructing lineages, we'll estimate indel priors.\n",
    "\n",
    "In order to reconstruct lineages, we'll have to convert the allele table for a particular tumor into a \"character matrix\". As defined above, these data structures summarize the mutations observed in each target site in each cell."
   ]
  },
  {
   "cell_type": "code",
   "execution_count": 30,
   "id": "978a1cd5-2698-4313-ac2b-bf591f86ce37",
   "metadata": {},
   "outputs": [
    {
     "data": {
      "text/html": [
       "<div>\n",
       "<style scoped>\n",
       "    .dataframe tbody tr th:only-of-type {\n",
       "        vertical-align: middle;\n",
       "    }\n",
       "\n",
       "    .dataframe tbody tr th {\n",
       "        vertical-align: top;\n",
       "    }\n",
       "\n",
       "    .dataframe thead th {\n",
       "        text-align: right;\n",
       "    }\n",
       "</style>\n",
       "<table border=\"1\" class=\"dataframe\">\n",
       "  <thead>\n",
       "    <tr style=\"text-align: right;\">\n",
       "      <th></th>\n",
       "      <th>count</th>\n",
       "      <th>freq</th>\n",
       "    </tr>\n",
       "    <tr>\n",
       "      <th>indel</th>\n",
       "      <th></th>\n",
       "      <th></th>\n",
       "    </tr>\n",
       "  </thead>\n",
       "  <tbody>\n",
       "    <tr>\n",
       "      <th>TAATT[219:2D]CGGAG</th>\n",
       "      <td>664.0</td>\n",
       "      <td>0.764977</td>\n",
       "    </tr>\n",
       "    <tr>\n",
       "      <th>CGCCG[111:1I]AAAAAA</th>\n",
       "      <td>584.0</td>\n",
       "      <td>0.672811</td>\n",
       "    </tr>\n",
       "    <tr>\n",
       "      <th>CGCCG[111:1D]AAAAT</th>\n",
       "      <td>504.0</td>\n",
       "      <td>0.580645</td>\n",
       "    </tr>\n",
       "    <tr>\n",
       "      <th>CGCCG[111:2D]AAATG</th>\n",
       "      <td>401.0</td>\n",
       "      <td>0.461982</td>\n",
       "    </tr>\n",
       "    <tr>\n",
       "      <th>AATTC[220:3D]GAGGA</th>\n",
       "      <td>395.0</td>\n",
       "      <td>0.455069</td>\n",
       "    </tr>\n",
       "  </tbody>\n",
       "</table>\n",
       "</div>"
      ],
      "text/plain": [
       "                     count      freq\n",
       "indel                               \n",
       "TAATT[219:2D]CGGAG   664.0  0.764977\n",
       "CGCCG[111:1I]AAAAAA  584.0  0.672811\n",
       "CGCCG[111:1D]AAAAT   504.0  0.580645\n",
       "CGCCG[111:2D]AAATG   401.0  0.461982\n",
       "AATTC[220:3D]GAGGA   395.0  0.455069"
      ]
     },
     "execution_count": 30,
     "metadata": {},
     "output_type": "execute_result"
    }
   ],
   "source": [
    "indel_priors = cas.pp.compute_empirical_indel_priors(allele_table, grouping_variables=['intBC', 'MetFamily'])\n",
    "\n",
    "indel_priors.sort_values(by='count', ascending=False).head()"
   ]
  },
  {
   "cell_type": "code",
   "execution_count": 35,
   "id": "30f4c782-e3d1-47fc-a0d5-5e543b7ede39",
   "metadata": {},
   "outputs": [
    {
     "name": "stdout",
     "output_type": "stream",
     "text": [
      "Tumor population 3726_NT_T1 has 772 cells and 10 intBCs (30) characters.\n"
     ]
    }
   ],
   "source": [
    "tumor = '3726_NT_T1'\n",
    "\n",
    "tumor_allele_table = primary_nt_allele_table[primary_nt_allele_table['Tumor'] == tumor]\n",
    "\n",
    "n_cells = tumor_allele_table['cellBC'].nunique()\n",
    "n_intbc = tumor_allele_table['intBC'].nunique()\n",
    "\n",
    "print(f\"Tumor population {tumor} has {n_cells} cells and {n_intbc} intBCs ({n_intbc * 3}) characters.\")"
   ]
  },
  {
   "cell_type": "code",
   "execution_count": 37,
   "id": "1cce7a0f-9743-491e-a9ba-e23e23feb8ab",
   "metadata": {},
   "outputs": [
    {
     "name": "stdout",
     "output_type": "stream",
     "text": [
      "Dropping the following intBCs due to lack of diversity with threshold 0.9: ['ACTCTGCTCCAGATr2', 'ACTCTGCTCCAGATr3', 'GCCTACTTAAGTCCr1', 'GTTTATTTCCGTATr3', 'TATGATTAGTCGCGr1', 'TATGATTAGTCGCGr2', 'TGATATAAATCTTTr2', 'TTCCCTATTTGCTAr2', 'TGTTTTTGTCTGCAr1', 'ACAGGTGCTCAAATr1', 'ACAGGTGCTCAAATr2', 'ACAGGTGCTCAAATr3']\n"
     ]
    },
    {
     "data": {
      "application/vnd.jupyter.widget-view+json": {
       "model_id": "29f59e9650a94fb88bac3240483a9f3b",
       "version_major": 2,
       "version_minor": 0
      },
      "text/plain": [
       "Processing characters:   0%|          | 0/18 [00:00<?, ?it/s]"
      ]
     },
     "metadata": {},
     "output_type": "display_data"
    },
    {
     "data": {
      "text/html": [
       "<div>\n",
       "<style scoped>\n",
       "    .dataframe tbody tr th:only-of-type {\n",
       "        vertical-align: middle;\n",
       "    }\n",
       "\n",
       "    .dataframe tbody tr th {\n",
       "        vertical-align: top;\n",
       "    }\n",
       "\n",
       "    .dataframe thead th {\n",
       "        text-align: right;\n",
       "    }\n",
       "</style>\n",
       "<table border=\"1\" class=\"dataframe\">\n",
       "  <thead>\n",
       "    <tr style=\"text-align: right;\">\n",
       "      <th></th>\n",
       "      <th>r1</th>\n",
       "      <th>r2</th>\n",
       "      <th>r3</th>\n",
       "      <th>r4</th>\n",
       "      <th>r5</th>\n",
       "      <th>r6</th>\n",
       "      <th>r7</th>\n",
       "      <th>r8</th>\n",
       "      <th>r9</th>\n",
       "      <th>r10</th>\n",
       "      <th>r11</th>\n",
       "      <th>r12</th>\n",
       "      <th>r13</th>\n",
       "      <th>r14</th>\n",
       "      <th>r15</th>\n",
       "      <th>r16</th>\n",
       "      <th>r17</th>\n",
       "      <th>r18</th>\n",
       "    </tr>\n",
       "  </thead>\n",
       "  <tbody>\n",
       "    <tr>\n",
       "      <th>L6.TTTGTCACACATCCAA-1</th>\n",
       "      <td>1</td>\n",
       "      <td>1</td>\n",
       "      <td>1</td>\n",
       "      <td>1</td>\n",
       "      <td>1</td>\n",
       "      <td>1</td>\n",
       "      <td>1</td>\n",
       "      <td>1</td>\n",
       "      <td>1</td>\n",
       "      <td>1</td>\n",
       "      <td>1</td>\n",
       "      <td>1</td>\n",
       "      <td>1</td>\n",
       "      <td>1</td>\n",
       "      <td>1</td>\n",
       "      <td>1</td>\n",
       "      <td>-1</td>\n",
       "      <td>-1</td>\n",
       "    </tr>\n",
       "    <tr>\n",
       "      <th>L6.TTTGGTTTCTGAGTGT-1</th>\n",
       "      <td>1</td>\n",
       "      <td>1</td>\n",
       "      <td>1</td>\n",
       "      <td>1</td>\n",
       "      <td>1</td>\n",
       "      <td>1</td>\n",
       "      <td>1</td>\n",
       "      <td>1</td>\n",
       "      <td>1</td>\n",
       "      <td>1</td>\n",
       "      <td>1</td>\n",
       "      <td>1</td>\n",
       "      <td>1</td>\n",
       "      <td>1</td>\n",
       "      <td>1</td>\n",
       "      <td>1</td>\n",
       "      <td>1</td>\n",
       "      <td>1</td>\n",
       "    </tr>\n",
       "    <tr>\n",
       "      <th>L6.TTTGGTTCATGTAAGA-1</th>\n",
       "      <td>1</td>\n",
       "      <td>1</td>\n",
       "      <td>2</td>\n",
       "      <td>2</td>\n",
       "      <td>2</td>\n",
       "      <td>2</td>\n",
       "      <td>2</td>\n",
       "      <td>2</td>\n",
       "      <td>2</td>\n",
       "      <td>2</td>\n",
       "      <td>2</td>\n",
       "      <td>2</td>\n",
       "      <td>2</td>\n",
       "      <td>2</td>\n",
       "      <td>2</td>\n",
       "      <td>2</td>\n",
       "      <td>2</td>\n",
       "      <td>2</td>\n",
       "    </tr>\n",
       "    <tr>\n",
       "      <th>L6.TTTGCGCAGCTCCTCT-1</th>\n",
       "      <td>1</td>\n",
       "      <td>2</td>\n",
       "      <td>3</td>\n",
       "      <td>3</td>\n",
       "      <td>3</td>\n",
       "      <td>3</td>\n",
       "      <td>1</td>\n",
       "      <td>3</td>\n",
       "      <td>3</td>\n",
       "      <td>3</td>\n",
       "      <td>1</td>\n",
       "      <td>1</td>\n",
       "      <td>3</td>\n",
       "      <td>3</td>\n",
       "      <td>3</td>\n",
       "      <td>3</td>\n",
       "      <td>3</td>\n",
       "      <td>0</td>\n",
       "    </tr>\n",
       "    <tr>\n",
       "      <th>L6.TTTATGCTCGCCGTGA-1</th>\n",
       "      <td>1</td>\n",
       "      <td>1</td>\n",
       "      <td>1</td>\n",
       "      <td>1</td>\n",
       "      <td>1</td>\n",
       "      <td>1</td>\n",
       "      <td>1</td>\n",
       "      <td>1</td>\n",
       "      <td>1</td>\n",
       "      <td>1</td>\n",
       "      <td>1</td>\n",
       "      <td>1</td>\n",
       "      <td>1</td>\n",
       "      <td>1</td>\n",
       "      <td>1</td>\n",
       "      <td>1</td>\n",
       "      <td>4</td>\n",
       "      <td>0</td>\n",
       "    </tr>\n",
       "  </tbody>\n",
       "</table>\n",
       "</div>"
      ],
      "text/plain": [
       "                       r1  r2  r3  r4  r5  r6  r7  r8  r9  r10  r11  r12  r13  \\\n",
       "L6.TTTGTCACACATCCAA-1   1   1   1   1   1   1   1   1   1    1    1    1    1   \n",
       "L6.TTTGGTTTCTGAGTGT-1   1   1   1   1   1   1   1   1   1    1    1    1    1   \n",
       "L6.TTTGGTTCATGTAAGA-1   1   1   2   2   2   2   2   2   2    2    2    2    2   \n",
       "L6.TTTGCGCAGCTCCTCT-1   1   2   3   3   3   3   1   3   3    3    1    1    3   \n",
       "L6.TTTATGCTCGCCGTGA-1   1   1   1   1   1   1   1   1   1    1    1    1    1   \n",
       "\n",
       "                       r14  r15  r16  r17  r18  \n",
       "L6.TTTGTCACACATCCAA-1    1    1    1   -1   -1  \n",
       "L6.TTTGGTTTCTGAGTGT-1    1    1    1    1    1  \n",
       "L6.TTTGGTTCATGTAAGA-1    2    2    2    2    2  \n",
       "L6.TTTGCGCAGCTCCTCT-1    3    3    3    3    0  \n",
       "L6.TTTATGCTCGCCGTGA-1    1    1    1    4    0  "
      ]
     },
     "execution_count": 37,
     "metadata": {},
     "output_type": "execute_result"
    }
   ],
   "source": [
    "(character_matrix, priors, state_to_indel) = \\ \n",
    "        cas.pp.convert_alleletable_to_character_matrix(tumor_allele_table,\n",
    "                                                      allele_rep_thresh = 0.9, \n",
    "                                                      mutation_priors=indel_prior)\n",
    "\n",
    "character_matrix.head(5)"
   ]
  },
  {
   "cell_type": "markdown",
   "id": "28a52875-f84f-458a-bbdd-3977ebc05511",
   "metadata": {},
   "source": [
    "## Reconstructing the lineage"
   ]
  },
  {
   "cell_type": "code",
   "execution_count": 41,
   "id": "6b5a11e9-915e-4f5d-8474-a7a004eefb39",
   "metadata": {},
   "outputs": [],
   "source": [
    "greedy_tree = cas.data.CassiopeiaTree(character_matrix=character_matrix, priors=priors)\n",
    "neighbor_joining_tree = cas.data.CassiopeiaTree(character_matrix=character_matrix, priors=priors)"
   ]
  },
  {
   "cell_type": "code",
   "execution_count": 42,
   "id": "67e2ee02-6a56-4885-afb4-fb9840d7331f",
   "metadata": {},
   "outputs": [],
   "source": [
    "greedy_solver = cas.solver.VanillaGreedySolver()\n",
    "neighbor_joining_solver = cas.solver.NeighborJoiningSolver(add_root=True)"
   ]
  },
  {
   "cell_type": "code",
   "execution_count": 43,
   "id": "843d2260-b108-41ff-b57a-71a5acdbd5aa",
   "metadata": {},
   "outputs": [
    {
     "data": {
      "application/vnd.jupyter.widget-view+json": {
       "model_id": "e3d20b7bcc1c4ab289a016885ebacaac",
       "version_major": 2,
       "version_minor": 0
      },
      "text/plain": [
       "filling in multiindex table:   0%|          | 0/6432 [00:00<?, ?it/s]"
      ]
     },
     "metadata": {},
     "output_type": "display_data"
    },
    {
     "name": "stderr",
     "output_type": "stream",
     "text": [
      "100%|███████████████████████████████████████████████████████████████████████████| 30/30 [00:03<00:00,  8.39it/s]\n"
     ]
    },
    {
     "data": {
      "text/plain": [
       "(<Figure size 504x504 with 1 Axes>, <AxesSubplot:>)"
      ]
     },
     "execution_count": 43,
     "metadata": {},
     "output_type": "execute_result"
    },
    {
     "data": {
      "image/png": "[encoded data removed]",
      "text/plain": [
       "<Figure size 504x504 with 1 Axes>"
      ]
     },
     "metadata": {
      "needs_background": "light"
     },
     "output_type": "display_data"
    }
   ],
   "source": [
    "greedy_solver.solve(greedy_tree)\n",
    "\n",
    "cas.pl.plot_matplotlib(greedy_tree, orient='right', allele_table=tumor_allele_table)"
   ]
  },
  {
   "cell_type": "code",
   "execution_count": 44,
   "id": "01609d52-6ed0-4933-8276-3df96c8b18e1",
   "metadata": {},
   "outputs": [
    {
     "data": {
      "application/vnd.jupyter.widget-view+json": {
       "model_id": "c6d33641990644f48d8439922b983e55",
       "version_major": 2,
       "version_minor": 0
      },
      "text/plain": [
       "filling in multiindex table:   0%|          | 0/6432 [00:00<?, ?it/s]"
      ]
     },
     "metadata": {},
     "output_type": "display_data"
    },
    {
     "name": "stderr",
     "output_type": "stream",
     "text": [
      "100%|███████████████████████████████████████████████████████████████████████████| 30/30 [00:03<00:00,  9.40it/s]\n"
     ]
    },
    {
     "data": {
      "text/plain": [
       "(<Figure size 504x504 with 1 Axes>, <AxesSubplot:>)"
      ]
     },
     "execution_count": 44,
     "metadata": {},
     "output_type": "execute_result"
    },
    {
     "data": {
      "image/png": "[encoded data removed]",
      "text/plain": [
       "<Figure size 504x504 with 1 Axes>"
      ]
     },
     "metadata": {
      "needs_background": "light"
     },
     "output_type": "display_data"
    }
   ],
   "source": [
    "neighbor_joining_solver.solve(neighbor_joining_tree)\n",
    "\n",
    "cas.pl.plot_matplotlib(neighbor_joining_tree, orient='right', allele_table=tumor_allele_table)"
   ]
  },
  {
   "cell_type": "markdown",
   "id": "b70962fd",
   "metadata": {
    "pycharm": {
     "name": "#%% md\n"
    }
   },
   "source": [
    "## Interpreting tree structure\n",
    "We'll demonstrate useful approaches for quantifying interesting properties on trees (e.g., expansion, fitness)"
   ]
  },
  {
   "cell_type": "markdown",
   "id": "4b776506",
   "metadata": {
    "pycharm": {
     "name": "#%% md\n"
    }
   },
   "source": [
    "## Learning from the tree\n",
    "We'll discuss how one can integrate transcriptomic data to derive insights into evolutionary patterns. Topics to discuss are:\n",
    "\n",
    "### Plasticity\n",
    "\n"
   ]
  },
  {
   "cell_type": "markdown",
   "id": "8f62f224",
   "metadata": {
    "pycharm": {
     "name": "#%% md\n"
    }
   },
   "source": [
    "### Coupling analysis"
   ]
  },
  {
   "cell_type": "markdown",
   "id": "8d7becc4",
   "metadata": {
    "pycharm": {
     "name": "#%% md\n"
    }
   },
   "source": [
    "# Conclusions, more resources, future directions (Matt / Zoe)\n",
    "First give an overview of the major applications of lineage tracing, review what we showed."
   ]
  },
  {
   "cell_type": "markdown",
   "id": "0be39914",
   "metadata": {
    "pycharm": {
     "name": "#%% md\n"
    }
   },
   "source": [
    "## Computational tools to interpret lineage tracing data\n",
    "\n",
    "The increasing complexity of lineage tracing studies must be accompanied by computational methods which extend the analysis beyond the construction of phylogenetic trees. That is, methods that integrate multi-omics measurements with lineage tracing and temporal information to enable recovery of programs governing cell state, differentiation and behavior {cite}[`mukhopadhyay2022`](https://www.nature.com/articles/s41592-021-01370-6).\n",
    "\n",
    "As this field is at its begining the number of available tools is still limited yet it is worth highlighting leading approaches: \n",
    "- LineageOT {cite}[`forrow2021`](https://www.nature.com/articles/s41467-021-25133-1): A general-purpose method for inferring developmental trajectories from scRNA-seq time courses equipped with lineage information each time point applicable for evolving CRISPR/Cas9-based setting. The method  was suggested as an extension of the Waddington OT {cite}[`schiebinger2019`](https://doi.org/10.1016/j.cell.2019.01.006) algorithm to take the lineage relationships into account when mapping cells from earlier to later time-points. When computing transition matrices across pairs of time-points, LineageOT corrects expression profiles in the later time-point based on their lineage similarity. For more details and tutorials we refer the reader to https://lineageot.readthedocs.io.\n",
    "- CoSpar {cite}[`wang2022`](https://www.nature.com/articles/s41587-022-01209-1): A computational approach to infer cell dynamics from single-cell transcriptomics integrated with static barcoding lineage tracing data. The method relies on two basic assumptions on the nature of biological dynamics (i) cells in similar states behave similarly and (ii) cells limit their possible dynamics to give sparse transitions.  For more details and tutorials we refer the reader to https://cospar.readthedocs.io/.\n"
   ]
  },
  {
   "cell_type": "markdown",
   "id": "a6478872",
   "metadata": {
    "pycharm": {
     "name": "#%% md\n"
    }
   },
   "source": [
    "## Benchmarking / Simulations (Matt)\n",
    "Discuss tools for simulating lineage data for benchmarking new tools. Potentially discuss simulating transcriptome ontop of lineages too? (e.g., TedSim)"
   ]
  },
  {
   "cell_type": "markdown",
   "id": "d4bbf919",
   "metadata": {
    "pycharm": {
     "name": "#%% md\n"
    }
   },
   "source": [
    "## Key takeaways (Matt & Zoe)\n",
    "\n",
    "\\ZP{maybe we should also refer to recent reviews which emphasize the power and strength of LT along with current limitations?, e.g. {cite}[`rodriguez2022`](https://doi.org/10.1242/dev.200877),{cite}[`mukhopadhyay2022`](https://www.nature.com/articles/s41592-021-01370-6) }"
   ]
  },
  {
   "cell_type": "code",
   "execution_count": null,
   "id": "41abe198-7871-42a6-8d5d-0593bfdab056",
   "metadata": {
    "pycharm": {
     "name": "#%%\n"
    }
   },
   "outputs": [],
   "source": []
  }
 ],
 "metadata": {
  "kernelspec": {
   "display_name": "cas3.7",
   "language": "python",
   "name": "cas3.7"
  },
  "language_info": {
   "codemirror_mode": {
    "name": "ipython",
    "version": 3
   },
   "file_extension": ".py",
   "mimetype": "text/x-python",
   "name": "python",
   "nbconvert_exporter": "python",
   "pygments_lexer": "ipython3",
   "version": "3.7.0"
  }
 },
 "nbformat": 4,
 "nbformat_minor": 5
}

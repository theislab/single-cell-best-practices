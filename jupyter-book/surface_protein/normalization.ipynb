{
 "cells": [
  {
   "cell_type": "markdown",
   "id": "5a6cd732-e46a-4317-86db-211584a8e888",
   "metadata": {},
   "source": [
    "# Normalization"
   ]
  },
  {
   "cell_type": "markdown",
   "id": "1c6f98c8",
   "metadata": {},
   "source": [
    "## Motivation"
   ]
  },
  {
   "cell_type": "markdown",
   "id": "ffaa32f5-6882-4b8a-ba2c-a93e77cdd33f",
   "metadata": {},
   "source": [
    "Contrary to the negative binomial distribution of UMI counts, ADT data is less sparse with a negative peak for non-specific antibody binding and a positive peak resembling enrichment of specific cell surface proteins{cite}`Zheng2022`.\n",
    "The capture efficiency varies from cell to cell due to difference in biophysical properties. Since CITE-seq experiments enrich for a priori selected features, compositional biases are more severe.\n",
    "Analogously to scRNA-seq data, many approaches to normalization exist.\n",
    "We cover the two most widely used ideas methods that require different input data and starting points.\n",
    "\n",
    "ADT data can be normalized using Centered Log-Ratio (CLR) transformation {cite}`Stoeckius2017`. Nevertheless, a new low-level normalization method tailored to dealing with the challenges this modality poses now exists: DSB (denoised and scaled by background). DSB normalization removes two kinds of noise. First, it uses the empty droplets to estimate a background noise and remove the ambient noise. Secondly, it uses the background population mean and isotypes (antibodies that bind non-specifically to the cells) to define and remove cell-to-cell technical noise{cite}`Mulè_Martins_Tsang_2022`"
   ]
  },
  {
   "cell_type": "markdown",
   "id": "1c14a3ba-bdb2-4d72-914c-07e7e8a9a4b5",
   "metadata": {},
   "source": [
    "## Environment setup"
   ]
  },
  {
   "cell_type": "code",
   "execution_count": 1,
   "id": "799fa1b6-4a4a-48a5-8d27-2149f5d0035c",
   "metadata": {
    "tags": []
   },
   "outputs": [
    {
     "name": "stderr",
     "output_type": "stream",
     "text": [
      "/home/icb/ciro.suastegui/miniconda3/envs/citeseq_pp/lib/python3.7/site-packages/tqdm/auto.py:22: TqdmWarning: IProgress not found. Please update jupyter and ipywidgets. See https://ipywidgets.readthedocs.io/en/stable/user_install.html\n",
      "  from .autonotebook import tqdm as notebook_tqdm\n"
     ]
    }
   ],
   "source": [
    "import muon as mu\n",
    "import pandas as pd\n",
    "import warnings\n",
    "\n",
    "warnings.simplefilter(action=\"ignore\", category=UserWarning)\n",
    "warnings.simplefilter(action=\"ignore\", category=FutureWarning)"
   ]
  },
  {
   "cell_type": "markdown",
   "id": "23922b73-ad11-423a-a071-3cd31d5a4a1a",
   "metadata": {},
   "source": [
    "## Loading the data"
   ]
  },
  {
   "cell_type": "markdown",
   "id": "70e52591-11e3-428b-b62b-0ed0a3cd2305",
   "metadata": {},
   "source": [
    "We are simply loading the saved MuData object from the quality control chapter back in."
   ]
  },
  {
   "cell_type": "code",
   "execution_count": 3,
   "id": "a024513e-5f5a-4954-8b12-36cd1ef86f4b",
   "metadata": {
    "tags": []
   },
   "outputs": [],
   "source": [
    "raw = mu.read(\"/lustre/groups/ml01/workspace/ciro.suastegui/bp2.0/data/neurips_cite_pp_raw.h5mu\")\n",
    "filtered = mu.read(\"/lustre/groups/ml01/workspace/ciro.suastegui/bp2.0/data/neurips_cite_pp_filtered.h5mu\")"
   ]
  },
  {
   "cell_type": "markdown",
   "id": "2857bd44-baab-4c87-821c-b41c03278dca",
   "metadata": {},
   "source": [
    "## DSB normalization"
   ]
  },
  {
   "cell_type": "markdown",
   "id": "73aa5e5a-09fc-4e1f-a721-42d98b86a636",
   "metadata": {},
   "source": [
    "We are ready to normalize the data. In this case, we can use the raw data's distribution as background. We also have isotype controls to define and remove cell-to-cell technical variations.\n",
    "\n",
    "Isotype contols are antibodies that bind to the cells present in this study non-specifically, meaning you would not expect a significant abundance difference between the cells. Thus, we can use the\n",
    "values of the isotype controls to normalize technical differences.\n",
    "\n",
    "We are calling the normalization function `mu.prot.pp.dsb` with the filtered and raw mudata object as well as the names of the isotype controls."
   ]
  },
  {
   "cell_type": "code",
   "execution_count": 32,
   "id": "16c96ec3-2499-4854-b6ed-9b749309cd74",
   "metadata": {
    "tags": []
   },
   "outputs": [],
   "source": [
    "isotype_controls = [\"Mouse-IgG1\", \"Mouse-IgG2a\", \"Mouse-IgG2b\", \"Rat-IgG2b\"]"
   ]
  },
  {
   "cell_type": "code",
   "execution_count": 33,
   "id": "7dc01d0f-ba89-4224-b920-18047c8b32d4",
   "metadata": {
    "tags": []
   },
   "outputs": [],
   "source": [
    "filtered[\"prot\"].layers[\"counts\"] = filtered[\"prot\"].X"
   ]
  },
  {
   "cell_type": "code",
   "execution_count": 34,
   "id": "b8251cc3-e039-4cb4-9071-a08d3fdca12e",
   "metadata": {},
   "outputs": [],
   "source": [
    "filtered[\"prot\"].X = filtered[\"prot\"].layers[\"counts\"]"
   ]
  },
  {
   "cell_type": "code",
   "execution_count": 35,
   "id": "d1112dbb-fffe-4cf2-81b0-0fdd432b40b2",
   "metadata": {
    "tags": []
   },
   "outputs": [
    {
     "name": "stdout",
     "output_type": "stream",
     "text": [
      "CPU times: user 8min 18s, sys: 41.5 s, total: 9min\n",
      "Wall time: 9min 1s\n"
     ]
    }
   ],
   "source": [
    "%%time\n",
    "mu.prot.pp.dsb(\n",
    "    filtered,\n",
    "    raw,\n",
    "    isotype_controls=isotype_controls,\n",
    ")  # empty_counts_range=(1,2.1))"
   ]
  },
  {
   "cell_type": "markdown",
   "id": "095ad0a4-c993-4c82-9801-6de7d94ba2b6",
   "metadata": {},
   "source": [
    "Let's have a look at counts before denosing and normalization."
   ]
  },
  {
   "cell_type": "code",
   "execution_count": 36,
   "id": "3395a326-780e-42ea-8138-868d7f1fcf05",
   "metadata": {
    "tags": []
   },
   "outputs": [
    {
     "data": {
      "text/plain": [
       "1.0      1090\n",
       "0.0      1045\n",
       "2.0       918\n",
       "3.0       691\n",
       "4.0       581\n",
       "         ... \n",
       "350.0       1\n",
       "706.0       1\n",
       "296.0       1\n",
       "970.0       1\n",
       "763.0       1\n",
       "Length: 524, dtype: int64"
      ]
     },
     "execution_count": 36,
     "metadata": {},
     "output_type": "execute_result"
    }
   ],
   "source": [
    "pd.Series(filtered[\"prot\"].layers[\"counts\"][:100, :100].A.flatten()).value_counts()"
   ]
  },
  {
   "cell_type": "markdown",
   "id": "153083fa-8a38-4ccc-aa0b-5fe8ae268c53",
   "metadata": {},
   "source": [
    "See ater denoise and normalization the range changed."
   ]
  },
  {
   "cell_type": "code",
   "execution_count": 37,
   "id": "de128096-8fa1-4966-a201-4b0d1a7be15c",
   "metadata": {
    "tags": []
   },
   "outputs": [
    {
     "data": {
      "text/plain": [
       "-0.993996    1\n",
       " 2.090873    1\n",
       " 0.743614    1\n",
       " 7.010633    1\n",
       "-0.534434    1\n",
       "            ..\n",
       "-0.382096    1\n",
       "-0.806075    1\n",
       " 0.153049    1\n",
       " 0.285760    1\n",
       "-0.265044    1\n",
       "Length: 10000, dtype: int64"
      ]
     },
     "execution_count": 37,
     "metadata": {},
     "output_type": "execute_result"
    }
   ],
   "source": [
    "pd.Series(filtered[\"prot\"].X[:100, :100].flatten()).value_counts()"
   ]
  },
  {
   "cell_type": "markdown",
   "id": "1cc7f61b-12c2-458e-8e19-659f241d95af",
   "metadata": {},
   "source": [
    "## Centered Log-Ratio normalization"
   ]
  },
  {
   "cell_type": "markdown",
   "id": "de0160c3-5505-4d09-a211-61cd0a3c63ba",
   "metadata": {},
   "source": [
    "If you don't have the unfiltered data available, you can also normalize the ADT data with `mu.prot.pp.clr`, implementing **C**entered **L**og-**R**atio normalization. There is no denoising in this type of normalization. We instead assume that the geometric mean is a good reference to make all else relative to (divide by){cite}`Quinn_Erb_Richardson_Crowley_2018`. We are in fact taking the natural log ratio of each protein in each cell relative to either other proteins or other cells, depending on the implementation. At first, it was done across proteins, but then it was changed to across cells. This change made the normalization less dependent on the antibody panel{cite}`Mulè_Martins_Tsang_2022`."
   ]
  },
  {
   "cell_type": "code",
   "execution_count": 12,
   "id": "e4ff81dc-4c17-4e6a-b9bc-b25569efecf7",
   "metadata": {
    "tags": []
   },
   "outputs": [
    {
     "data": {
      "text/html": [
       "<pre>View of MuData object with n_obs × n_vars = 120502 × 36741\n",
       "  var:\t&#x27;gene_ids&#x27;, &#x27;feature_types&#x27;\n",
       "  2 modalities\n",
       "    rna:\t120502 x 36601\n",
       "      obs:\t&#x27;donor&#x27;, &#x27;batch&#x27;\n",
       "      var:\t&#x27;gene_ids&#x27;, &#x27;feature_types&#x27;\n",
       "    prot:\t120502 x 140\n",
       "      obs:\t&#x27;donor&#x27;, &#x27;batch&#x27;, &#x27;n_genes_by_counts&#x27;, &#x27;log1p_n_genes_by_counts&#x27;, &#x27;total_counts&#x27;, &#x27;log1p_total_counts&#x27;, &#x27;n_counts&#x27;, &#x27;outliers&#x27;\n",
       "      var:\t&#x27;gene_ids&#x27;, &#x27;feature_types&#x27;, &#x27;n_cells_by_counts&#x27;, &#x27;mean_counts&#x27;, &#x27;log1p_mean_counts&#x27;, &#x27;pct_dropout_by_counts&#x27;, &#x27;total_counts&#x27;, &#x27;log1p_total_counts&#x27;\n",
       "      layers:\t&#x27;counts&#x27;</pre>"
      ],
      "text/plain": [
       "View of MuData object with n_obs × n_vars = 120502 × 36741\n",
       "  var:\t'gene_ids', 'feature_types'\n",
       "  2 modalities\n",
       "    rna:\t120502 x 36601\n",
       "      obs:\t'donor', 'batch'\n",
       "      var:\t'gene_ids', 'feature_types'\n",
       "    prot:\t120502 x 140\n",
       "      obs:\t'donor', 'batch', 'n_genes_by_counts', 'log1p_n_genes_by_counts', 'total_counts', 'log1p_total_counts', 'n_counts', 'outliers'\n",
       "      var:\t'gene_ids', 'feature_types', 'n_cells_by_counts', 'mean_counts', 'log1p_mean_counts', 'pct_dropout_by_counts', 'total_counts', 'log1p_total_counts'\n",
       "      layers:\t'counts'"
      ]
     },
     "execution_count": 38,
     "metadata": {},
     "output_type": "execute_result"
    }
   ],
   "source": [
    "filtered"
   ]
  },
  {
   "cell_type": "markdown",
   "id": "8aaa6a66-5896-4b08-859a-503d29ae5dfe",
   "metadata": {},
   "source": [
    "As the isotypes do not contain any biological information, we can remove them from our data."
   ]
  },
  {
   "cell_type": "code",
   "execution_count": 39,
   "id": "eefa2281-c254-494b-8812-a99707d5c3cd",
   "metadata": {
    "tags": []
   },
   "outputs": [
    {
     "data": {
      "text/plain": [
       "Index(['CD86-1', 'CD274-1', 'CD270', 'CD155', 'CD112', 'CD47-1', 'CD48-1',\n",
       "       'CD40-1', 'CD154', 'CD52-1', 'CD3', 'CD8', 'CD56', 'CD19-1', 'CD33-1',\n",
       "       'CD11c', 'HLA-A-B-C', 'CD45RA', 'CD123', 'CD7-1', 'CD105', 'CD49f',\n",
       "       'CD194', 'CD4-1', 'CD44-1', 'CD14-1', 'CD16', 'CD25', 'CD45RO', 'CD279',\n",
       "       'TIGIT-1', 'Mouse-IgG1', 'Mouse-IgG2a', 'Mouse-IgG2b', 'Rat-IgG2b',\n",
       "       'CD20', 'CD335', 'CD31', 'Podoplanin', 'CD146', 'IgM', 'CD5-1', 'CD195',\n",
       "       'CD32', 'CD196', 'CD185', 'CD103', 'CD69-1', 'CD62L', 'CD161'],\n",
       "      dtype='object')"
      ]
     },
     "execution_count": 39,
     "metadata": {},
     "output_type": "execute_result"
    }
   ],
   "source": [
    "filtered[\"prot\"].var.index[:50]"
   ]
  },
  {
   "cell_type": "code",
   "execution_count": 40,
   "id": "bec5602a-795f-4898-ad15-9526a4a12507",
   "metadata": {
    "tags": []
   },
   "outputs": [
    {
     "data": {
      "text/plain": [
       "Index(['CD86-1', 'CD274-1', 'CD270', 'CD155', 'CD112', 'CD47-1', 'CD48-1',\n",
       "       'CD40-1', 'CD154', 'CD52-1',\n",
       "       ...\n",
       "       'CD94', 'CD162', 'CD85j', 'CD23', 'CD328', 'HLA-E-1', 'CD82-1',\n",
       "       'CD101-1', 'CD88', 'CD224'],\n",
       "      dtype='object', length=136)"
      ]
     },
     "execution_count": 40,
     "metadata": {},
     "output_type": "execute_result"
    }
   ],
   "source": [
    "temp = (\n",
    "    filtered[\"prot\"]\n",
    "    .var.loc[~filtered[\"prot\"].var.index.isin(isotype_controls), :]\n",
    "    .index\n",
    ")\n",
    "temp"
   ]
  },
  {
   "cell_type": "markdown",
   "id": "f5658ab8-a95f-406d-adfd-a8816244052f",
   "metadata": {},
   "source": [
    "We store the isotype data as a multi-dimensional annotation."
   ]
  },
  {
   "cell_type": "code",
   "execution_count": 41,
   "id": "94c44aba-78a2-4ffc-a634-b5747712a172",
   "metadata": {
    "tags": []
   },
   "outputs": [],
   "source": [
    "filtered[\"prot\"].obsm[\"X_isotypes\"] = filtered[\"prot\"].X[\n",
    "    :, ~filtered[\"prot\"].var.index.isin(temp.tolist())\n",
    "]"
   ]
  },
  {
   "cell_type": "code",
   "execution_count": 42,
   "id": "66928903-b17c-4337-a203-b14a33b2067e",
   "metadata": {
    "tags": []
   },
   "outputs": [],
   "source": [
    "mu.pp.filter_var(data=filtered[\"prot\"], var=temp.tolist())"
   ]
  },
  {
   "cell_type": "code",
   "execution_count": 43,
   "id": "8ddbfa0c-2179-4882-b2c6-5ca8207e5513",
   "metadata": {
    "tags": []
   },
   "outputs": [
    {
     "data": {
      "text/plain": [
       "Index(['CD86-1', 'CD274-1', 'CD270', 'CD155', 'CD112', 'CD47-1', 'CD48-1',\n",
       "       'CD40-1', 'CD154', 'CD52-1', 'CD3', 'CD8', 'CD56', 'CD19-1', 'CD33-1',\n",
       "       'CD11c', 'HLA-A-B-C', 'CD45RA', 'CD123', 'CD7-1', 'CD105', 'CD49f',\n",
       "       'CD194', 'CD4-1', 'CD44-1', 'CD14-1', 'CD16', 'CD25', 'CD45RO', 'CD279',\n",
       "       'TIGIT-1', 'CD20', 'CD335', 'CD31', 'Podoplanin', 'CD146', 'IgM',\n",
       "       'CD5-1', 'CD195', 'CD32', 'CD196', 'CD185', 'CD103', 'CD69-1', 'CD62L',\n",
       "       'CD161', 'CD152', 'CD223', 'KLRG1-1', 'CD27-1'],\n",
       "      dtype='object')"
      ]
     },
     "execution_count": 43,
     "metadata": {},
     "output_type": "execute_result"
    }
   ],
   "source": [
    "filtered[\"prot\"].var.index[:50]"
   ]
  },
  {
   "cell_type": "markdown",
   "id": "80f75277",
   "metadata": {},
   "source": [
    "## Key takeaways"
   ]
  },
  {
   "cell_type": "markdown",
   "id": "6db296ff",
   "metadata": {},
   "source": [
    "TODO"
   ]
  },
  {
   "cell_type": "markdown",
   "id": "b727c7f1",
   "metadata": {},
   "source": [
    "## References"
   ]
  },
  {
   "cell_type": "markdown",
   "id": "74f39e02",
   "metadata": {},
   "source": [
    "```{bibliography}\n",
    ":filter: docname in docnames\n",
    "```"
   ]
  }
 ],
 "metadata": {
  "kernelspec": {
   "display_name": "Python 3",
   "language": "python",
   "name": "python3"
  },
  "language_info": {
   "codemirror_mode": {
    "name": "ipython",
    "version": 3
   },
   "file_extension": ".py",
   "mimetype": "text/x-python",
   "name": "python",
   "nbconvert_exporter": "python",
   "pygments_lexer": "ipython3",
   "version": "3.7.13"
  },
  "vscode": {
   "interpreter": {
    "hash": "e7370f93d1d0cde622a1f8e1c04877d8463912d04d973331ad4851f04de6915a"
   }
  }
 },
 "nbformat": 4,
 "nbformat_minor": 5
}

{
 "cells": [
  {
   "cell_type": "markdown",
   "id": "5a6cd732-e46a-4317-86db-211584a8e888",
   "metadata": {},
   "source": [
    "# Normalization"
   ]
  },
  {
   "cell_type": "markdown",
   "id": "1c6f98c8",
   "metadata": {},
   "source": [
    "## Motivation"
   ]
  },
  {
   "attachments": {},
   "cell_type": "markdown",
   "id": "ffaa32f5-6882-4b8a-ba2c-a93e77cdd33f",
   "metadata": {},
   "source": [
    "Contrary to the negative binomial distribution of UMI counts, ADT data is less sparse with a negative peak for non-specific antibody binding and a positive peak resembling enrichment of specific cell surface proteins{cite}`Zheng2022`.\n",
    "The capture efficiency varies from cell to cell due to difference in biophysical properties. Since CITE-seq experiments enrich for a priori selected features, compositional biases are more severe.\n",
    "Analogously to scRNA-seq data, many approaches to normalization exist.\n",
    "We cover the two most widely used ideas methods that require different input data and starting points.\n",
    "\n",
    "ADT data can be normalized using Centered Log-Ratio (CLR) transformation {cite}`Stoeckius2017`. Nevertheless, a new low-level normalization method tailored to dealing with the challenges this modality poses now exists: DSB (denoised and scaled by background). DSB normalization removes two kinds of noise. First, it uses the empty droplets to estimate a background noise and remove the ambient noise. Secondly, it uses the background population mean and isotypes (antibodies that bind non-specifically to the cells) to define and remove cell-to-cell technical noise{cite}`Mulè2022`"
   ]
  },
  {
   "cell_type": "markdown",
   "id": "1c14a3ba-bdb2-4d72-914c-07e7e8a9a4b5",
   "metadata": {},
   "source": [
    "## Environment setup"
   ]
  },
  {
   "cell_type": "code",
   "execution_count": 1,
   "id": "799fa1b6-4a4a-48a5-8d27-2149f5d0035c",
   "metadata": {
    "tags": []
   },
   "outputs": [
    {
     "name": "stderr",
     "output_type": "stream",
     "text": [
      "/home/icb/ciro.suastegui/miniconda3/envs/citeseq_pp/lib/python3.7/site-packages/tqdm/auto.py:22: TqdmWarning: IProgress not found. Please update jupyter and ipywidgets. See https://ipywidgets.readthedocs.io/en/stable/user_install.html\n",
      "  from .autonotebook import tqdm as notebook_tqdm\n"
     ]
    }
   ],
   "source": [
    "import muon as mu\n",
    "import pandas as pd\n",
    "import warnings\n",
    "\n",
    "warnings.simplefilter(action=\"ignore\", category=UserWarning)\n",
    "warnings.simplefilter(action=\"ignore\", category=FutureWarning)"
   ]
  },
  {
   "cell_type": "markdown",
   "id": "23922b73-ad11-423a-a071-3cd31d5a4a1a",
   "metadata": {},
   "source": [
    "## Loading the data"
   ]
  },
  {
   "cell_type": "code",
   "execution_count": 2,
   "id": "a0a193d0-3b05-41c0-96ab-750e1ed52698",
   "metadata": {},
   "outputs": [],
   "source": [
    "raw_mu_path = (\n",
    "    \"/lustre/groups/ml01/workspace/ciro.suastegui/bp2.0/data/neurips_cite_pp_raw.h5mu\"\n",
    ")\n",
    "filtered_qc_mu_path = \"/lustre/groups/ml01/workspace/ciro.suastegui/bp2.0/data/neurips_cite_pp_filtered-qc.h5mu\"\n",
    "filtered_norm_mu_path = \"/lustre/groups/ml01/workspace/ciro.suastegui/bp2.0/data/neurips_cite_pp_filtered-qc-norm.h5mu\""
   ]
  },
  {
   "cell_type": "markdown",
   "id": "70e52591-11e3-428b-b62b-0ed0a3cd2305",
   "metadata": {},
   "source": [
    "We are simply loading the saved MuData object from the quality control chapter back in."
   ]
  },
  {
   "cell_type": "code",
   "execution_count": 3,
   "id": "b494b6bc-44e8-45f7-8723-024d54d8eb97",
   "metadata": {
    "tags": []
   },
   "outputs": [
    {
     "name": "stdout",
     "output_type": "stream",
     "text": [
      "CPU times: user 14min 3s, sys: 1min 54s, total: 15min 58s\n",
      "Wall time: 16min 4s\n"
     ]
    }
   ],
   "source": [
    "%%time\n",
    "raw = mu.read(raw_mu_path)"
   ]
  },
  {
   "cell_type": "code",
   "execution_count": 4,
   "id": "8857515d-6ac2-48a2-be4c-e3333d590c82",
   "metadata": {
    "tags": []
   },
   "outputs": [
    {
     "name": "stdout",
     "output_type": "stream",
     "text": [
      "CPU times: user 3.76 s, sys: 1.3 s, total: 5.05 s\n",
      "Wall time: 6.07 s\n"
     ]
    }
   ],
   "source": [
    "%%time\n",
    "filtered = mu.read(filtered_qc_mu_path)"
   ]
  },
  {
   "cell_type": "code",
   "execution_count": 5,
   "id": "37680f17-d37c-4005-b476-5edaed91de39",
   "metadata": {},
   "outputs": [
    {
     "data": {
      "text/html": [
       "<pre>MuData object with n_obs × n_vars = 120502 × 36741\n",
       "  var:\t&#x27;gene_ids&#x27;, &#x27;feature_types&#x27;\n",
       "  2 modalities\n",
       "    rna:\t120502 x 36601\n",
       "      obs:\t&#x27;donor&#x27;, &#x27;batch&#x27;\n",
       "      var:\t&#x27;gene_ids&#x27;, &#x27;feature_types&#x27;\n",
       "    prot:\t120502 x 140\n",
       "      obs:\t&#x27;donor&#x27;, &#x27;batch&#x27;, &#x27;n_genes_by_counts&#x27;, &#x27;log1p_n_genes_by_counts&#x27;, &#x27;total_counts&#x27;, &#x27;log1p_total_counts&#x27;, &#x27;n_counts&#x27;, &#x27;outliers&#x27;\n",
       "      var:\t&#x27;gene_ids&#x27;, &#x27;feature_types&#x27;, &#x27;n_cells_by_counts&#x27;, &#x27;mean_counts&#x27;, &#x27;log1p_mean_counts&#x27;, &#x27;pct_dropout_by_counts&#x27;, &#x27;total_counts&#x27;, &#x27;log1p_total_counts&#x27;</pre>"
      ],
      "text/plain": [
       "MuData object with n_obs × n_vars = 120502 × 36741\n",
       "  var:\t'gene_ids', 'feature_types'\n",
       "  2 modalities\n",
       "    rna:\t120502 x 36601\n",
       "      obs:\t'donor', 'batch'\n",
       "      var:\t'gene_ids', 'feature_types'\n",
       "    prot:\t120502 x 140\n",
       "      obs:\t'donor', 'batch', 'n_genes_by_counts', 'log1p_n_genes_by_counts', 'total_counts', 'log1p_total_counts', 'n_counts', 'outliers'\n",
       "      var:\t'gene_ids', 'feature_types', 'n_cells_by_counts', 'mean_counts', 'log1p_mean_counts', 'pct_dropout_by_counts', 'total_counts', 'log1p_total_counts'"
      ]
     },
     "execution_count": 5,
     "metadata": {},
     "output_type": "execute_result"
    }
   ],
   "source": [
    "filtered"
   ]
  },
  {
   "cell_type": "markdown",
   "id": "2857bd44-baab-4c87-821c-b41c03278dca",
   "metadata": {},
   "source": [
    "## DSB normalization"
   ]
  },
  {
   "cell_type": "markdown",
   "id": "73aa5e5a-09fc-4e1f-a721-42d98b86a636",
   "metadata": {},
   "source": [
    "We are ready to normalize the data. In this case, we can use the raw data's distribution as background. We also have isotype controls to define and remove cell-to-cell technical variations.\n",
    "\n",
    "Isotype contols are antibodies that bind to the cells present in this study non-specifically, meaning you would not expect a significant abundance difference between the cells. Thus, we can use the\n",
    "values of the isotype controls to normalize technical differences.\n",
    "\n",
    "We are calling the normalization function `mu.prot.pp.dsb` with the filtered and raw mudata object as well as the names of the isotype controls."
   ]
  },
  {
   "cell_type": "code",
   "execution_count": 6,
   "id": "16c96ec3-2499-4854-b6ed-9b749309cd74",
   "metadata": {
    "tags": []
   },
   "outputs": [],
   "source": [
    "isotype_controls = [\"Mouse-IgG1\", \"Mouse-IgG2a\", \"Mouse-IgG2b\", \"Rat-IgG2b\"]"
   ]
  },
  {
   "cell_type": "code",
   "execution_count": 7,
   "id": "7dc01d0f-ba89-4224-b920-18047c8b32d4",
   "metadata": {
    "tags": []
   },
   "outputs": [],
   "source": [
    "filtered[\"prot\"].layers[\"counts\"] = filtered[\"prot\"].X"
   ]
  },
  {
   "cell_type": "code",
   "execution_count": 8,
   "id": "b8251cc3-e039-4cb4-9071-a08d3fdca12e",
   "metadata": {},
   "outputs": [],
   "source": [
    "filtered[\"prot\"].X = filtered[\"prot\"].layers[\"counts\"]"
   ]
  },
  {
   "cell_type": "code",
   "execution_count": 9,
   "id": "d1112dbb-fffe-4cf2-81b0-0fdd432b40b2",
   "metadata": {
    "tags": []
   },
   "outputs": [
    {
     "name": "stdout",
     "output_type": "stream",
     "text": [
      "CPU times: user 8min 3s, sys: 28.6 s, total: 8min 31s\n",
      "Wall time: 8min 32s\n"
     ]
    }
   ],
   "source": [
    "%%time\n",
    "mu.prot.pp.dsb(filtered, raw, isotype_controls=isotype_controls)"
   ]
  },
  {
   "cell_type": "markdown",
   "id": "095ad0a4-c993-4c82-9801-6de7d94ba2b6",
   "metadata": {},
   "source": [
    "Let's have a look at counts before denoising and normalization."
   ]
  },
  {
   "cell_type": "code",
   "execution_count": 10,
   "id": "3395a326-780e-42ea-8138-868d7f1fcf05",
   "metadata": {
    "tags": []
   },
   "outputs": [
    {
     "data": {
      "text/plain": [
       "1.0      1090\n",
       "0.0      1045\n",
       "2.0       918\n",
       "3.0       691\n",
       "4.0       581\n",
       "         ... \n",
       "350.0       1\n",
       "706.0       1\n",
       "296.0       1\n",
       "970.0       1\n",
       "763.0       1\n",
       "Length: 524, dtype: int64"
      ]
     },
     "execution_count": 10,
     "metadata": {},
     "output_type": "execute_result"
    }
   ],
   "source": [
    "pd.Series(filtered[\"prot\"].layers[\"counts\"][:100, :100].A.flatten()).value_counts()"
   ]
  },
  {
   "cell_type": "markdown",
   "id": "153083fa-8a38-4ccc-aa0b-5fe8ae268c53",
   "metadata": {},
   "source": [
    "See after denoise and normalization the range changed."
   ]
  },
  {
   "cell_type": "code",
   "execution_count": 11,
   "id": "de128096-8fa1-4966-a201-4b0d1a7be15c",
   "metadata": {
    "tags": []
   },
   "outputs": [
    {
     "data": {
      "text/plain": [
       "-1.174030    2\n",
       "-0.996048    1\n",
       " 1.722345    1\n",
       "-0.262355    1\n",
       " 6.112263    1\n",
       "            ..\n",
       " 0.153576    1\n",
       " 0.285257    1\n",
       "-0.149485    1\n",
       " 0.287904    1\n",
       "-0.263154    1\n",
       "Length: 9999, dtype: int64"
      ]
     },
     "execution_count": 11,
     "metadata": {},
     "output_type": "execute_result"
    }
   ],
   "source": [
    "pd.Series(filtered[\"prot\"].X[:100, :100].flatten()).value_counts()"
   ]
  },
  {
   "cell_type": "markdown",
   "id": "1cc7f61b-12c2-458e-8e19-659f241d95af",
   "metadata": {},
   "source": [
    "## Centered Log-Ratio normalization"
   ]
  },
  {
   "cell_type": "markdown",
   "id": "de0160c3-5505-4d09-a211-61cd0a3c63ba",
   "metadata": {},
   "source": [
    "If you don't have the unfiltered data available, you can also normalize the ADT data with `mu.prot.pp.clr`, implementing **C**entered **L**og-**R**atio normalization. There is no denoising in this type of normalization. We instead assume that the geometric mean is a good reference to make all else relative to (divide by){cite}`Quinn_Erb_Richardson_Crowley_2018`. We are in fact taking the natural log ratio of each protein in each cell relative to either other proteins or other cells, depending on the implementation. At first, it was done across proteins, but then it was changed to across cells. This change made the normalization less dependent on the antibody panel{cite}`Mulè2022`."
   ]
  },
  {
   "cell_type": "code",
   "execution_count": 12,
   "id": "e4ff81dc-4c17-4e6a-b9bc-b25569efecf7",
   "metadata": {
    "tags": []
   },
   "outputs": [
    {
     "data": {
      "text/html": [
       "<pre>MuData object with n_obs × n_vars = 120502 × 36741\n",
       "  var:\t&#x27;gene_ids&#x27;, &#x27;feature_types&#x27;\n",
       "  2 modalities\n",
       "    rna:\t120502 x 36601\n",
       "      obs:\t&#x27;donor&#x27;, &#x27;batch&#x27;\n",
       "      var:\t&#x27;gene_ids&#x27;, &#x27;feature_types&#x27;\n",
       "    prot:\t120502 x 140\n",
       "      obs:\t&#x27;donor&#x27;, &#x27;batch&#x27;, &#x27;n_genes_by_counts&#x27;, &#x27;log1p_n_genes_by_counts&#x27;, &#x27;total_counts&#x27;, &#x27;log1p_total_counts&#x27;, &#x27;n_counts&#x27;, &#x27;outliers&#x27;\n",
       "      var:\t&#x27;gene_ids&#x27;, &#x27;feature_types&#x27;, &#x27;n_cells_by_counts&#x27;, &#x27;mean_counts&#x27;, &#x27;log1p_mean_counts&#x27;, &#x27;pct_dropout_by_counts&#x27;, &#x27;total_counts&#x27;, &#x27;log1p_total_counts&#x27;\n",
       "      layers:\t&#x27;counts&#x27;</pre>"
      ],
      "text/plain": [
       "MuData object with n_obs × n_vars = 120502 × 36741\n",
       "  var:\t'gene_ids', 'feature_types'\n",
       "  2 modalities\n",
       "    rna:\t120502 x 36601\n",
       "      obs:\t'donor', 'batch'\n",
       "      var:\t'gene_ids', 'feature_types'\n",
       "    prot:\t120502 x 140\n",
       "      obs:\t'donor', 'batch', 'n_genes_by_counts', 'log1p_n_genes_by_counts', 'total_counts', 'log1p_total_counts', 'n_counts', 'outliers'\n",
       "      var:\t'gene_ids', 'feature_types', 'n_cells_by_counts', 'mean_counts', 'log1p_mean_counts', 'pct_dropout_by_counts', 'total_counts', 'log1p_total_counts'\n",
       "      layers:\t'counts'"
      ]
     },
     "execution_count": 12,
     "metadata": {},
     "output_type": "execute_result"
    }
   ],
   "source": [
    "filtered"
   ]
  },
  {
   "cell_type": "code",
   "execution_count": 13,
   "id": "dee999b6-6a53-4e90-82a0-fc83406f195b",
   "metadata": {},
   "outputs": [
    {
     "name": "stderr",
     "output_type": "stream",
     "text": [
      "/home/icb/ciro.suastegui/miniconda3/envs/citeseq_pp/lib/python3.7/site-packages/anndata/_core/anndata.py:1241: SettingWithCopyWarning: \n",
      "A value is trying to be set on a copy of a slice from a DataFrame.\n",
      "Try using .loc[row_indexer,col_indexer] = value instead\n",
      "\n",
      "See the caveats in the documentation: https://pandas.pydata.org/pandas-docs/stable/user_guide/indexing.html#returning-a-view-versus-a-copy\n",
      "  df[key] = c\n",
      "... storing 'feature_types' as categorical\n"
     ]
    }
   ],
   "source": [
    "filtered.write(filtered_norm_mu_path)"
   ]
  },
  {
   "cell_type": "markdown",
   "id": "80f75277",
   "metadata": {},
   "source": [
    "## Key takeaways"
   ]
  },
  {
   "cell_type": "markdown",
   "id": "6db296ff",
   "metadata": {},
   "source": [
    "TODO"
   ]
  },
  {
   "cell_type": "markdown",
   "id": "b727c7f1",
   "metadata": {},
   "source": [
    "## References"
   ]
  },
  {
   "cell_type": "markdown",
   "id": "74f39e02",
   "metadata": {},
   "source": [
    "```{bibliography}\n",
    ":filter: docname in docnames\n",
    "```"
   ]
  },
  {
   "cell_type": "markdown",
   "id": "2cb47731",
   "metadata": {},
   "source": [
    "## Contributors\n",
    "\n",
    "We gratefully acknowledge the contributions of:\n",
    "\n",
    "### Authors\n",
    "\n",
    "* Daniel Strobl\n",
    "* Ciro Ramírez-Suástegui\n",
    "\n",
    "### Reviewers\n",
    "\n",
    "* Lukas Heumos"
   ]
  }
 ],
 "metadata": {
  "kernelspec": {
   "display_name": "Python 3",
   "language": "python",
   "name": "python3"
  },
  "language_info": {
   "codemirror_mode": {
    "name": "ipython",
    "version": 3
   },
   "file_extension": ".py",
   "mimetype": "text/x-python",
   "name": "python",
   "nbconvert_exporter": "python",
   "pygments_lexer": "ipython3",
   "version": "3.10.10"
  },
  "vscode": {
   "interpreter": {
    "hash": "e7370f93d1d0cde622a1f8e1c04877d8463912d04d973331ad4851f04de6915a"
   }
  }
 },
 "nbformat": 4,
 "nbformat_minor": 5
}

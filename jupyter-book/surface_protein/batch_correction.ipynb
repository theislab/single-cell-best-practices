{
 "cells": [
  {
   "cell_type": "markdown",
   "id": "5a6cd732-e46a-4317-86db-211584a8e888",
   "metadata": {},
   "source": [
    "# Batch correction"
   ]
  },
  {
   "cell_type": "markdown",
   "id": "ffaa32f5-6882-4b8a-ba2c-a93e77cdd33f",
   "metadata": {},
   "source": [
    "## Motivation"
   ]
  },
  {
   "cell_type": "markdown",
   "id": "47b8051c",
   "metadata": {},
   "source": [
    "As could be seen for our earlier visualized ADT data, batch effects between samples are very pronounced.\n",
    "Hence, batch correction to mitigate this effect is required.\n",
    "Generally, no purpose build methods for the batch correction of ADT data have been developed, and we therefore suggest applying methods designed for transcriptomics data to ADT data."
   ]
  },
  {
   "cell_type": "markdown",
   "id": "1c14a3ba-bdb2-4d72-914c-07e7e8a9a4b5",
   "metadata": {},
   "source": [
    "## Environment setup"
   ]
  },
  {
   "cell_type": "code",
   "execution_count": 1,
   "id": "799fa1b6-4a4a-48a5-8d27-2149f5d0035c",
   "metadata": {
    "tags": []
   },
   "outputs": [
    {
     "name": "stderr",
     "output_type": "stream",
     "text": [
      "/home/icb/ciro.suastegui/miniconda3/envs/citeseq_pp/lib/python3.7/site-packages/tqdm/auto.py:22: TqdmWarning: IProgress not found. Please update jupyter and ipywidgets. See https://ipywidgets.readthedocs.io/en/stable/user_install.html\n",
      "  from .autonotebook import tqdm as notebook_tqdm\n"
     ]
    }
   ],
   "source": [
    "import scanpy as sc\n",
    "import muon as mu\n",
    "import numpy as np\n",
    "import glob\n",
    "import seaborn as sns\n",
    "import harmonypy as hm\n",
    "import warnings\n",
    "\n",
    "warnings.simplefilter(action=\"ignore\", category=UserWarning)\n",
    "warnings.simplefilter(action=\"ignore\", category=FutureWarning)"
   ]
  },
  {
   "cell_type": "markdown",
   "id": "23922b73-ad11-423a-a071-3cd31d5a4a1a",
   "metadata": {},
   "source": [
    "## Loading the data"
   ]
  },
  {
   "cell_type": "code",
   "execution_count": 2,
   "id": "3ad111dd-a7a6-4b5e-80ab-1c9e37c080fa",
   "metadata": {},
   "outputs": [],
   "source": [
    "filtered_xdbt_mu_path = \"/lustre/groups/ml01/workspace/ciro.suastegui/bp2.0/data/neurips_cite_pp_filtered-qc-norm-xdbt.h5mu\""
   ]
  },
  {
   "cell_type": "code",
   "execution_count": 3,
   "id": "70e52591-11e3-428b-b62b-0ed0a3cd2305",
   "metadata": {},
   "outputs": [],
   "source": [
    "filtered = mu.read(filtered_xdbt_mu_path)"
   ]
  },
  {
   "cell_type": "markdown",
   "id": "a0ff201b",
   "metadata": {},
   "source": [
    "It is not yet clear which batch effect correction works best for ADT data. For general purposes we recommend scVI {cite}`Lopez2018` or Harmony {cite}`Korsunsky2019` to perform batch correction of the data due to their robust performance on scRNA-seq data."
   ]
  },
  {
   "cell_type": "markdown",
   "id": "174dcf02-fce4-4e73-9175-63b61c24f3dd",
   "metadata": {},
   "source": [
    "## Harmony"
   ]
  },
  {
   "cell_type": "code",
   "execution_count": null,
   "id": "53e35814-2b0f-4395-a6b3-bbb10e4e6455",
   "metadata": {
    "tags": []
   },
   "outputs": [
    {
     "name": "stderr",
     "output_type": "stream",
     "text": [
      "2022-08-23 17:14:39,455 - harmonypy - INFO - Iteration 1 of 10\n",
      "2022-08-23 17:17:08,689 - harmonypy - INFO - Iteration 2 of 10\n",
      "2022-08-23 17:19:37,835 - harmonypy - INFO - Iteration 3 of 10\n",
      "2022-08-23 17:22:05,621 - harmonypy - INFO - Iteration 4 of 10\n",
      "2022-08-23 17:24:35,136 - harmonypy - INFO - Iteration 5 of 10\n",
      "2022-08-23 17:27:01,593 - harmonypy - INFO - Iteration 6 of 10\n"
     ]
    }
   ],
   "source": [
    "%%time\n",
    "ho = hm.run_harmony(filtered[\"prot\"].X, filtered[\"prot\"].obs, [\"donor\"])"
   ]
  },
  {
   "cell_type": "code",
   "execution_count": null,
   "id": "97226448-8b6e-4091-9be4-851735101e7f",
   "metadata": {
    "tags": []
   },
   "outputs": [],
   "source": [
    "pc_std = np.std(ho.Z_corr, axis=1).tolist()"
   ]
  },
  {
   "cell_type": "code",
   "execution_count": null,
   "id": "10274165-aa62-417f-a455-cb65cf441eb3",
   "metadata": {
    "tags": []
   },
   "outputs": [],
   "source": [
    "sns.scatterplot(x=range(0, len(pc_std)), y=sorted(pc_std, reverse=True))"
   ]
  },
  {
   "cell_type": "code",
   "execution_count": null,
   "id": "a0daa672-5467-4f6b-b887-e62c08417148",
   "metadata": {
    "tags": []
   },
   "outputs": [],
   "source": [
    "filtered[\"prot\"].obsm[\"X_pcahm\"] = ho.Z_corr.transpose()"
   ]
  },
  {
   "cell_type": "code",
   "execution_count": null,
   "id": "23e104c7-93e0-4349-8b7e-481c5472891e",
   "metadata": {
    "tags": []
   },
   "outputs": [],
   "source": [
    "filtered[\"prot\"].obsm"
   ]
  },
  {
   "cell_type": "code",
   "execution_count": null,
   "id": "91c3c3b1-6ff9-4dc1-9063-1e5ced0a8a8f",
   "metadata": {
    "tags": []
   },
   "outputs": [],
   "source": [
    "%%time\n",
    "sc.pp.neighbors(filtered[\"prot\"], n_pcs=30, use_rep=\"X_pcahm\")\n",
    "sc.tl.umap(filtered[\"prot\"])"
   ]
  },
  {
   "cell_type": "code",
   "execution_count": null,
   "id": "fb6f2e08-492c-4cc6-9057-a176a2d3869e",
   "metadata": {},
   "outputs": [],
   "source": [
    "sc.tl.tsne(filtered[\"prot\"])"
   ]
  },
  {
   "cell_type": "code",
   "execution_count": null,
   "id": "cb96001d-1480-4957-a648-ce45e6281090",
   "metadata": {
    "tags": []
   },
   "outputs": [],
   "source": [
    "sc.pl.umap(filtered[\"prot\"], color=[\"donor\", \"batch\"])"
   ]
  },
  {
   "cell_type": "markdown",
   "id": "1fbe4b5a-d1c2-4bbc-b1d8-ddf0e4779107",
   "metadata": {},
   "source": [
    "As we can see here, the cells of different donors are much more intermixed in the embedding than before."
   ]
  },
  {
   "cell_type": "code",
   "execution_count": null,
   "id": "a18583cc-d8ff-4e16-8419-057c0976b567",
   "metadata": {
    "tags": []
   },
   "outputs": [],
   "source": [
    "sc.pl.umap(filtered[\"prot\"], color=[\"CD4-1\", \"CD8\", \"CD3\"])\n",
    "sc.pl.umap(filtered[\"prot\"], color=[\"CD14-1\", \"CD16\"])"
   ]
  },
  {
   "cell_type": "markdown",
   "id": "915e4bb4-7388-4848-a740-5def0ec0922f",
   "metadata": {},
   "source": [
    "We check the expression of a few marker genes to confirm that separate cell types are still separate from each other. We can see that T-Cells still form a separate population that is further split into CD4 and CD8 T-Cells."
   ]
  },
  {
   "cell_type": "markdown",
   "id": "bc38b929-d7bf-498b-881d-7978b9b33c75",
   "metadata": {},
   "source": [
    "In following steps, you can now go ahead and cluster and annotate the cells in a similar process as it is described in the annotation chapter[LINK].\n",
    "Here, we have only used the ADT part of the data and thus lost all of the information contained in the RNA part of the study.\n",
    "In other chapters, we will explore how you can make use of both modalities jointly, which allows for a more detailed cell type annotation for example."
   ]
  },
  {
   "cell_type": "markdown",
   "id": "80f75277",
   "metadata": {},
   "source": [
    "## Key takeaways"
   ]
  },
  {
   "cell_type": "markdown",
   "id": "6db296ff",
   "metadata": {},
   "source": [
    "TODO"
   ]
  },
  {
   "cell_type": "markdown",
   "id": "b727c7f1",
   "metadata": {},
   "source": [
    "## References"
   ]
  },
  {
   "cell_type": "markdown",
   "id": "74f39e02",
   "metadata": {},
   "source": [
    "```{bibliography}\n",
    ":filter: docname in docnames\n",
    "```"
   ]
  }
 ],
 "metadata": {
  "kernelspec": {
   "display_name": "Python 3",
   "language": "python",
   "name": "python3"
  },
  "language_info": {
   "codemirror_mode": {
    "name": "ipython",
    "version": 3
   },
   "file_extension": ".py",
   "mimetype": "text/x-python",
   "name": "python",
   "nbconvert_exporter": "python",
   "pygments_lexer": "ipython3",
   "version": "3.7.13"
  },
  "vscode": {
   "interpreter": {
    "hash": "e7370f93d1d0cde622a1f8e1c04877d8463912d04d973331ad4851f04de6915a"
   }
  }
 },
 "nbformat": 4,
 "nbformat_minor": 5
}

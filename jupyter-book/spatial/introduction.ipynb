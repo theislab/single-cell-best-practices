{
 "cells": [
  {
   "cell_type": "markdown",
   "id": "365bd54d-dd37-498a-b1d3-84487bd1c5dd",
   "metadata": {},
   "source": [
    "# Single-cell data resolved in space\n",
    "\n",
    "## Motivation\n",
    "\n",
    "Bulk and single-cell genomic technologies enabled us to characterize and understand cellular identities and their dependencies on genome scale. Up to this point, all single-cell technologies described in this work characterized dissociated cells that were removed from the sample of interest. However, by removing the spatial context of the cells and their molecules, one also loses the spatial context which is an essential component for many biological questions. Spatially resolved genomics resolve this issue by measuring both genome-scale omics and preserving the spatial information. "
   ]
  },
  {
   "cell_type": "markdown",
   "id": "2bfa0be5-0fff-4f27-bd0e-58d6233b62e6",
   "metadata": {},
   "source": [
    "## Overview of spatial profiling measurements\n",
    "\n",
    "Spatially resolved genomics can be measured with various technologies that quantify the transcriptome, proteome or chromatin accessibility. However, these technologies vary in terms of scale, resolution, sensitivity, multiplexing and applicability. As the landscape of spatially resolved genomics is developing fast and is expected to change massively in the next few years, we are introducing only three overall groups of spatial omics technologies based on their capturing resolution. Additional information can be obtained through the linked reviews and papers following this introduction. {cite}`moffitt_emerging_2022` {cite}`walker_deciphering_2022` {cite}`yue_guidebook_2023`\n",
    "\n",
    ":::{figure-md} resolutions\n",
    "\n",
    "<img src=\"../_static/images/spatial/introduction_1.jpeg\" alt=\"Spatial Omics Resolutions Overview\" class=\"bg-primary mb-1\" width=\"800px\">\n",
    "\n",
    "Spatially resolved genomics data varies in resolution from multi-cell, single-cell to sub-cellular resolution.\n",
    ":::\n",
    "\n",
    "Broadly spoken, one can differentiate spatially resolved genomics into technologies that measure at multi-cell, single-cell and sub-cellular resolution. We will shortly motivate each of those scales and highlight their advantages and challenges and introduce the reader to a few technologies that fall into the respective category. \n",
    "\n"
   ]
  },
  {
   "cell_type": "markdown",
   "id": "a173ade1-2df6-4aa7-9f86-f9bcc06f8178",
   "metadata": {},
   "source": [
    "### Multi-cell resolution\n",
    "Spatial omics data obtained at multi-cell resolution typically captures omics measurements among several cells. So, each datapoint contains information from a varying number of cells and also potentially different cell types. Multi-cell resolution data can be decomposed with deconvolution methods to obtain proportions of different cells or cell types per spot.\n",
    "\n",
    "Multi-cell resolution data typically capture transcriptome-wide gene expression profiles at varying resolution. The obtained resolution for spot-based technologies varies between 55um (Visium) to 10 um (slide-seq). A widely known, commercially available and successful technology is Visium provided by 10x Genomics. We will showcase how to analyze and deconvolve Visium data in the tutorials.\n",
    "\n"
   ]
  },
  {
   "cell_type": "markdown",
   "id": "f553059c-3cb3-4fb1-a3cb-41a39fa912b6",
   "metadata": {},
   "source": [
    "### Single-cell resolution\n",
    "Spatial omics data obtained at single-cell resolution either directly capture single cells at their exact position or capture spots on the scale of single-cell. Examples for spot-based methods are HDST, slide-seqV2 or stero-seq. These methods capture the whole transcriptome but still have a low capture efficiency. \n",
    "\n",
    "Targeted methods provide an alternative for measuring cells at their exact position. Common examples are MERFISH, seqFISH+, IMC or multiplexed IHC (e.g. cyCIF and CODEX). These technologies are usually expensive and only measure a limited features space. These methods do not capture spots at a predefined location or grid, but measure individual transcript or cellular locations.\n",
    "\n"
   ]
  },
  {
   "cell_type": "markdown",
   "id": "f9ba0392-7cbf-4d63-8f3a-45fffa783857",
   "metadata": {},
   "source": [
    "### Sub-cellular resolution\n",
    "Spatial omics data at sub-cellular resolution captures the position of individual RNA molecules. Those positions can either be captured through single-molecule imaging or via spatial barcoding with spot-sizes smaller than single-cells. By performing cell segmentation on sub-cellular data one can obtain single-cell resolution data where expression is aggregated to cell-wise measurements which than can be processed in spatially-aware analysis pipelines. We will show how to perform this analysis for a MERFISH dataset.\n",
    "\n"
   ]
  },
  {
   "cell_type": "markdown",
   "id": "7e3132d9-954e-4dc3-ac29-a1dee9ddbd34",
   "metadata": {},
   "source": [
    "\n",
    "### Recommended reading\n",
    "\n",
    "To get a more elaborate understanding of the differences between the spatial experimental assays we recommend the following papers:\n",
    "\n",
    "* The emerging landscape of spatial profiling technologies {cite}`moffitt_emerging_2022`\n",
    "\n",
    "* Deciphering tissue structure and function using spatial transcriptomics {cite}`walker_deciphering_2022`\n",
    "\n",
    "* A guidebook of spatial transcriptomic technologies, data resources and analysis approaches {cite}`yue_guidebook_2023`\n",
    "\n",
    "## References\n",
    "\n",
    "```{bibliography}\n",
    ":filter: docname in docnames\n",
    ":labelprefix: spatial\n",
    "```\n",
    "\n",
    "## Contributors\n",
    "### Authors\n",
    "* Anna Schaar\n",
    "\n",
    "### Reviewers\n",
    "* Lukas Heumos\n"
   ]
  }
 ],
 "metadata": {
  "kernelspec": {
   "display_name": "Environment (cell2loc_env)",
   "language": "python",
   "name": "cell2loc_env"
  },
  "language_info": {
   "codemirror_mode": {
    "name": "ipython",
    "version": 3
   },
   "file_extension": ".py",
   "mimetype": "text/x-python",
   "name": "python",
   "nbconvert_exporter": "python",
   "pygments_lexer": "ipython3",
   "version": "3.9.16"
  }
 },
 "nbformat": 4,
 "nbformat_minor": 5
}
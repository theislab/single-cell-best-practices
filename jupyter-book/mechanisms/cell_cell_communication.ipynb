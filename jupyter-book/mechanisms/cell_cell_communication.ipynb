{
 "cells": [
  {
   "cell_type": "markdown",
   "metadata": {},
   "source": [
    "# Cell-cell communication"
   ]
  },
  {
   "cell_type": "markdown",
   "metadata": {},
   "source": [
    "*TL;DR We provide a brief overview of basic concepts and assumtions for cell-cell communication infrence in single-cell transcritpomics data, we focus on two of the most common types of inference: ligand-receptor and downstream response.*"
   ]
  },
  {
   "cell_type": "markdown",
   "metadata": {},
   "source": [
    "## Motivation"
   ]
  },
  {
   "cell_type": "markdown",
   "metadata": {},
   "source": [
    "#### Background"
   ]
  },
  {
   "cell_type": "markdown",
   "metadata": {},
   "source": [
    "Cell communication is by the ability of cells to react to stimuli from their environment, but also from themselves. In mutlicellular organisms, the dynamic coordination of cells, driven by cell-cell communication (CCC), is essential for biological processes like apoptosis and cell migration, and is hence essential in homeostasis, development, and disease (Armingol et al., 2021). As a consequence of the continuously growing popularity of dissociated and spatial transcriptomics data, CCC inference is becoming a routine approach in transcriptomics data analysis (Armingol et al., 2021).\n",
    "\n",
    "CCC commonly refers to interactions between secreted ligands and a corresponding plasma membrane receptor.\n",
    "However, this picture can be broadened to include secreted enzymes, extra-cellular matrix proteins,\n",
    "transporters, and interactions that require the physical contact between cells, \n",
    "such as cell-cell adhesion proteins and gap junctions (Armingol et al., 2021).\n",
    "\n",
    "Furthermore, CCC is not independent of other process, but rather the contrary, as intercellular interactions elicit a\n",
    "downstream responses, including the induction of known pathways or transcription factors."
   ]
  },
  {
   "cell_type": "markdown",
   "metadata": {},
   "source": [
    "Erick:\n",
    "\n",
    "The signalling events behind CCC are often mediated by interactions of various types of protein, encompassing ligand–receptor, receptor–receptor and extracellular matrix–receptor interactions. Receiver cells trigger downstream signalling through cognate receptors, generally culminating in altered transcription factor activity and gene expression. These cells with altered expression further interact with their microenvironment. To understand the role of each cell within its local community, one must identify the protein messages passed between cells; measuring expressed messenger molecules and their associated pathways is fundamental to understanding the directionality, magnitude and biological relevance of CCC."
   ]
  },
  {
   "cell_type": "markdown",
   "metadata": {},
   "source": [
    "Different types of tools for scCCC - Almet et al, ligand-receptor (NATMI, CellChat, CPDB, others), downstream signalling (NicheNet19, Cytotalk22, and SoptSC20)"
   ]
  },
  {
   "cell_type": "markdown",
   "metadata": {},
   "source": [
    "#### Method Categories"
   ]
  },
  {
   "cell_type": "markdown",
   "metadata": {},
   "source": [
    "Robin:\n",
    "\n",
    "NicheNet and ligand-receptor methods, such as CellPhoneDB, can all be used to\n",
    "study intercellular communication, but it is important to note that they address different questions.\n",
    "Basic ligand-receptor  methods\n",
    "predict communicating pairs of cells and the facilitating ligand-receptor interactions by looking at the\n",
    "expression of interacting ligands and receptors, typically work on \"steady-state\" data. On the contrary, NicheNet predicts which of these\n",
    "inferred ligand-receptor links are possibly the most functional based on gene expression changes that\n",
    "are induced in the target cell type. \n",
    "The typical application of NicheNet is **NOT** “steady state“ data, ecause NicheNet predicts\n",
    "which ligands influence gene expression in a target cell type, there should be information in\n",
    "the data about gene expression changes in the target cell type that are possibly caused by\n",
    "interacting cells (differential expression).\n",
    "\n",
    "Therefore, the choice of which method to use depends on the type\n",
    "of data and research question.\n",
    "\n"
   ]
  },
  {
   "cell_type": "code",
   "execution_count": null,
   "metadata": {},
   "outputs": [],
   "source": []
  },
  {
   "cell_type": "markdown",
   "metadata": {
    "tags": []
   },
   "source": [
    "## CONTENT"
   ]
  },
  {
   "cell_type": "markdown",
   "metadata": {},
   "source": [
    "Remind of the Wang dataset"
   ]
  },
  {
   "cell_type": "markdown",
   "metadata": {},
   "source": [
    "#### Steady-state ligand-receptor\n",
    "CPDB, LIANA"
   ]
  },
  {
   "cell_type": "markdown",
   "metadata": {},
   "source": [
    "#### NicheNet"
   ]
  },
  {
   "cell_type": "markdown",
   "metadata": {},
   "source": [
    "#### NicheNet x LIANA (LIANA by sample):\n",
    "\n",
    "In contrast to LIANA, NicheNet aims to deepen in the intra-cellular mechanisms that connect a ligand with a set of transcriptional targets, making an extensive usage of prior knowledge from multiple sources. LIANA and NicheNet are not mutually exclusive, but in certain scenarios could be rather complementary, given that they aim to explore different aspects of inter- and intra-cellular communication."
   ]
  },
  {
   "cell_type": "markdown",
   "metadata": {},
   "source": [
    "https://saezlab.github.io/liana/articles/liana_nichenet.html\n",
    "\n",
    "https://github.com/saezlab/eccb2022_sc_funcomics/blob/main/2_cell_comm.Rmd#L119"
   ]
  },
  {
   "cell_type": "code",
   "execution_count": null,
   "metadata": {},
   "outputs": [],
   "source": []
  },
  {
   "cell_type": "markdown",
   "metadata": {},
   "source": [
    "## Key takeaways"
   ]
  },
  {
   "cell_type": "markdown",
   "metadata": {},
   "source": [
    "#### Assumptions & Limitations:\n",
    "1. Communication Ranges (Palla, This ligand range thing), e.g. endocrine/long-distance is missing\n",
    "2. Protein-mediated alone, with expression data as a proxy for protein abundance\n",
    "3. Signalling does not occur at the cell type level \n",
    "4. Canonical limitations of scRNA-Seq\n",
    "5. Typically one-to-one events, which is an oversimplification"
   ]
  },
  {
   "cell_type": "markdown",
   "metadata": {},
   "source": [
    "LIANA's insights (+ that other one that does spatial benchmarking); disagreement (Dimitrov), complexes (Efremova et al, Jin et al.,), downstream (CytoSig, scSeqComm), spatial (Luz, Rico), etc"
   ]
  },
  {
   "cell_type": "markdown",
   "metadata": {},
   "source": [
    "#### Outlook:\n",
    "1. Metbolite (MEBOCOST, CellPhoneDBv4, scConnect)\n",
    "2. Downstream Signalling (CytoSig, NicheNet)\n",
    "3. Single-cell resolution (Niches + this other one)\n",
    "4. Across Context (Mention NATMI, Connectome, CellChat), highlight Tensor-Cell2cell)\n",
    "5. Link to Spatial Methods (Misty, NCEM)"
   ]
  },
  {
   "cell_type": "markdown",
   "metadata": {},
   "source": [
    "## Quiz"
   ]
  },
  {
   "cell_type": "markdown",
   "metadata": {},
   "source": [
    "- Q1.\n",
    "- Q2.\n",
    "- Q3."
   ]
  },
  {
   "cell_type": "markdown",
   "metadata": {},
   "source": [
    "## References"
   ]
  },
  {
   "cell_type": "markdown",
   "metadata": {},
   "source": [
    "```{bibliography}\n",
    ":filter: docname in docnames\n",
    "```"
   ]
  }
 ],
 "metadata": {
  "kernelspec": {
   "display_name": "Python 3",
   "language": "python",
   "name": "python3"
  },
  "language_info": {
   "codemirror_mode": {
    "name": "ipython",
    "version": 3
   },
   "file_extension": ".py",
   "mimetype": "text/x-python",
   "name": "python",
   "nbconvert_exporter": "python",
   "pygments_lexer": "ipython3",
   "version": "3.7.12"
  },
  "vscode": {
   "interpreter": {
    "hash": "e7370f93d1d0cde622a1f8e1c04877d8463912d04d973331ad4851f04de6915a"
   }
  }
 },
 "nbformat": 4,
 "nbformat_minor": 4
}

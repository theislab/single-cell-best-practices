{
 "cells": [
  {
   "cell_type": "markdown",
   "id": "eceea5f9-1817-43b8-9e2f-3eb2bf8a1688",
   "metadata": {},
   "source": [
    "(pre-processing:feature-selection)=\n",
    "# Feature selection"
   ]
  },
  {
   "cell_type": "markdown",
   "id": "6039b327",
   "metadata": {},
   "source": [
    "## Motivation"
   ]
  },
  {
   "cell_type": "markdown",
   "id": "bb34b118",
   "metadata": {},
   "source": [
    "We now have a normalized data representation that still preserves biological heterogeneity but with reduced technical sampling effects in gene expression. So far we only removed genes that are not detected in at least 20 cells. However, in almost all cases we want to further reduce the dimensionality of the dataset and only include the most informative genes. Therefore, a standard preprocessing pipeline involves the step of feature selection which aims to exclude uninformative genes which might not represent meaningful biological variation across samples. Usually, the scRNA-seq experiment and resulting dataset focuses on one specific tissue and hence, only a small fraction of genes is informative and biologically variable. Traditional approaches and pipelines either compute the coefficient of variation (highly variable genes) or the average expression level (highly expressed genes) of 500-2000 selected genes and use these features for their downstream analysis steps. However, these methods are highly sensitive to the normalization technique used before. As mentioned earlier, a former preprocessing workflow included normalization with CPM and subsequent log transformation. But as log-transformation is not possible for exact zeros, analysts often add a small *pseudo count*, e.g., 1 (log1p), to all normalized counts before log transforming the data. Choosing the pseudo count, however, is arbitrary and can introduce biases to the transformed data. This arbitrariness has then also an effect on the feature selection as the observed variability depends on the chosen pseudo count. A small pseudo count value close to zero is increasing the variance of genes with zero counts {cite}`Townes2019`. "
   ]
  },
  {
   "cell_type": "markdown",
   "id": "66b66cc6",
   "metadata": {},
   "source": [
    "Germain et al. instead proposes to use *deviance* for feature selection which works on raw counts {cite}`fs:germain_pipecomp_2020`. Deviance can be computed in closed form and quantifies whether genes show a constant expression profile across cells as these are not informative. Genes with constant expression are described by a multinomial null model, they are approximated by the binomial deviance. Highly informative genes across cells will have a high deviance value which indicates a poor fit by the null model (i.e., they don't show constant expression across cells). According to the deviance values, the method then ranks all genes and obtains only highly deviant genes. \n",
    "\n",
    "As mentioned before, deviance can be computed in closed form and is provided within the R package scry.\n",
    "\n",
    "We start by setting up our environment."
   ]
  },
  {
   "cell_type": "code",
   "execution_count": 1,
   "id": "9afa9c69-1dc8-4144-b2aa-48c093933185",
   "metadata": {},
   "outputs": [],
   "source": [
    "import scanpy as sc\n",
    "import anndata2ri\n",
    "import logging\n",
    "import numpy as np\n",
    "\n",
    "import rpy2.rinterface_lib.callbacks as rcb\n",
    "import rpy2.robjects as ro\n",
    "\n",
    "sc.settings.verbosity = 0\n",
    "sc.settings.set_figure_params(\n",
    "    dpi=80,\n",
    "    facecolor=\"white\",\n",
    "    # color_map=\"YlGnBu\",\n",
    "    frameon=False,\n",
    ")\n",
    "\n",
    "rcb.logger.setLevel(logging.ERROR)\n",
    "ro.pandas2ri.activate()\n",
    "anndata2ri.activate()\n",
    "\n",
    "%load_ext rpy2.ipython"
   ]
  },
  {
   "cell_type": "code",
   "execution_count": 2,
   "id": "da52c05f-77a4-48f8-a45a-e8de6ab0756a",
   "metadata": {},
   "outputs": [],
   "source": [
    "# TOOD switch to figshare afterwards\n",
    "adata = sc.read(\"s4d8_subset_gex_qc_norm.h5ad\")"
   ]
  },
  {
   "cell_type": "code",
   "execution_count": 3,
   "id": "1a5a1c27-dcb3-45e1-a090-ad7783ef7c4e",
   "metadata": {},
   "outputs": [],
   "source": [
    "%%R\n",
    "library(scry)"
   ]
  },
  {
   "cell_type": "markdown",
   "id": "0b22f177-a7da-4ec9-9ea2-b30a2ada080c",
   "metadata": {},
   "source": [
    "Similar to before, we save the AnnData object in our R environment. "
   ]
  },
  {
   "cell_type": "code",
   "execution_count": 4,
   "id": "df540648-bc4a-4c93-b336-8df23b224fef",
   "metadata": {},
   "outputs": [],
   "source": [
    "ro.globalenv[\"adata\"] = adata"
   ]
  },
  {
   "cell_type": "markdown",
   "id": "165e6603-7d43-465b-9cbb-4f8d4fab89fb",
   "metadata": {},
   "source": [
    "We can now directly call feature selection with deviance on the non-normalized counts matrix and export the bionomial deviance values as a vector. "
   ]
  },
  {
   "cell_type": "code",
   "execution_count": 5,
   "id": "a46eb792-380b-4f61-99dd-119ab6edb8f5",
   "metadata": {},
   "outputs": [],
   "source": [
    "%%R\n",
    "sce = devianceFeatureSelection(adata, assay=\"X\")"
   ]
  },
  {
   "cell_type": "code",
   "execution_count": 6,
   "id": "69ff1f65-d6a8-44a3-b905-3991e00acdf2",
   "metadata": {},
   "outputs": [],
   "source": [
    "binomial_deviance = ro.r(\"rowData(sce)$binomial_deviance\").T"
   ]
  },
  {
   "cell_type": "markdown",
   "id": "37330365-94b4-44b6-92a7-09839228fbc9",
   "metadata": {},
   "source": [
    "As a next step, we now sort the vector an select the top 4,000 highly deviant genes and save them as an additional column in `.var` as 'highly_deviant'. "
   ]
  },
  {
   "cell_type": "code",
   "execution_count": 7,
   "id": "e349f348-c0eb-4473-9e21-d7c1d960fa9f",
   "metadata": {},
   "outputs": [],
   "source": [
    "idx = binomial_deviance.argsort()[-4000:]\n",
    "mask = np.zeros(adata.var_names.shape, dtype=bool)\n",
    "mask[idx] = True\n",
    "\n",
    "adata.var[\"highly_deviant\"] = mask"
   ]
  },
  {
   "cell_type": "code",
   "execution_count": 8,
   "id": "b4f14e5e-3865-4afd-bc96-7e0b42b9bf39",
   "metadata": {},
   "outputs": [],
   "source": [
    "adata.write(\"s4d8_subset_gex_qc_norm_fs.h5ad\")"
   ]
  },
  {
   "cell_type": "markdown",
   "id": "28855f58-cda0-4280-b8e9-23bfbfe4be72",
   "metadata": {},
   "source": [
    "## References\n",
    "\n",
    "```{bibliography}\n",
    ":filter: docname in docnames\n",
    ":labelprefix: fs\n",
    "```"
   ]
  },
  {
   "cell_type": "markdown",
   "id": "e88079ca",
   "metadata": {},
   "source": [
    "## Contributors\n",
    "\n",
    "We gratefully acknowledge the contributions of:\n",
    "\n",
    "### Authors\n",
    "\n",
    "* Anna Schaar\n",
    "\n",
    "### Reviewers\n",
    "\n",
    "* Lukas Heumos\n"
   ]
  }
 ],
 "metadata": {
  "kernelspec": {
   "display_name": "Python 3.8.12 ('base')",
   "language": "python",
   "name": "python3"
  },
  "language_info": {
   "codemirror_mode": {
    "name": "ipython",
    "version": 3
   },
   "file_extension": ".py",
   "mimetype": "text/x-python",
   "name": "python",
   "nbconvert_exporter": "python",
   "pygments_lexer": "ipython3",
   "version": "3.8.12"
  },
  "vscode": {
   "interpreter": {
    "hash": "9a4b8eb2e3b598ccf69997907eca0492d4b3d651094270ed44ac0cb064672ed3"
   }
  }
 },
 "nbformat": 4,
 "nbformat_minor": 5
}

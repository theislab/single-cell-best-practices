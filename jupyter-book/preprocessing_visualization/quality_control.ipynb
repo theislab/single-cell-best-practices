{
 "cells": [
  {
   "attachments": {},
   "cell_type": "markdown",
   "id": "eceea5f9-1817-43b8-9e2f-3eb2bf8a1688",
   "metadata": {},
   "source": [
    "(quality-control)=\n",
    "# Quality Control"
   ]
  },
  {
   "cell_type": "markdown",
   "id": "0b55b79e",
   "metadata": {},
   "source": [
    "## Motivation"
   ]
  },
  {
   "cell_type": "markdown",
   "id": "1f851cc9",
   "metadata": {},
   "source": [
    "Single-cell RNA-seq datasets have two essential properties that one should have in mind when performing an analysis.\n",
    "Firstly, scRNA-seq data is a drop-out, meaning there is an excessive number of zeros in the data due to the limitation of mRNA.\n",
    "Secondly, the potential for correcting the data and performing quality control might be limited as the data may be confounded with biology.\n",
    "It is therefore crucial to select preprocessing methods that are suitable for the underlying data without overcorrecting or removing biological effects.\n",
    "\n",
    "The set of tools for analyzing single-cell {term}`RNA`-sequencing data is evolving fast due to new sequencing technologies and a growing number of captured cells, measured genes, and identified cell populations {cite}`qc:Zappia2021`.\n",
    "Many of these tools are dedicated to preprocessing, which aims to address the following analysis steps: \n",
    "1.\t{term}`Doublet <Doublets>` detection\n",
    "2.\tQuality control\n",
    "3.\tNormalization\n",
    "4.\tFeature selection\n",
    "5.\tDimensionality reduction.\n",
    "The tools selected throughout this chapter can heavily affect downstream analysis and interpretation of the data.\n",
    "For example, if you filter out too many cells during quality control, you might lose rare cell subpopulations and miss insight into interesting cell biology.\n",
    "Whereas if you are too permissive, you might have a hard time annotating your cells if you did not exclude poor-quality cells in your preprocessing pipeline.\n",
    "Therefore, it is important to choose tools that both follow best practices and consistently outperform alternatives in downstream tasks.\n",
    "In many cases, you will still have to re-assess your preprocessing analysis and change, for example, the filtering strategy.\n",
    "\n",
    "The starting point of this notebook is single-cell data that has been processed as previously described in the [raw data processing chapter](../introduction/raw_data_processing.md).\n",
    "The data was aligned to obtain matrices of molecular counts, the so-called count matrices, or read counts (read matrices).\n",
    "The difference between count and read matrices depends on whether {term}`unique molecular identifiers (UMIs) <Unique Molecular Identifier (UMI)>` were included in the single-cell library construction protocol.\n",
    "Read and count matrices have the dimension `number of barcodes x number of transcripts`.\n",
    "It is important to note that the term \"barcode\" is used here instead of \"cell\" as a barcode might wrongly have tagged multiple cells (doublet) or might have not tagged any cell (empty droplet/well).\n",
    "We will elaborate more on this in the section \"Doublet detection\".\n"
   ]
  },
  {
   "cell_type": "markdown",
   "id": "d4b4ab90",
   "metadata": {},
   "source": [
    "## Environment setup and data\n",
    "\n",
    "We use a 10x Multiome data set generated for a single cell data integration challenge at the NeurIPS conference 2021 {cite}`luecken2021sandbox`.\n",
    "This dataset captures single-cell multiomics data from bone marrow mononuclear cells of 12 healthy human donors measured at four different sites to obtain nested batch effects—a hierarchical form of technical variability where batches (such as sites) are nested within biological units (such as individual donors), allowing for a more nuanced assessment of technical versus biological variation.\n",
    "In this tutorial, we will use one batch of the aforementioned dataset, sample 4 of donor 8, to showcase the best practices for scRNA-seq data preprocessing."
   ]
  },
  {
   "cell_type": "markdown",
   "id": "6e694d02",
   "metadata": {},
   "source": [
    "Although single-cell count matrix preprocessing is generally a linear process where various quality control and preprocessing steps are conducted in a clear order, the introduction of specific steps here requires us to sometimes jump ahead to steps that we are going to introduce in one of the later subchapters.\n",
    "For example, we make use of clustering for the ambient RNA correction, but will only introduce clustering later."
   ]
  },
  {
   "cell_type": "markdown",
   "id": "a95b6b87",
   "metadata": {},
   "source": [
    "As a first step, we import the packages we need."
   ]
  },
  {
   "cell_type": "code",
   "execution_count": 1,
   "id": "9afa9c69-1dc8-4144-b2aa-48c093933185",
   "metadata": {},
   "outputs": [
    {
     "name": "stdout",
     "output_type": "stream",
     "text": [
      "\u001b[92m→\u001b[0m connected lamindb: theislab/sc-best-practices\n",
      "\u001b[92m→\u001b[0m loaded Transform('FATGTTa0bL500000'), re-started Run('ek9F27dk...') at 2025-04-17 22:03:45 UTC\n",
      "\u001b[92m→\u001b[0m notebook imports: anndata2ri==1.3.2 numpy==2.1.3 rpy2==3.5.11 scanpy==1.11.1 scipy==1.14.1 seaborn==0.13.2\n"
     ]
    }
   ],
   "source": [
    "import lamindb as ln\n",
    "import numpy as np\n",
    "import scanpy as sc\n",
    "import seaborn as sns\n",
    "from rpy2.robjects import numpy2ri\n",
    "from rpy2.robjects.conversion import localconverter\n",
    "from scipy.sparse import csc_matrix\n",
    "from scipy.stats import median_abs_deviation\n",
    "\n",
    "assert ln.setup.settings.instance.slug == \"theislab/sc-best-practices\"\n",
    "\n",
    "ln.track()"
   ]
  },
  {
   "cell_type": "markdown",
   "id": "76941518",
   "metadata": {},
   "source": [
    "We can load the dataset via `lamindb`."
   ]
  },
  {
   "cell_type": "code",
   "execution_count": 2,
   "id": "da52c05f-77a4-48f8-a45a-e8de6ab0756a",
   "metadata": {},
   "outputs": [
    {
     "name": "stderr",
     "output_type": "stream",
     "text": [
      "/Users/seohyon/miniconda3/envs/preprocessing/lib/python3.12/site-packages/anndata/_core/anndata.py:1758: UserWarning: Variable names are not unique. To make them unique, call `.var_names_make_unique`.\n",
      "  utils.warn_names_duplicates(\"var\")\n"
     ]
    },
    {
     "data": {
      "text/plain": [
       "AnnData object with n_obs × n_vars = 16934 × 36601\n",
       "    var: 'gene_ids', 'feature_types', 'genome', 'interval'"
      ]
     },
     "execution_count": 2,
     "metadata": {},
     "output_type": "execute_result"
    }
   ],
   "source": [
    "af = ln.Artifact.get(\n",
    "    key=\"preprocessing_visualization/quality_control_adata.h5ad\", is_latest=True\n",
    ")\n",
    "adata = af.load()\n",
    "adata"
   ]
  },
  {
   "cell_type": "markdown",
   "id": "173e65ca-a224-45b6-97e5-9b75725fc9b2",
   "metadata": {},
   "source": [
    "After reading the data, scanpy displays a warning that not all variable names are unique.\n",
    "This indicates that some variables (=genes) appear more than once which can lead to errors or unintended behavior for downstream analysis tasks.\n",
    "We execute the proposed function `var_names_make_unique()` which makes the variable name unique by appending a number string to each duplicate index element: ‘1’, ‘2’, etc. "
   ]
  },
  {
   "cell_type": "code",
   "execution_count": 3,
   "id": "b302251e-6bee-4968-ac2f-2952eea7b46d",
   "metadata": {},
   "outputs": [
    {
     "data": {
      "text/plain": [
       "AnnData object with n_obs × n_vars = 16934 × 36601\n",
       "    var: 'gene_ids', 'feature_types', 'genome', 'interval'"
      ]
     },
     "execution_count": 3,
     "metadata": {},
     "output_type": "execute_result"
    }
   ],
   "source": [
    "adata.var_names_make_unique()\n",
    "adata"
   ]
  },
  {
   "cell_type": "markdown",
   "id": "e743203d-a6d1-4abd-b7ff-89f1a2ddc088",
   "metadata": {},
   "source": [
    "The dataset has the shape `n_obs` 16,934 x `n_vars` 36,601. This translates into `barcodes x number of transcripts`.\n",
    "We additionally inspect further information in `.var` in terms of gene_ids (Ensembl Id), feature_types and genome. \n",
    "\n",
    "Most subsequent analysis tasks assume that each observation in the dataset represents measurements from one intact single-cell.\n",
    "In some cases, this assumption can be violated by low-quality cells, contamination of cell-free RNA, or doublets.\n",
    "This tutorial will guide you through correcting and removing these violations and obtaining a high-quality dataset.\n",
    "\n",
    ":::{figure-md} Quality control\n",
    "\n",
    "<img src=\"../_static/images/preprocessing_visualization/quality_control.jpeg\" alt=\"Ambient RNA Overview\" class=\"bg-primary mb-1\" width=\"800px\">\n",
    "\n",
    "Single-cell RNA-seq datasets can contain low-quality cells, cell-free RNA and doublets.\n",
    "Quality control aims to remove and correct for those to obtain a high-quality dataset where each observation is an intact single cell. \n",
    "\n",
    ":::"
   ]
  },
  {
   "cell_type": "markdown",
   "id": "cb995c17-145c-4afa-bf4f-86d0842d478c",
   "metadata": {},
   "source": [
    "(preprocessing-visualization-quality-control-key-takeaway-1)=\n",
    "(preprocessing-visualization-quality-control-key-takeaway-2)=\n",
    "## Filtering low quality cells\n",
    "\n",
    "The first step in quality control is to remove low-quality cells from the dataset.\n",
    "When a cell has a low number of detected genes, a low count depth, and a high fraction of mitochondrial counts it might have a broken membrane which can indicate a dying cell.\n",
    "As these cells are usually not the main target of our analysis and might distort our downstream analysis, we remove them during quality control.\n",
    "To identify them, we define the cell quality control (QC) threshold.\n",
    "Cell QC is typically performed on the following three QC covariates:\n",
    "\n",
    "1. The number of counts per barcode (count depth)\n",
    "2. The number of genes per barcode\n",
    "3. The fraction of counts from mitochondrial genes per barcode\n",
    "\n",
    "In cell QC these covariates are filtered via thresholding as they might correspond to dying cells.\n",
    "As indicated, they might reflect cells with broken membranes whose cytoplasmic mRNA has leaked out, and therefore only the mRNA in the mitochondria is still present.\n",
    "These cells might then show a low count depth, few detected genes, and a high fraction of mitochondrial reads.\n",
    "It is, however, crucial to consider the three QC covariates jointly as otherwise, it might lead to misinterpretation of cellular signals.\n",
    "Cells with a relatively high fraction of mitochondrial counts might for example be involved in respiratory processes and should not be filtered out.\n",
    "Whereas, cells with low or high counts might correspond to quiescent cell populations or cells larger in size.\n",
    "It is therefore preferred to consider multiple covariates when thresholding decisions on single covariates are made.\n",
    "In general, it is advised to exclude fewer cells and be as permissive as possible to avoid filtering out viable cell populations or small sub-populations.\n",
    "\n",
    "QC on only a few or small datasets is often performed manually by looking at the distribution of different QC covariates and identifying outliers which will be filtered afterward.\n",
    "However, as datasets grow in size this task is becoming more and more time-consuming and it might be worth considering automatic thresholding via MAD (median absolute deviations).\n",
    "The MAD is given by $MAD = median(|X_i - median(X)|)$ with $X_i$ being the respective QC metric of observation and describes a robust statistic of the variability of the metric.\n",
    "Similar to {cite}`qc:germain_pipecomp_2020`, we mark cells as outliers if they differ by 5 MADs which is a relatively permissive filtering strategy.\n",
    "We want to highlight that it might be reasonable to re-assess the filtering after the annotation of cells.\n",
    "\n",
    "In QC, the first step is to calculate the QC covariates or metric.\n",
    "We compute these using the scanpy function `sc.pp.calculate_qc_metrics`, which can also calculate the proportions of counts for specific gene populations.\n",
    "We therefore define mitochondrial, ribosomal, and hemoglobin genes.\n",
    "It is important to note that mitochondrial counts are annotated either with the prefix \"mt-\" or \"MT-\" depending on the species considered in the dataset.\n",
    "As mentioned, the dataset used in this notebook is human bone marrow, so mitochondrial counts are annotated with the prefix \"MT-\".\n",
    "For mouse datasets, the prefix is usually in lower case, so \"mt-\".\n",
    "\n"
   ]
  },
  {
   "cell_type": "code",
   "execution_count": 4,
   "id": "7937b1bf-e3e4-48af-a272-43982e05101b",
   "metadata": {},
   "outputs": [],
   "source": [
    "# mitochondrial genes\n",
    "adata.var[\"mt\"] = adata.var_names.str.startswith(\"MT-\")\n",
    "# ribosomal genes\n",
    "adata.var[\"ribo\"] = adata.var_names.str.startswith((\"RPS\", \"RPL\"))\n",
    "# hemoglobin genes.\n",
    "adata.var[\"hb\"] = adata.var_names.str.contains(\"^HB[^(P)]\")"
   ]
  },
  {
   "cell_type": "markdown",
   "id": "8bbe4870-0afb-4e92-9d78-3b42097814d1",
   "metadata": {},
   "source": [
    "We can now calculate the respective QC metrics with scanpy. "
   ]
  },
  {
   "cell_type": "code",
   "execution_count": 5,
   "id": "ae3bb115-50ad-43c1-8050-4dc383c4675b",
   "metadata": {},
   "outputs": [
    {
     "data": {
      "text/plain": [
       "AnnData object with n_obs × n_vars = 16934 × 36601\n",
       "    obs: 'n_genes_by_counts', 'log1p_n_genes_by_counts', 'total_counts', 'log1p_total_counts', 'pct_counts_in_top_20_genes', 'total_counts_mt', 'log1p_total_counts_mt', 'pct_counts_mt', 'total_counts_ribo', 'log1p_total_counts_ribo', 'pct_counts_ribo', 'total_counts_hb', 'log1p_total_counts_hb', 'pct_counts_hb'\n",
       "    var: 'gene_ids', 'feature_types', 'genome', 'interval', 'mt', 'ribo', 'hb', 'n_cells_by_counts', 'mean_counts', 'log1p_mean_counts', 'pct_dropout_by_counts', 'total_counts', 'log1p_total_counts'"
      ]
     },
     "execution_count": 5,
     "metadata": {},
     "output_type": "execute_result"
    }
   ],
   "source": [
    "sc.pp.calculate_qc_metrics(\n",
    "    adata, qc_vars=[\"mt\", \"ribo\", \"hb\"], inplace=True, percent_top=[20], log1p=True\n",
    ")\n",
    "adata"
   ]
  },
  {
   "cell_type": "markdown",
   "id": "a9c2182e-cd96-4aef-92dc-b270ac6c3c64",
   "metadata": {},
   "source": [
    "As we can see, the function added a couple of additional columns to `.var` and `.obs`.\n",
    "We want to highlight a few of them here, more information on the different metrics can be found in the scanpy documentation:\n",
    "\n",
    "* `n_genes_by_counts` in `.obs` is the number of genes with positive counts in a cell,\n",
    "* `total_counts` is the total number of counts for a cell, this might also be known as library size, and\n",
    "* `pct_counts_mt` is the proportion of total counts for a cell which are mitochondrial.\n",
    "\n",
    "We now plot the three QC covariates `n_genes_by_counts`, `total_counts` and `pct_counts_mt` per sample to assess how well the respective cells were captured."
   ]
  },
  {
   "cell_type": "code",
   "execution_count": 6,
   "id": "d0f7572f-23cf-4e35-8401-42b0f215f696",
   "metadata": {},
   "outputs": [
    {
     "data": {
      "image/png": "[encoded data removed]",
      "text/plain": [
       "<Figure size 500x500 with 1 Axes>"
      ]
     },
     "metadata": {},
     "output_type": "display_data"
    },
    {
     "data": {
      "image/png": "[encoded data removed]",
      "text/plain": [
       "<Figure size 804.6x480 with 1 Axes>"
      ]
     },
     "metadata": {},
     "output_type": "display_data"
    },
    {
     "data": {
      "image/png": "[encoded data removed]",
      "text/plain": [
       "<Figure size 810.02x480 with 2 Axes>"
      ]
     },
     "metadata": {},
     "output_type": "display_data"
    }
   ],
   "source": [
    "p1 = sns.displot(adata.obs[\"total_counts\"], bins=100, kde=False)\n",
    "# sc.pl.violin(adata, 'total_counts')\n",
    "p2 = sc.pl.violin(adata, \"pct_counts_mt\")\n",
    "p3 = sc.pl.scatter(adata, \"total_counts\", \"n_genes_by_counts\", color=\"pct_counts_mt\")"
   ]
  },
  {
   "cell_type": "markdown",
   "id": "8ab11c43-396e-43b4-b247-c2d9e70b3ab6",
   "metadata": {},
   "source": [
    "The plots indicate that some cells have a relatively high percentage of mitochondrial counts which are often associated with cell degradation.\n",
    "But since number of counts per cell is sufficiently high and the percentage of mitochondrial reads is for most cells below 20 % we can still process the data.\n",
    "Based on these plots, one could now also define manual thresholds for filtering cells.\n",
    "Instead, we will show QC with automatic thresholding and filtering based on MAD.\n",
    "\n",
    "First, we define a function that takes a `metric`, i.e. a column in `.obs` and the number of MADs (`nmad`) that is still permissive within the filtering strategy."
   ]
  },
  {
   "cell_type": "code",
   "execution_count": 7,
   "id": "c206be80-ae4c-4bb1-b54b-5da21fb476cb",
   "metadata": {},
   "outputs": [],
   "source": [
    "def is_outlier(adata, metric: str, nmads: int):\n",
    "    M = adata.obs[metric]\n",
    "    outlier = (M < np.median(M) - nmads * median_abs_deviation(M)) | (\n",
    "        np.median(M) + nmads * median_abs_deviation(M) < M\n",
    "    )\n",
    "    return outlier"
   ]
  },
  {
   "cell_type": "markdown",
   "id": "25918875-545f-4bd6-9b0c-79a37ff68e86",
   "metadata": {},
   "source": [
    "We now apply this function to the `log1p_total_counts`, `log1p_n_genes_by_counts` and `pct_counts_in_top_20_genes` QC covariates each with a threshold of 5 MADs."
   ]
  },
  {
   "cell_type": "code",
   "execution_count": 8,
   "id": "284197bb-4fd5-4725-9a11-405d4400fb5f",
   "metadata": {},
   "outputs": [
    {
     "data": {
      "text/plain": [
       "outlier\n",
       "False    16065\n",
       "True       869\n",
       "Name: count, dtype: int64"
      ]
     },
     "execution_count": 8,
     "metadata": {},
     "output_type": "execute_result"
    }
   ],
   "source": [
    "adata.obs[\"outlier\"] = (\n",
    "    is_outlier(adata, \"log1p_total_counts\", 5)\n",
    "    | is_outlier(adata, \"log1p_n_genes_by_counts\", 5)\n",
    "    | is_outlier(adata, \"pct_counts_in_top_20_genes\", 5)\n",
    ")\n",
    "adata.obs.outlier.value_counts()"
   ]
  },
  {
   "cell_type": "markdown",
   "id": "8a975c59-a91e-4449-972f-a9b6b2526225",
   "metadata": {},
   "source": [
    "`pct_counts_Mt` is filtered with 3 MADs.\n",
    "Additionally, cells with a percentage of mitochondrial counts exceeding 8 % are filtered out."
   ]
  },
  {
   "cell_type": "code",
   "execution_count": 9,
   "id": "13ea0df9-d5a8-4b36-b7da-4bc31c610ff1",
   "metadata": {},
   "outputs": [
    {
     "data": {
      "text/plain": [
       "mt_outlier\n",
       "False    15240\n",
       "True      1694\n",
       "Name: count, dtype: int64"
      ]
     },
     "execution_count": 9,
     "metadata": {},
     "output_type": "execute_result"
    }
   ],
   "source": [
    "adata.obs[\"mt_outlier\"] = is_outlier(adata, \"pct_counts_mt\", 3) | (\n",
    "    adata.obs[\"pct_counts_mt\"] > 8\n",
    ")\n",
    "adata.obs.mt_outlier.value_counts()"
   ]
  },
  {
   "cell_type": "markdown",
   "id": "65d42331-dfb9-4aa8-8883-bc41d1974662",
   "metadata": {},
   "source": [
    "We now filter our AnnData object based on these two additional columns."
   ]
  },
  {
   "cell_type": "code",
   "execution_count": 10,
   "id": "995fc41e-820a-4330-9a1a-5bad893ce1de",
   "metadata": {},
   "outputs": [
    {
     "name": "stdout",
     "output_type": "stream",
     "text": [
      "Total number of cells: 16934\n",
      "Number of cells after filtering of low quality cells: 14814\n"
     ]
    }
   ],
   "source": [
    "print(f\"Total number of cells: {adata.n_obs}\")\n",
    "adata = adata[(~adata.obs.outlier) & (~adata.obs.mt_outlier)].copy()\n",
    "\n",
    "print(f\"Number of cells after filtering of low quality cells: {adata.n_obs}\")"
   ]
  },
  {
   "cell_type": "code",
   "execution_count": 11,
   "id": "9656b2f5-2f81-4f79-a2d0-47c33695ad09",
   "metadata": {},
   "outputs": [
    {
     "data": {
      "image/png": "[encoded data removed]",
      "text/plain": [
       "<Figure size 810.02x480 with 2 Axes>"
      ]
     },
     "metadata": {},
     "output_type": "display_data"
    }
   ],
   "source": [
    "p1 = sc.pl.scatter(adata, \"total_counts\", \"n_genes_by_counts\", color=\"pct_counts_mt\")"
   ]
  },
  {
   "cell_type": "markdown",
   "id": "d44d44a2-57ec-4628-9e68-93deb3370b58",
   "metadata": {
    "tags": []
   },
   "source": [
    "## Correction of ambient RNA\n",
    "\n",
    "For droplet-based single cell RNA-seq experiments, a certain amount of background mRNAs is present in the dilution that gets distributed into the droplets with cells and sequenced along with them.\n",
    "The net effect of this is to produce a background contamination that represents expression not from the cell contained within a droplet, but the solution that contained the cells.\n",
    "\n",
    "Droplet-based scRNA-seq generates counts of {term}`unique molecular identifiers (UMIs) <Unique Molecular Identifier (UMI)>` for genes across multiple cells and aims to identify the number of molecules for each gene and each cell.\n",
    "It assumes that each droplet contains mRNA from single cells.\n",
    "{term}`Doublet <Doublets>`, empty droplets and cell-free RNA can violate this assumption.\n",
    "Cell-free mRNA molecules represent background mRNA that is present in the dilution.\n",
    "These molecules get distributed along the droplets and are sequenced along with them.\n",
    "This contamination of cell-free mRNA in the input solution is typically called \"the soup\" which is created by cell lysis.\n",
    "\n",
    ":::{figure-md} ambient RNA\n",
    "\n",
    "<img src=\"../_static/images/preprocessing_visualization/ambient_rna.jpeg\" alt=\"Ambient RNA Overview\" class=\"bg-primary mb-1\" width=\"800px\">\n",
    "\n",
    "In droplet-based sequencing technologies, droplets can incorporate ambient RNA or doublets (droplets with multiple cells captured).\n",
    "Contaminating ambient RNA is barcoded and counted together with the native mRNA from the cell leading to confounded counts. \n",
    "\n",
    ":::\n",
    "\n",
    "Cell-free mRNA molecules, also known as ambient RNA, can confound the number of observed counts and can be seen as background contamination.\n",
    "It is important to correct droplet-based scRNA-seq datasets for cell-free mRNA as it may distort the interpretation of the data in our downstream analysis.\n",
    "Generally, the soup differs for each input solution and depends on the expression pattern across individual cells in the dataset.\n",
    "Methods for removal of ambient mRNA like SoupX {cite}`qc:Young2020` and DecontX {cite}`decontX_yang_decontamination_2020` aim to estimate the composition of the soup and correct the count table with respect to the soup-based expression.\n",
    "\n",
    "As a first step, SoupX calculates the profile of the soup. It estimates the ambient mRNA expression profile from empty droplets as given by the unfiltered Cellranger matrix.\n",
    "Next, SoupX estimates the cell-specific contamination fraction.\n",
    "Lastly, it corrects the expression matrix according to the ambient mRNA expression profile and the estimated contamination.\n",
    "\n",
    "The output of SoupX is a modified counts matrix, which can be used for any downstream analysis tool. \n"
   ]
  },
  {
   "cell_type": "markdown",
   "id": "b1018bed-5698-4477-8ee6-305f92ef1bbe",
   "metadata": {},
   "source": [
    "We now load the required python and R packages needed for running SoupX."
   ]
  },
  {
   "cell_type": "code",
   "execution_count": 12,
   "id": "d7070b30-49ee-434e-ae86-665bc6d65a58",
   "metadata": {
    "tags": []
   },
   "outputs": [],
   "source": [
    "import logging\n",
    "\n",
    "import rpy2.rinterface_lib.callbacks as rcb\n",
    "import rpy2.robjects as ro\n",
    "from rpy2.robjects import pandas2ri\n",
    "\n",
    "rcb.logger.setLevel(logging.ERROR)\n",
    "pandas2ri.activate()\n",
    "\n",
    "%load_ext rpy2.ipython"
   ]
  },
  {
   "cell_type": "code",
   "execution_count": 14,
   "id": "eb431dcd-738c-44f4-ae58-82a52ba18142",
   "metadata": {
    "tags": [
     "hide_output"
    ]
   },
   "outputs": [],
   "source": [
    "%%R\n",
    "library(SoupX)"
   ]
  },
  {
   "cell_type": "markdown",
   "id": "82a84b5c-3c03-4ffc-9f3f-7912fbab02bf",
   "metadata": {},
   "source": [
    "SoupX can be run without clustering information, however as Young and Behjati{cite}`qc:Young2020` note that the results are better if a basic clustering is provided.\n",
    "SoupX can be used with the default clustering produced by Cellranger or by manually defining clusters.\n",
    "We will showcase the latter in this notebook as the results from SoupX are not strongly sensitive to the clustering used. \n",
    "\n",
    "We now create a copy of our AnnData object, normalize it, reduce its dimensionality and compute default Leiden clusters on the processed copy.\n",
    "A subsequent chapter introduces clustering in more detail.\n",
    "For now, we just need to know that Leiden clustering gives us partitions (communities) of cells in our dataset.\n",
    "We save the obtained clusters as `soupx_groups` and delete the copy of the AnnData object to save some memory in our notebook.  \n",
    "\n",
    "Firstly, we generate a copy of our AnnData object, normalize and log1p transform it.\n",
    "We use simply shifted logarithm normalization at this point.\n",
    "More information on different normalization techniques can be found in the [normalization chapter](normalization.ipynb)."
   ]
  },
  {
   "cell_type": "code",
   "execution_count": 15,
   "id": "ddc2ea89-c10c-4eae-9bf3-069e05d79621",
   "metadata": {},
   "outputs": [],
   "source": [
    "adata_pp = adata.copy()\n",
    "sc.pp.normalize_total(adata_pp, target_sum=1e4)\n",
    "sc.pp.log1p(adata_pp)"
   ]
  },
  {
   "cell_type": "markdown",
   "id": "6dce115c-204f-48c5-851b-ca1eefb59566",
   "metadata": {},
   "source": [
    "Next, we compute the principle components of the data to obtain a lower dimensional representation.\n",
    "This representation is then used to generate a neighbourhood graph of the data and run leiden clustering on the KNN-graph.\n",
    "We add the clusters as `soupx_groups` to `.obs` and save them as a vector. "
   ]
  },
  {
   "cell_type": "code",
   "execution_count": 16,
   "id": "ac722343-9c32-47f8-9425-16103f81c653",
   "metadata": {},
   "outputs": [
    {
     "name": "stderr",
     "output_type": "stream",
     "text": [
      "/var/folders/hn/2jsgf5g54l9glw98f7345cb00000gn/T/ipykernel_67126/2614743407.py:3: FutureWarning: In the future, the default backend for leiden will be igraph instead of leidenalg.\n",
      "\n",
      " To achieve the future defaults please pass: flavor=\"igraph\" and n_iterations=2.  directed must also be False to work with igraph's implementation.\n",
      "  sc.tl.leiden(adata_pp, key_added=\"soupx_groups\")\n"
     ]
    }
   ],
   "source": [
    "sc.pp.pca(adata_pp)\n",
    "sc.pp.neighbors(adata_pp)\n",
    "sc.tl.leiden(adata_pp, key_added=\"soupx_groups\")\n",
    "\n",
    "# Preprocess variables for SoupX\n",
    "adata.obs[\"soupx_groups\"] = adata_pp.obs[\"soupx_groups\"]"
   ]
  },
  {
   "cell_type": "markdown",
   "id": "02fb2e03-324c-4a76-9c35-eb3f662613a1",
   "metadata": {},
   "source": [
    "We can now delete the copy of our AnnData object as we generated a vector of clusters which can be used in soupX."
   ]
  },
  {
   "cell_type": "code",
   "execution_count": 17,
   "id": "daf04e3b-f55b-48e9-bda9-070f1b98d86c",
   "metadata": {},
   "outputs": [],
   "source": [
    "del adata_pp"
   ]
  },
  {
   "cell_type": "markdown",
   "id": "4010a845-a52f-4b52-ae02-a5dd5c95401a",
   "metadata": {},
   "source": [
    "Next, we save the cell names, gene names, and the data matrix of the filtered cellranger output.\n",
    "SoupX requires a matrix of shape features x barcodes, so we have to transpose `.X`. "
   ]
  },
  {
   "cell_type": "code",
   "execution_count": 18,
   "id": "5ee0ec98-ebe8-46bc-9853-d52045bea1f2",
   "metadata": {},
   "outputs": [],
   "source": [
    "cells = adata.obs_names\n",
    "genes = adata.var_names\n",
    "data = adata.X.T"
   ]
  },
  {
   "cell_type": "markdown",
   "id": "a45273bb-071f-4389-a514-8fa08c9c44b9",
   "metadata": {},
   "source": [
    "SoupX additionally requires the raw gene by cells matrix which is typically called `raw_feature_bc_matrix.h5` in the cellranger output.\n",
    "We load this similarly as before the `filtered_feature_bc_matrix.h5` with `lamindb` and run `.var_names_make_unique()` on the object and transpose the respective `.X`. "
   ]
  },
  {
   "cell_type": "code",
   "execution_count": 19,
   "id": "b95e3f37-8555-405b-a24c-7dcfe3750b88",
   "metadata": {},
   "outputs": [
    {
     "name": "stderr",
     "output_type": "stream",
     "text": [
      "/Users/seohyon/miniconda3/envs/preprocessing/lib/python3.12/site-packages/anndata/_core/anndata.py:1758: UserWarning: Variable names are not unique. To make them unique, call `.var_names_make_unique`.\n",
      "  utils.warn_names_duplicates(\"var\")\n"
     ]
    }
   ],
   "source": [
    "adata_raw = af.load()\n",
    "adata_raw.var_names_make_unique()\n",
    "\n",
    "genes_raw = adata_raw.var_names\n",
    "cells_raw = adata_raw.obs_names\n",
    "\n",
    "data_tod = adata_raw.X.T"
   ]
  },
  {
   "cell_type": "code",
   "execution_count": 20,
   "id": "d5bf5ed7-aa77-4831-8fd2-c5ecbe817dda",
   "metadata": {},
   "outputs": [],
   "source": [
    "del adata_raw"
   ]
  },
  {
   "cell_type": "markdown",
   "id": "133d6f72-d2b7-45fc-8269-143355c46994",
   "metadata": {},
   "source": [
    "We now need to convert the data into the right structure to be used in R."
   ]
  },
  {
   "cell_type": "code",
   "execution_count": 21,
   "id": "58228a40",
   "metadata": {},
   "outputs": [],
   "source": [
    "data_csc = data.tocsc()\n",
    "data_tod_csc = data_tod.tocsc()\n",
    "\n",
    "# Extract sparse components and cast to correct types\n",
    "x = data_csc.data.astype(np.float64)\n",
    "i = data_csc.indices.astype(np.int32)\n",
    "p = data_csc.indptr.astype(np.int32)\n",
    "dims = np.array(data_csc.shape, dtype=np.int32)\n",
    "\n",
    "x_tod = data_tod_csc.data.astype(np.float64)\n",
    "i_tod = data_tod_csc.indices.astype(np.int32)\n",
    "p_tod = data_tod_csc.indptr.astype(np.int32)\n",
    "dims_tod = np.array(data_tod_csc.shape, dtype=np.int32)\n",
    "\n",
    "with localconverter(ro.default_converter + pandas2ri.converter + numpy2ri.converter):\n",
    "    ro.globalenv[\"x\"] = x\n",
    "    ro.globalenv[\"i\"] = i\n",
    "    ro.globalenv[\"p\"] = p\n",
    "    ro.globalenv[\"dims\"] = dims\n",
    "\n",
    "    ro.globalenv[\"x_tod\"] = x_tod\n",
    "    ro.globalenv[\"i_tod\"] = i_tod\n",
    "    ro.globalenv[\"p_tod\"] = p_tod\n",
    "    ro.globalenv[\"dims_tod\"] = dims_tod\n",
    "\n",
    "    ro.globalenv[\"genes\"] = np.array(genes)\n",
    "    ro.globalenv[\"genes_raw\"] = np.array(genes_raw)\n",
    "    ro.globalenv[\"cells\"] = np.array(cells)"
   ]
  },
  {
   "cell_type": "markdown",
   "id": "9f843e64",
   "metadata": {},
   "source": [
    "We have now everything in place to run SoupX.\n",
    "The inputs are the filtered cellranger matrix of shape barcodes x cells, the raw table of droplets from cellranger of shape `barcodes x droplets`, the gene and cell names and the clusters obtained by simple leiden clustering.\n",
    "The output will be the corrected count matrix. \n",
    "\n",
    "We first construct a so called `SoupChannel` from the table of droplets and the table of cells.\n",
    "Next, we add metadata to the SoupChannel object which can be any metadata in the form of a `data.frame`.\n",
    "We add here "
   ]
  },
  {
   "cell_type": "code",
   "execution_count": 22,
   "id": "01b6f7a1-92c2-4d65-85cc-20f8c7e45679",
   "metadata": {},
   "outputs": [
    {
     "ename": "KeyError",
     "evalue": "\"'out' not found\"",
     "output_type": "error",
     "traceback": [
      "\u001b[31m---------------------------------------------------------------------------\u001b[39m",
      "\u001b[31mKeyError\u001b[39m                                  Traceback (most recent call last)",
      "\u001b[36mCell\u001b[39m\u001b[36m \u001b[39m\u001b[32mIn[22]\u001b[39m\u001b[32m, line 1\u001b[39m\n\u001b[32m----> \u001b[39m\u001b[32m1\u001b[39m \u001b[43mget_ipython\u001b[49m\u001b[43m(\u001b[49m\u001b[43m)\u001b[49m\u001b[43m.\u001b[49m\u001b[43mrun_cell_magic\u001b[49m\u001b[43m(\u001b[49m\u001b[33;43m'\u001b[39;49m\u001b[33;43mR\u001b[39;49m\u001b[33;43m'\u001b[39;49m\u001b[43m,\u001b[49m\u001b[43m \u001b[49m\u001b[33;43m'\u001b[39;49m\u001b[33;43m-o out\u001b[39;49m\u001b[33;43m'\u001b[39;49m\u001b[43m,\u001b[49m\u001b[43m \u001b[49m\u001b[33;43m'\u001b[39;49m\u001b[38;5;130;43;01m\\n\u001b[39;49;00m\u001b[33;43mlibrary(Matrix)\u001b[39;49m\u001b[38;5;130;43;01m\\n\u001b[39;49;00m\u001b[38;5;130;43;01m\\n\u001b[39;49;00m\u001b[33;43m# Manually coerce types to avoid \u001b[39;49m\u001b[33;43m\"\u001b[39;49m\u001b[33;43marray\u001b[39;49m\u001b[33;43m\"\u001b[39;49m\u001b[33;43m class errors\u001b[39;49m\u001b[38;5;130;43;01m\\n\u001b[39;49;00m\u001b[33;43mx <- as.numeric(x)\u001b[39;49m\u001b[38;5;130;43;01m\\n\u001b[39;49;00m\u001b[33;43mi <- as.integer(i)\u001b[39;49m\u001b[38;5;130;43;01m\\n\u001b[39;49;00m\u001b[33;43mp <- as.integer(p)\u001b[39;49m\u001b[38;5;130;43;01m\\n\u001b[39;49;00m\u001b[33;43mdims <- as.integer(dims)\u001b[39;49m\u001b[38;5;130;43;01m\\n\u001b[39;49;00m\u001b[38;5;130;43;01m\\n\u001b[39;49;00m\u001b[33;43mx_tod <- as.numeric(x_tod)\u001b[39;49m\u001b[38;5;130;43;01m\\n\u001b[39;49;00m\u001b[33;43mi_tod <- as.integer(i_tod)\u001b[39;49m\u001b[38;5;130;43;01m\\n\u001b[39;49;00m\u001b[33;43mp_tod <- as.integer(p_tod)\u001b[39;49m\u001b[38;5;130;43;01m\\n\u001b[39;49;00m\u001b[33;43mdims_tod <- as.integer(dims_tod)\u001b[39;49m\u001b[38;5;130;43;01m\\n\u001b[39;49;00m\u001b[38;5;130;43;01m\\n\u001b[39;49;00m\u001b[33;43m# Reconstruct sparse matrices\u001b[39;49m\u001b[38;5;130;43;01m\\n\u001b[39;49;00m\u001b[33;43mdata <- new(\u001b[39;49m\u001b[33;43m\"\u001b[39;49m\u001b[33;43mdgCMatrix\u001b[39;49m\u001b[33;43m\"\u001b[39;49m\u001b[33;43m,\u001b[39;49m\u001b[38;5;130;43;01m\\n\u001b[39;49;00m\u001b[33;43m            Dim = dims,\u001b[39;49m\u001b[38;5;130;43;01m\\n\u001b[39;49;00m\u001b[33;43m            x = x,\u001b[39;49m\u001b[38;5;130;43;01m\\n\u001b[39;49;00m\u001b[33;43m            i = i,\u001b[39;49m\u001b[38;5;130;43;01m\\n\u001b[39;49;00m\u001b[33;43m            p = p)\u001b[39;49m\u001b[38;5;130;43;01m\\n\u001b[39;49;00m\u001b[38;5;130;43;01m\\n\u001b[39;49;00m\u001b[33;43mdata_tod <- new(\u001b[39;49m\u001b[33;43m\"\u001b[39;49m\u001b[33;43mdgCMatrix\u001b[39;49m\u001b[33;43m\"\u001b[39;49m\u001b[33;43m,\u001b[39;49m\u001b[38;5;130;43;01m\\n\u001b[39;49;00m\u001b[33;43m                Dim = dims_tod,\u001b[39;49m\u001b[38;5;130;43;01m\\n\u001b[39;49;00m\u001b[33;43m                x = x_tod,\u001b[39;49m\u001b[38;5;130;43;01m\\n\u001b[39;49;00m\u001b[33;43m                i = i_tod,\u001b[39;49m\u001b[38;5;130;43;01m\\n\u001b[39;49;00m\u001b[33;43m                p = p_tod)\u001b[39;49m\u001b[38;5;130;43;01m\\n\u001b[39;49;00m\u001b[33;43m'\u001b[39;49m\u001b[43m)\u001b[49m\n",
      "\u001b[36mFile \u001b[39m\u001b[32m~/miniconda3/envs/preprocessing/lib/python3.12/site-packages/IPython/core/interactiveshell.py:2547\u001b[39m, in \u001b[36mInteractiveShell.run_cell_magic\u001b[39m\u001b[34m(self, magic_name, line, cell)\u001b[39m\n\u001b[32m   2545\u001b[39m \u001b[38;5;28;01mwith\u001b[39;00m \u001b[38;5;28mself\u001b[39m.builtin_trap:\n\u001b[32m   2546\u001b[39m     args = (magic_arg_s, cell)\n\u001b[32m-> \u001b[39m\u001b[32m2547\u001b[39m     result = \u001b[43mfn\u001b[49m\u001b[43m(\u001b[49m\u001b[43m*\u001b[49m\u001b[43margs\u001b[49m\u001b[43m,\u001b[49m\u001b[43m \u001b[49m\u001b[43m*\u001b[49m\u001b[43m*\u001b[49m\u001b[43mkwargs\u001b[49m\u001b[43m)\u001b[49m\n\u001b[32m   2549\u001b[39m \u001b[38;5;66;03m# The code below prevents the output from being displayed\u001b[39;00m\n\u001b[32m   2550\u001b[39m \u001b[38;5;66;03m# when using magics with decorator @output_can_be_silenced\u001b[39;00m\n\u001b[32m   2551\u001b[39m \u001b[38;5;66;03m# when the last Python token in the expression is a ';'.\u001b[39;00m\n\u001b[32m   2552\u001b[39m \u001b[38;5;28;01mif\u001b[39;00m \u001b[38;5;28mgetattr\u001b[39m(fn, magic.MAGIC_OUTPUT_CAN_BE_SILENCED, \u001b[38;5;28;01mFalse\u001b[39;00m):\n",
      "\u001b[36mFile \u001b[39m\u001b[32m~/miniconda3/envs/preprocessing/lib/python3.12/site-packages/rpy2/ipython/rmagic.py:970\u001b[39m, in \u001b[36mRMagics.R\u001b[39m\u001b[34m(self, line, cell, local_ns)\u001b[39m\n\u001b[32m    968\u001b[39m     \u001b[38;5;28;01mwith\u001b[39;00m localconverter(converter) \u001b[38;5;28;01mas\u001b[39;00m cv:\n\u001b[32m    969\u001b[39m         \u001b[38;5;28;01mfor\u001b[39;00m output \u001b[38;5;129;01min\u001b[39;00m \u001b[33m'\u001b[39m\u001b[33m,\u001b[39m\u001b[33m'\u001b[39m.join(args.output).split(\u001b[33m'\u001b[39m\u001b[33m,\u001b[39m\u001b[33m'\u001b[39m):\n\u001b[32m--> \u001b[39m\u001b[32m970\u001b[39m             output_ipy = \u001b[43mro\u001b[49m\u001b[43m.\u001b[49m\u001b[43mglobalenv\u001b[49m\u001b[43m.\u001b[49m\u001b[43mfind\u001b[49m\u001b[43m(\u001b[49m\u001b[43moutput\u001b[49m\u001b[43m)\u001b[49m\n\u001b[32m    971\u001b[39m             \u001b[38;5;28mself\u001b[39m.shell.push({output: output_ipy})\n\u001b[32m    973\u001b[39m \u001b[38;5;66;03m# this will keep a reference to the display_data\u001b[39;00m\n\u001b[32m    974\u001b[39m \u001b[38;5;66;03m# which might be useful to other objects who happen to use\u001b[39;00m\n\u001b[32m    975\u001b[39m \u001b[38;5;66;03m# this method\u001b[39;00m\n",
      "\u001b[36mFile \u001b[39m\u001b[32m~/miniconda3/envs/preprocessing/lib/python3.12/site-packages/rpy2/robjects/environments.py:67\u001b[39m, in \u001b[36mEnvironment.find\u001b[39m\u001b[34m(self, item, wantfun)\u001b[39m\n\u001b[32m     54\u001b[39m \u001b[38;5;28;01mdef\u001b[39;00m\u001b[38;5;250m \u001b[39m\u001b[34mfind\u001b[39m(\u001b[38;5;28mself\u001b[39m, item: \u001b[38;5;28mstr\u001b[39m, wantfun: \u001b[38;5;28mbool\u001b[39m = \u001b[38;5;28;01mFalse\u001b[39;00m):\n\u001b[32m     55\u001b[39m \u001b[38;5;250m    \u001b[39m\u001b[33;03m\"\"\"Find an item, starting with this R environment.\u001b[39;00m\n\u001b[32m     56\u001b[39m \n\u001b[32m     57\u001b[39m \u001b[33;03m    Raises a `KeyError` if the key cannot be found.\u001b[39;00m\n\u001b[32m   (...)\u001b[39m\u001b[32m     65\u001b[39m \u001b[33;03m    :rtype: object (as returned by :func:`conversion.converter.rpy2py`)\u001b[39;00m\n\u001b[32m     66\u001b[39m \u001b[33;03m    \"\"\"\u001b[39;00m\n\u001b[32m---> \u001b[39m\u001b[32m67\u001b[39m     res = \u001b[38;5;28;43msuper\u001b[39;49m\u001b[43m(\u001b[49m\u001b[43mEnvironment\u001b[49m\u001b[43m,\u001b[49m\u001b[43m \u001b[49m\u001b[38;5;28;43mself\u001b[39;49m\u001b[43m)\u001b[49m\u001b[43m.\u001b[49m\u001b[43mfind\u001b[49m\u001b[43m(\u001b[49m\u001b[43mitem\u001b[49m\u001b[43m,\u001b[49m\u001b[43m \u001b[49m\u001b[43mwantfun\u001b[49m\u001b[43m=\u001b[49m\u001b[43mwantfun\u001b[49m\u001b[43m)\u001b[49m\n\u001b[32m     68\u001b[39m     res = conversion.get_conversion().rpy2py(res)\n\u001b[32m     69\u001b[39m     \u001b[38;5;66;03m# TODO: There is a design issue here. The attribute __rname__ is\u001b[39;00m\n\u001b[32m     70\u001b[39m     \u001b[38;5;66;03m# intended to store the symbol name of the R object but this is\u001b[39;00m\n\u001b[32m     71\u001b[39m     \u001b[38;5;66;03m# meaningless for non-rpy2 objects.\u001b[39;00m\n",
      "\u001b[36mFile \u001b[39m\u001b[32m~/miniconda3/envs/preprocessing/lib/python3.12/site-packages/rpy2/rinterface_lib/conversion.py:45\u001b[39m, in \u001b[36m_cdata_res_to_rinterface.<locals>._\u001b[39m\u001b[34m(*args, **kwargs)\u001b[39m\n\u001b[32m     44\u001b[39m \u001b[38;5;28;01mdef\u001b[39;00m\u001b[38;5;250m \u001b[39m\u001b[34m_\u001b[39m(*args, **kwargs):\n\u001b[32m---> \u001b[39m\u001b[32m45\u001b[39m     cdata = \u001b[43mfunction\u001b[49m\u001b[43m(\u001b[49m\u001b[43m*\u001b[49m\u001b[43margs\u001b[49m\u001b[43m,\u001b[49m\u001b[43m \u001b[49m\u001b[43m*\u001b[49m\u001b[43m*\u001b[49m\u001b[43mkwargs\u001b[49m\u001b[43m)\u001b[49m\n\u001b[32m     46\u001b[39m     \u001b[38;5;66;03m# TODO: test cdata is of the expected CType\u001b[39;00m\n\u001b[32m     47\u001b[39m     \u001b[38;5;28;01mreturn\u001b[39;00m _cdata_to_rinterface(cdata)\n",
      "\u001b[36mFile \u001b[39m\u001b[32m~/miniconda3/envs/preprocessing/lib/python3.12/site-packages/rpy2/rinterface_lib/_rinterface_capi.py:334\u001b[39m, in \u001b[36m_evaluated_promise.<locals>._\u001b[39m\u001b[34m(*args, **kwargs)\u001b[39m\n\u001b[32m    333\u001b[39m \u001b[38;5;28;01mdef\u001b[39;00m\u001b[38;5;250m \u001b[39m\u001b[34m_\u001b[39m(*args, **kwargs):\n\u001b[32m--> \u001b[39m\u001b[32m334\u001b[39m     robj = \u001b[43mfunction\u001b[49m\u001b[43m(\u001b[49m\u001b[43m*\u001b[49m\u001b[43margs\u001b[49m\u001b[43m,\u001b[49m\u001b[43m \u001b[49m\u001b[43m*\u001b[49m\u001b[43m*\u001b[49m\u001b[43mkwargs\u001b[49m\u001b[43m)\u001b[49m\n\u001b[32m    335\u001b[39m     \u001b[38;5;28;01mif\u001b[39;00m _TYPEOF(robj) == openrlib.rlib.PROMSXP:\n\u001b[32m    336\u001b[39m         robj = openrlib.rlib.Rf_eval(\n\u001b[32m    337\u001b[39m             robj,\n\u001b[32m    338\u001b[39m             openrlib.rlib.R_GlobalEnv)\n",
      "\u001b[36mFile \u001b[39m\u001b[32m~/miniconda3/envs/preprocessing/lib/python3.12/site-packages/rpy2/rinterface_lib/sexp.py:361\u001b[39m, in \u001b[36mSexpEnvironment.find\u001b[39m\u001b[34m(self, key, wantfun)\u001b[39m\n\u001b[32m    359\u001b[39m \u001b[38;5;66;03m# TODO: move check of R_UnboundValue to _rinterface ?\u001b[39;00m\n\u001b[32m    360\u001b[39m \u001b[38;5;28;01mif\u001b[39;00m res == openrlib.rlib.R_UnboundValue:\n\u001b[32m--> \u001b[39m\u001b[32m361\u001b[39m     \u001b[38;5;28;01mraise\u001b[39;00m \u001b[38;5;167;01mKeyError\u001b[39;00m(\u001b[33m\"\u001b[39m\u001b[33m'\u001b[39m\u001b[38;5;132;01m%s\u001b[39;00m\u001b[33m'\u001b[39m\u001b[33m not found\u001b[39m\u001b[33m\"\u001b[39m % key)\n\u001b[32m    362\u001b[39m \u001b[38;5;28;01mreturn\u001b[39;00m res\n",
      "\u001b[31mKeyError\u001b[39m: \"'out' not found\""
     ]
    }
   ],
   "source": [
    "%%R -o out \n",
    "\n",
    "library(Matrix)\n",
    "\n",
    "# Manually coerce types to avoid \"array\" class errors\n",
    "x <- as.numeric(x)\n",
    "i <- as.integer(i)\n",
    "p <- as.integer(p)\n",
    "dims <- as.integer(dims)\n",
    "\n",
    "x_tod <- as.numeric(x_tod)\n",
    "i_tod <- as.integer(i_tod)\n",
    "p_tod <- as.integer(p_tod)\n",
    "dims_tod <- as.integer(dims_tod)\n",
    "\n",
    "# Reconstruct sparse matrices\n",
    "data <- new(\"dgCMatrix\",\n",
    "            Dim = dims,\n",
    "            x = x,\n",
    "            i = i,\n",
    "            p = p)\n",
    "\n",
    "data_tod <- new(\"dgCMatrix\",\n",
    "                Dim = dims_tod,\n",
    "                x = x_tod,\n",
    "                i = i_tod,\n",
    "                p = p_tod)\n"
   ]
  },
  {
   "cell_type": "markdown",
   "id": "77fe8758-d33f-490d-8c02-2913a2f08bc3",
   "metadata": {},
   "source": [
    "SoupX successfully inferred corrected counts, which we can now store as an additional layer.\n",
    "In all following analysis steps, we would like to use the SoupX corrected count matrix, so we overwrite `.X` with the soupX corrected matrix.\n",
    "First, as we did before from python to R, we convert the matrix from R to python."
   ]
  },
  {
   "cell_type": "code",
   "execution_count": null,
   "id": "337498fd",
   "metadata": {},
   "outputs": [],
   "source": [
    "with localconverter(ro.default_converter + pandas2ri.converter + numpy2ri.converter):\n",
    "    out_py = ro.conversion.rpy2py(ro.globalenv[\"out\"])\n",
    "\n",
    "x = np.array(out_py.slots[\"x\"])\n",
    "i = np.array(out_py.slots[\"i\"])\n",
    "p = np.array(out_py.slots[\"p\"])\n",
    "shape = tuple(out_py.slots[\"Dim\"])\n",
    "\n",
    "out_matrix = csc_matrix((x, i, p), shape=shape)"
   ]
  },
  {
   "cell_type": "code",
   "execution_count": null,
   "id": "d7878d24-0765-467a-a133-e2f60a5d9ffe",
   "metadata": {},
   "outputs": [],
   "source": [
    "adata.layers[\"counts\"] = adata.X.copy()\n",
    "adata.layers[\"soupX_counts\"] = out_matrix.T\n",
    "adata.X = adata.layers[\"soupX_counts\"]"
   ]
  },
  {
   "cell_type": "markdown",
   "id": "2a2dd00a-63d6-45ac-9edc-fbb44c2da26e",
   "metadata": {},
   "source": [
    "Next, we additionally filter out genes that are not detected in at least 20 cells as these are not informative."
   ]
  },
  {
   "cell_type": "code",
   "execution_count": null,
   "id": "36e73f6a-97b9-4d21-bc5c-33276d2e5af8",
   "metadata": {},
   "outputs": [
    {
     "name": "stdout",
     "output_type": "stream",
     "text": [
      "Total number of genes: 36601\n",
      "Number of genes after cell filter: 20171\n"
     ]
    }
   ],
   "source": [
    "print(f\"Total number of genes: {adata.n_vars}\")\n",
    "\n",
    "# Min 20 cells - filters out 0 count genes\n",
    "sc.pp.filter_genes(adata, min_cells=20)\n",
    "print(f\"Number of genes after cell filter: {adata.n_vars}\")"
   ]
  },
  {
   "attachments": {},
   "cell_type": "markdown",
   "id": "5af0b0e0-233f-44b4-abd5-137e00053e89",
   "metadata": {},
   "source": [
    "(preprocessing-visualization-quality-control-key-takeaway-3)=\n",
    "(preprocessing-visualization-quality-control-key-takeaway-4)=\n",
    "(rna:doublet-detection)=\n",
    "## Doublet Detection\n",
    "\n",
    "Doublets are defined as two cells that are sequenced under the same cellular barcode, for example, if they were captured in the same droplet.\n",
    "That's why we used the term \"barcode\" instead of \"cell\" until now.\n",
    "A doublet is called homotypic if it is formed by the same cell type (but from different individuals) and heterotypic otherwise.\n",
    "Homotypic doublets are not necessarily identifiable from count matrices and are often considered innocuous as they can be identified with cell hashing or SNPs.\n",
    "Hence, their identification is not the main goal of the doublet detection methods. \n",
    "\n",
    "Doublets formed from different cell types or states are called heterotypic.\n",
    "Their identification is crucial as they are most likely misclassified and can lead to distorted downstream analysis steps.\n",
    "Hence, doublet detection and removal are typically initial preprocessing steps.\n",
    "Doublets can be either identified through their high number of reads and detected features, or with methods that create artificial doublets and compare these with the cells present in the dataset.\n",
    "Doublet detection methods are computationally efficient and there exist several software packages for this task. \n",
    "\n",
    "{cite}`xi_benchmarking_2021` benchmarked nine different doublet detection methods and assessed their performance with respect to computational efficiency and doublet detection accuracy.\n",
    "They additionally assessed scDblFinder in an addendum to their benchmark which achieved the highest doublet detection accuracy and a good computational efficiency and stability {cite}`Xi_2021_addendum`.\n",
    "\n",
    "In this tutorial, we will showcase the scDblFinder R package.\n",
    "scDblFinder randomly selects two droplets and creates artificial doublets from those by averaging their gene expression profiles.\n",
    "The doublet score is then defined as the fraction of artificial doublets in the k-nearest neighbor graph of each droplet in the principal component space.\n",
    "\n",
    ":::{figure-md} Doublet detection\n",
    "\n",
    "<img src=\"../_static/images/preprocessing_visualization/doublet_detection.jpeg\" alt=\"Doublet detection overview\" class=\"bg-primary mb-1\" width=\"800px\">\n",
    "\n",
    "Doublets are droplets that contain more than one cell.\n",
    "Common doublet detection methods generate artificial doublets by randomly subsampling pairs of cells and averaging their gene expression profile to obtain doublet counts.\n",
    "These artificial doublets are projected together with the remaining calls into a lower dimensional principal component space.\n",
    "The doublet detection method computes a doublet score based on the number of artificial doublet neighbors in the k nearest neighbor graph.\n",
    "\n",
    ":::\n",
    "\n",
    "We first load some additional python and R packages."
   ]
  },
  {
   "cell_type": "code",
   "execution_count": null,
   "id": "5e622d0e-83b2-4b3a-b0fa-cd93166af606",
   "metadata": {},
   "outputs": [],
   "source": [
    "%%R\n",
    "library(Seurat)\n",
    "library(scater)\n",
    "library(scDblFinder)\n",
    "library(SingleCellExperiment)\n",
    "library(BiocParallel)"
   ]
  },
  {
   "cell_type": "code",
   "execution_count": null,
   "id": "0bf1455c-7add-4bc3-8503-6fb26a2aa29f",
   "metadata": {},
   "outputs": [],
   "source": [
    "data_mat = adata.X.T"
   ]
  },
  {
   "cell_type": "markdown",
   "id": "16ed4680-e019-400d-8c39-7e8fc7937f31",
   "metadata": {},
   "source": [
    "We can now launch the doublet detection by using data_mat as input to scDblFinder within a SingleCellExperiment.\n",
    "`scDblFinder` adds several columns to the colData of sce.\n",
    "Three of them might be interesting for the analysis:\n",
    "\n",
    "* `sce$scDblFinder.score`: the final doublet score (the higher the more likely that the cell is a doublet)\n",
    "\n",
    "* `sce$scDblFinder.ratio` : the ratio of artificial doublets in the cell's neighborhood\n",
    "\n",
    "* `sce$scDblFinder.class` : the classification (doublet or singlet)\n",
    "\n",
    "We will only output the class argument and store it in the AnnData object in `.obs` .\n",
    "The other arguments can be added to the AnnData object similarly."
   ]
  },
  {
   "cell_type": "markdown",
   "id": "1a2a4d5b",
   "metadata": {},
   "source": [
    "Again, we first have to convert the matrix from python to R."
   ]
  },
  {
   "cell_type": "code",
   "execution_count": null,
   "id": "3dcb3a18",
   "metadata": {},
   "outputs": [],
   "source": [
    "data_mat = adata.X.T.tocsc()\n",
    "\n",
    "x = data_mat.data.astype(np.float64)\n",
    "i = data_mat.indices.astype(np.int32)\n",
    "p = data_mat.indptr.astype(np.int32)\n",
    "dims = np.array(data_mat.shape, dtype=np.int32)\n",
    "\n",
    "with localconverter(ro.default_converter + numpy2ri.converter):\n",
    "    ro.globalenv[\"x\"] = x\n",
    "    ro.globalenv[\"i\"] = i\n",
    "    ro.globalenv[\"p\"] = p\n",
    "    ro.globalenv[\"dims\"] = dims"
   ]
  },
  {
   "cell_type": "markdown",
   "id": "1fa42234",
   "metadata": {},
   "source": [
    "Now:"
   ]
  },
  {
   "cell_type": "code",
   "execution_count": null,
   "id": "2f70728c-c43e-4b12-b6d5-b8bd441c5c64",
   "metadata": {},
   "outputs": [],
   "source": [
    "%%R -o doublet_score -o doublet_class\n",
    "\n",
    "x <- as.numeric(x)\n",
    "i <- as.integer(i)\n",
    "p <- as.integer(p)\n",
    "dims <- as.integer(dims)\n",
    "\n",
    "data_mat <- new(\"dgCMatrix\", Dim = dims, x = x, i = i, p = p)\n",
    "\n",
    "set.seed(123)\n",
    "sce <- scDblFinder(SingleCellExperiment(list(counts = data_mat)))\n",
    "\n",
    "doublet_score <- sce$scDblFinder.score\n",
    "doublet_class <- sce$scDblFinder.class"
   ]
  },
  {
   "cell_type": "markdown",
   "id": "cd316cac-2bcc-4102-9382-6b2c149c8559",
   "metadata": {},
   "source": [
    "scDblFinder outputs a class with the classification `Singlet` (1) and `Doublet` (2).\n",
    "We add this to our AnnData object in `.obs`."
   ]
  },
  {
   "cell_type": "code",
   "execution_count": null,
   "id": "37f8da8c-9a00-4c0b-9b82-42a3578ca96d",
   "metadata": {},
   "outputs": [
    {
     "data": {
      "text/plain": [
       "singlet    11956\n",
       "doublet     2858\n",
       "Name: scDblFinder_class, dtype: int64"
      ]
     },
     "execution_count": 27,
     "metadata": {},
     "output_type": "execute_result"
    }
   ],
   "source": [
    "adata.obs[\"scDblFinder_score\"] = doublet_score\n",
    "adata.obs[\"scDblFinder_class\"] = doublet_class\n",
    "adata.obs.scDblFinder_class.value_counts()"
   ]
  },
  {
   "cell_type": "markdown",
   "id": "448e1188-12e3-4870-a4c2-5c3e8eb618b2",
   "metadata": {},
   "source": [
    "We advise to leave identified doublets in the dataset for now and inspect doublets during visualization.\n",
    "\n",
    "During downstream clustering it might be useful to reassess quality control and the chosen parameters to potentially filter out more or less cells.\n",
    "We will now save the dataset into `lamindb`, so that we can continue with the [normalization chapter](normalization.ipynb).\n",
    "You don't have to run the code below."
   ]
  },
  {
   "cell_type": "code",
   "execution_count": null,
   "id": "d531bb6c-d27a-4df0-b583-3ee9bb3020b6",
   "metadata": {},
   "outputs": [],
   "source": [
    "adata.write(\"s4d8_quality_control.h5ad\")\n",
    "af = ln.Artifact(\n",
    "    \"s4d8_quality_control.h5ad\",\n",
    "    key=\"preprocessing_visualization/s4d8_quality_control.h5ad\",\n",
    "    description=\"anndata after quality control\",\n",
    ").save()\n",
    "af"
   ]
  },
  {
   "cell_type": "markdown",
   "id": "8a5cf014",
   "metadata": {},
   "source": [
    "## References"
   ]
  },
  {
   "cell_type": "markdown",
   "id": "28855f58-cda0-4280-b8e9-23bfbfe4be72",
   "metadata": {},
   "source": [
    "```{bibliography}\n",
    ":filter: docname in docnames\n",
    ":labelprefix: qc\n",
    "```"
   ]
  },
  {
   "cell_type": "markdown",
   "id": "e5e24047",
   "metadata": {},
   "source": [
    "## Contributors\n",
    "\n",
    "We gratefully acknowledge the contributions of:\n",
    "\n",
    "### Authors\n",
    "\n",
    "* Anna Schaar\n",
    "* Seo H. Kim\n",
    "\n",
    "### Reviewers\n",
    "\n",
    "* Lukas Heumos\n",
    "* Lukas Zappia\n"
   ]
  }
 ],
 "metadata": {
  "kernelspec": {
   "display_name": "preprocessing",
   "language": "python",
   "name": "python3"
  },
  "language_info": {
   "codemirror_mode": {
    "name": "ipython",
    "version": 3
   },
   "file_extension": ".py",
   "mimetype": "text/x-python",
   "name": "python",
   "nbconvert_exporter": "python",
   "pygments_lexer": "ipython3",
   "version": "3.12.9"
  }
 },
 "nbformat": 4,
 "nbformat_minor": 5
}

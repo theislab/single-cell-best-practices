{
 "cells": [
  {
   "cell_type": "markdown",
   "id": "26fe08ad",
   "metadata": {},
   "source": [
    "# Template Guide\n",
    "Welcome to the single cell best practices template! \n",
    "This template is designed to help you quickly and effectively create a chapter for our book.\n",
    "But first, take a look at our `CONTRIBUTING.md`!\n",
    "After that you can copy this template and use the ready-to-use markdown and code snippets.\n",
    "Just always replace the name `template` with the name of your chapter.\n",
    "We have only included the most important features of JupyterBook and referred to the external documentation for detailed information.\n",
    "\n",
    "Helpful links (descending order of importance):\n",
    "- https://jupyterbook.org/en/stable/intro.html\n",
    "- https://mystmd.org\n",
    "- https://www.sphinx-doc.org/en/master/"
   ]
  },
  {
   "cell_type": "markdown",
   "id": "2da33856",
   "metadata": {},
   "source": [
    "(template-template-key-takeaway-1)=\n",
    "## Keytakeaways\n",
    "Add your key takeaway to `template_keytakeaways.txt` in the format described in the `CONTRIBUTING.md`.\n",
    "Insert a label before the heading of the paragraph that corresponds to the key takeaway, e.g. `(template-template-key-takeaway-1)=`.\n",
    "This will refer to the text when you click on it in html."
   ]
  },
  {
   "cell_type": "markdown",
   "id": "661697ee",
   "metadata": {},
   "source": [
    "## Environment setup \n",
    "Adding `template.yml` to the directory of `template.ipynb` will add a dropdown in html of how the reader can use this `.yml`."
   ]
  },
  {
   "cell_type": "markdown",
   "id": "08b64ef1",
   "metadata": {},
   "source": [
    "## Lamin setup \n",
    "..."
   ]
  },
  {
   "cell_type": "markdown",
   "id": "4d122b39",
   "metadata": {},
   "source": [
    "## Terms\n",
    "We explain common used term of the book in the glossary.\n",
    "In your chapter, link the first occurrence of a term with {term}`GLOSSARY TERM`, or with {term}`YOUR TERM <GLOSSARY TERM>` if the spelling differs from that of the glossary.\n",
    "For example: \n",
    "{term}`DNA` stores genetic information, while various {term}`RNAs <RNA>` play key roles in translating DNA into functional proteins.\n",
    "\n",
    "Helpful Links: \n",
    "- https://jupyterbook.org/en/stable/content/content-blocks.html#glossaries"
   ]
  },
  {
   "cell_type": "markdown",
   "id": "5db14c10",
   "metadata": {},
   "source": [
    "## Admonitions\n",
    "Use dropdowns whenever possible so that the reader is not overwhelmed by the content.\n",
    "For example:\n",
    "\n",
    "`````{admonition} This admonition was styled...\n",
    ":class: tip, dropdown\n",
    "With a tip class!\n",
    "`````\n",
    "\n",
    "Helpful links:\n",
    "- https://jupyterbook.org/en/stable/content/content-blocks.html#notes-warnings-and-other-admonitions\n",
    "- https://mystmd.org/guide/admonitions"
   ]
  },
  {
   "cell_type": "markdown",
   "id": "e5a3ec95",
   "metadata": {},
   "source": [
    "(template-template-key-takeaway-2)=\n",
    "## Figures\n",
    "Save your figure in a corresponding folder of `jupyter-book/_static/images/`, cite {numref}`example-fig` in the text and use the following syntax:\n",
    "\n",
    "```{figure} ../_static/images/raw_data_processing/UMI.png\n",
    ":name: example-fig\n",
    ":alt: A exemplary figure\n",
    ":with: 100%\n",
    "Figure Caption.\n",
    "```\n",
    "\n",
    "Helpful Links: \n",
    "- https://jupyterbook.org/en/stable/content/figures.html\n",
    "- https://mystmd.org/guide/figures"
   ]
  },
  {
   "cell_type": "markdown",
   "id": "9daa4aa7",
   "metadata": {},
   "source": [
    "## Code\n",
    "Hide long, cluttered sections of code or console output with cell tag label like `hide-input` or `hide-output`."
   ]
  },
  {
   "cell_type": "code",
   "execution_count": 5,
   "id": "e7c6364f",
   "metadata": {
    "tags": [
     "hide-output"
    ]
   },
   "outputs": [
    {
     "name": "stdout",
     "output_type": "stream",
     "text": [
      "This console output is hidden in a drop-down window.\n"
     ]
    }
   ],
   "source": [
    "print(\"This console output is hidden in a drop-down window.\")"
   ]
  },
  {
   "cell_type": "code",
   "execution_count": 4,
   "id": "dc061509",
   "metadata": {
    "tags": [
     "hide-input"
    ]
   },
   "outputs": [
    {
     "name": "stdout",
     "output_type": "stream",
     "text": [
      "This code block is hidden in a drop-down window.\n"
     ]
    }
   ],
   "source": [
    "print(\"This code block is hidden in a drop-down window.\")"
   ]
  },
  {
   "cell_type": "markdown",
   "id": "e160664b",
   "metadata": {},
   "source": [
    "Helpful Links: \n",
    "- https://jupyterbook.org/en/stable/interactive/hiding.html#hide-code-cell-content\n",
    "- https://mystmd.org/guide/notebook-configuration#notebook-cell-tags"
   ]
  },
  {
   "cell_type": "markdown",
   "id": "b00613ad",
   "metadata": {},
   "source": [
    "Add a `seealso` dropdown after the last paragraph and before the quiz title to provide further reading and other links.\n",
    "\n",
    "```{seealso}\n",
    ":class: dropdown\n",
    "Add further reading and other links here!\n",
    "```"
   ]
  },
  {
   "cell_type": "markdown",
   "id": "41d7e2eb",
   "metadata": {},
   "source": [
    "## Quiz\n",
    "Use `jupyter-book/src/lib.py`to create self-assessment questions."
   ]
  },
  {
   "cell_type": "code",
   "execution_count": 6,
   "id": "8b4cc05f",
   "metadata": {
    "tags": [
     "remove-input"
    ]
   },
   "outputs": [
    {
     "data": {
      "text/html": [
       "\n",
       "    <style>\n",
       "        .output.text_html {\n",
       "            --pst-color-text-base: transparent !important;\n",
       "        }\n",
       "        .flip-card-q1 {\n",
       "            background-color: transparent;\n",
       "            width: 350px;\n",
       "            height: 200px;\n",
       "            perspective: 1000px;\n",
       "            display: inline-block;\n",
       "            margin: 10px;\n",
       "            text-align: center;\n",
       "            padding: 10px;\n",
       "        }\n",
       "        .flip-card-inner-q1 {\n",
       "            position: relative;\n",
       "            width: 100%;\n",
       "            height: 100%;\n",
       "            text-align: center;\n",
       "            transition: transform 0.6s;\n",
       "            transform-style: preserve-3d;\n",
       "            transform-origin: center;\n",
       "        }\n",
       "        .flip-card-q1:hover .flip-card-inner-q1 {\n",
       "            transform: rotateY(180deg);\n",
       "        }\n",
       "        .flip-card-front-q1, .flip-card-back-q1 {\n",
       "            position: absolute;\n",
       "            width: 100%;\n",
       "            height: 100%;\n",
       "            min-height: 200px;\n",
       "            backface-visibility: hidden;\n",
       "            display: flex;\n",
       "            align-items: center;\n",
       "            justify-content: center;\n",
       "            font-weight: bold;\n",
       "            color: white;\n",
       "            padding: 20px;\n",
       "            border-radius: 15px;\n",
       "            box-sizing: border-box;\n",
       "            overflow: hidden;\n",
       "            text-align: center;\n",
       "        }\n",
       "        .flip-card-front-q1 {\n",
       "            background-color: #3965a3;\n",
       "            font-size: 20px;\n",
       "        }\n",
       "        .flip-card-back-q1 {\n",
       "            background-color: #a8d480;\n",
       "            transform: rotateY(180deg);\n",
       "            font-size: 20px;\n",
       "        }_b\n",
       "    </style>\n",
       "\n",
       "    <div class=\"flip-card-q1\">\n",
       "        <div class=\"flip-card-inner-q1\">\n",
       "            <div class=\"flip-card-front-q1\">\n",
       "                What is 2 + 2?\n",
       "            </div>\n",
       "            <div class=\"flip-card-back-q1\">\n",
       "                4\n",
       "            </div>\n",
       "        </div>\n",
       "    </div>\n",
       "    <noscript>\n",
       "        <p><strong>Q:</strong> What is 2 + 2?</p>\n",
       "        <p><strong>Answer:</strong> 4</p>\n",
       "    </noscript>\n",
       "    "
      ],
      "text/plain": [
       "<IPython.core.display.HTML object>"
      ]
     },
     "metadata": {},
     "output_type": "display_data"
    },
    {
     "data": {
      "text/html": [
       "\n",
       "    <style>\n",
       "        .output.text_html {\n",
       "            --pst-color-text-base: transparent !important;\n",
       "        }\n",
       "        .mcq-box {\n",
       "            border: none !important;\n",
       "            box-shadow: none !important;\n",
       "            outline: none !important;\n",
       "            padding: 15px;\n",
       "            width: 400px;\n",
       "            text-align: left;\n",
       "            font-size: 18px;\n",
       "            margin-bottom: 10px;\n",
       "            background-color: #3965a3;\n",
       "            border-radius: 10px;\n",
       "            color: white;\n",
       "        }\n",
       "    </style>\n",
       "\n",
       "    <div class=\"mcq-box\">\n",
       "        <p><strong>What is the capital of France?</strong></p>\n",
       "        \n",
       "        <label style=\"color: white;\">\n",
       "            <input type=\"radio\" name=\"qq1\" value=\"Paris\"\n",
       "            onclick=\"checkAnswer(this, 'Paris', '', 'feedback-q1')\"> Paris\n",
       "        </label><br>\n",
       "        \n",
       "        <label style=\"color: white;\">\n",
       "            <input type=\"radio\" name=\"qq1\" value=\"London\"\n",
       "            onclick=\"checkAnswer(this, 'Paris', 'London is the capital of the UK', 'feedback-q1')\"> London\n",
       "        </label><br>\n",
       "        \n",
       "        <label style=\"color: white;\">\n",
       "            <input type=\"radio\" name=\"qq1\" value=\"Berlin\"\n",
       "            onclick=\"checkAnswer(this, 'Paris', 'Berlin is the capital of Germany', 'feedback-q1')\"> Berlin\n",
       "        </label><br>\n",
       "        \n",
       "        <label style=\"color: white;\">\n",
       "            <input type=\"radio\" name=\"qq1\" value=\"Madrid\"\n",
       "            onclick=\"checkAnswer(this, 'Paris', 'Madrid is the capital of Spain', 'feedback-q1')\"> Madrid\n",
       "        </label><br>\n",
       "        \n",
       "        <p id=\"feedback-q1\" style=\"font-weight: bold;\"></p>\n",
       "        <p class=\"mcq-answer-q1\" style=\"display: none; font-weight: bold; color: red;\">\n",
       "            ✔ Correct Answer: Paris\n",
       "        </p>\n",
       "    </div>\n",
       "\n",
       "    <script>\n",
       "    function checkAnswer(element, correct, explanation, feedbackId) {\n",
       "        let feedback = document.getElementById(feedbackId);\n",
       "        if (element.value === correct) {\n",
       "            feedback.innerHTML = \"✅ Correct!\";\n",
       "            feedback.style.color = \"#a8d480\";\n",
       "        } else {\n",
       "            feedback.innerHTML = \"❌ Incorrect! \" + explanation;\n",
       "            feedback.style.color = \"#EE4B2B\";\n",
       "        }\n",
       "    }\n",
       "    </script>\n",
       "    "
      ],
      "text/plain": [
       "<IPython.core.display.HTML object>"
      ]
     },
     "metadata": {},
     "output_type": "display_data"
    }
   ],
   "source": [
    "%run ../src/lib.py\n",
    "flip_card(\"q1\", \"What is 2 + 2?\", \"4\")\n",
    "multiple_choice_question(\n",
    "    \"q1\",\n",
    "    \"What is the capital of France?\",\n",
    "    [\"Paris\", \"London\", \"Berlin\", \"Madrid\"],\n",
    "    \"Paris\",\n",
    "    {\n",
    "        \"London\": \"London is the capital of the UK\",\n",
    "        \"Berlin\": \"Berlin is the capital of Germany\",\n",
    "        \"Madrid\": \"Madrid is the capital of Spain\",\n",
    "    },\n",
    ")"
   ]
  },
  {
   "cell_type": "markdown",
   "id": "ec9a9a1d",
   "metadata": {},
   "source": [
    "## References\n",
    "Cite papers with {cite}`Heumos2023` in the text, while `Heumos2023` corresponds to the id in `template.bib`.\n",
    "Add the `.bib` file to `bibtex_bibfiles:` in `_config.yml`.\n",
    "Add a bibliography at the end of the chapter using the following syntax:\n",
    "\n",
    "```{bibliography}\n",
    ":filter: docname in docnames\n",
    "```\n",
    "\n",
    "Helpful Links: \n",
    "- https://jupyterbook.org/en/stable/content/citations.html#basic-citations"
   ]
  },
  {
   "cell_type": "markdown",
   "id": "d6bc6faf",
   "metadata": {},
   "source": [
    "## Contributors\n",
    "\n",
    "We gratefully acknowledge the contributions of:\n",
    "\n",
    "### Authors\n",
    "\n",
    "* autor name 1\n",
    "* autor name 2\n",
    "* ...\n",
    "\n",
    "### Reviewers\n",
    "\n",
    "* reviewer name 1\n",
    "* ..."
   ]
  }
 ],
 "metadata": {
  "kernelspec": {
   "display_name": "Python 3",
   "language": "python",
   "name": "python3"
  },
  "language_info": {
   "codemirror_mode": {
    "name": "ipython",
    "version": 3
   },
   "file_extension": ".py",
   "mimetype": "text/x-python",
   "name": "python",
   "nbconvert_exporter": "python",
   "pygments_lexer": "ipython3",
   "version": "3.12.0"
  }
 },
 "nbformat": 4,
 "nbformat_minor": 5
}

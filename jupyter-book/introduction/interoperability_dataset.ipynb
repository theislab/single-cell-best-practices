{
 "cells": [
  {
   "cell_type": "markdown",
   "metadata": {},
   "source": [
    "# Interoperability- Preparing the MuData dataset"
   ]
  },
  {
   "cell_type": "code",
   "execution_count": 1,
   "metadata": {},
   "outputs": [
    {
     "name": "stderr",
     "output_type": "stream",
     "text": [
      "/Users/seohyon/miniconda3/envs/interoperability/lib/python3.12/site-packages/mudata/_core/mudata.py:1531: FutureWarning: From 0.4 .update() will not pull obs/var columns from individual modalities by default anymore. Set mudata.set_options(pull_on_update=False) to adopt the new behaviour, which will become the default. Use new pull_obs/pull_var and push_obs/push_var methods for more flexibility.\n",
      "  self._update_attr(\"var\", axis=0, join_common=join_common)\n",
      "/Users/seohyon/miniconda3/envs/interoperability/lib/python3.12/site-packages/mudata/_core/mudata.py:1429: FutureWarning: From 0.4 .update() will not pull obs/var columns from individual modalities by default anymore. Set mudata.set_options(pull_on_update=False) to adopt the new behaviour, which will become the default. Use new pull_obs/pull_var and push_obs/push_var methods for more flexibility.\n",
      "  self._update_attr(\"obs\", axis=1, join_common=join_common)\n",
      "/Users/seohyon/miniconda3/envs/interoperability/lib/python3.12/site-packages/mudata/_core/mudata.py:1531: FutureWarning: From 0.4 .update() will not pull obs/var columns from individual modalities by default anymore. Set mudata.set_options(pull_on_update=False) to adopt the new behaviour, which will become the default. Use new pull_obs/pull_var and push_obs/push_var methods for more flexibility.\n",
      "  self._update_attr(\"var\", axis=0, join_common=join_common)\n",
      "/Users/seohyon/miniconda3/envs/interoperability/lib/python3.12/site-packages/mudata/_core/mudata.py:1429: FutureWarning: From 0.4 .update() will not pull obs/var columns from individual modalities by default anymore. Set mudata.set_options(pull_on_update=False) to adopt the new behaviour, which will become the default. Use new pull_obs/pull_var and push_obs/push_var methods for more flexibility.\n",
      "  self._update_attr(\"obs\", axis=1, join_common=join_common)\n"
     ]
    }
   ],
   "source": [
    "import numpy as np\n",
    "from anndata import AnnData\n",
    "from mudata import MuData\n",
    "\n",
    "# Use modern random number generation\n",
    "rng = np.random.default_rng(seed=1)\n",
    "\n",
    "# create random data\n",
    "n, d, k = 1000, 100, 10\n",
    "z = rng.normal(loc=np.arange(k), scale=np.arange(k) * 2, size=(n, k))\n",
    "w = rng.normal(size=(d, k))\n",
    "y = np.dot(z, w.T)\n",
    "\n",
    "# create AnnData from the matrix\n",
    "adata = AnnData(y)\n",
    "adata.obs_names = [f\"obs_{i + 1}\" for i in range(n)]\n",
    "adata.var_names = [f\"var_{j + 1}\" for j in range(d)]\n",
    "\n",
    "if adata.obs.shape[1] == 0:\n",
    "    adata.obs[\"dummy_obs\"] = \"placeholder\"\n",
    "\n",
    "if adata.var.shape[1] == 0:\n",
    "    adata.var[\"dummy_var\"] = \"placeholder\"\n",
    "\n",
    "# second AnnData object\n",
    "d2 = 50\n",
    "w2 = rng.normal(size=(d2, k))\n",
    "y2 = np.dot(z, w2.T)\n",
    "\n",
    "adata2 = AnnData(y2)\n",
    "adata2.obs_names = [f\"obs_{i + 1}\" for i in range(n)]\n",
    "adata2.var_names = [f\"var2_{j + 1}\" for j in range(d2)]\n",
    "\n",
    "if adata2.obs.shape[1] == 0:\n",
    "    adata2.obs[\"dummy_obs\"] = \"placeholder\"\n",
    "\n",
    "if adata2.var.shape[1] == 0:\n",
    "    adata2.var[\"dummy_var\"] = \"placeholder\"\n",
    "\n",
    "mdata = MuData({\"A\": adata, \"B\": adata2})\n",
    "mdata.write(\"../interoperability_mdata.h5mu\")"
   ]
  }
 ],
 "metadata": {
  "kernelspec": {
   "display_name": "interoperability",
   "language": "python",
   "name": "python3"
  },
  "language_info": {
   "codemirror_mode": {
    "name": "ipython",
    "version": 3
   },
   "file_extension": ".py",
   "mimetype": "text/x-python",
   "name": "python",
   "nbconvert_exporter": "python",
   "pygments_lexer": "ipython3",
   "version": "3.12.9"
  }
 },
 "nbformat": 4,
 "nbformat_minor": 2
}
